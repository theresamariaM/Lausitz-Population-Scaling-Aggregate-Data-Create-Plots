{
 "cells": [
  {
   "cell_type": "code",
   "execution_count": 1,
   "id": "9f710bdc",
   "metadata": {},
   "outputs": [],
   "source": [
    "import xml.etree.ElementTree as ET\n",
    "import gzip\n",
    "import pandas as pd\n",
    "import csv\n",
    "import duckdb\n",
    "import numpy as np"
   ]
  },
  {
   "cell_type": "markdown",
   "id": "2f3e7a82",
   "metadata": {},
   "source": [
    "## 100 pct"
   ]
  },
  {
   "cell_type": "code",
   "execution_count": null,
   "id": "4bbbd111",
   "metadata": {},
   "outputs": [],
   "source": [
    "pathToPlans100pct = \"/home/lola/Nextcloud/Masterarbeit/03_Outputs_From_RunsLausitz/output-lausitz-100.0-pct-fCf_sCF_1.0_gS_4711_3765/lausitz-100.0-pct-fCf_sCF_1.0_gS_4711_3765.output_events.xml\"\n",
    "tree = ET.iterparse(pathToPlans100pct, events=[\"start\", \"end\"])\n",
    "_, root = next(tree)\n",
    "\n",
    "with open('/home/lola/Nextcloud/Masterarbeit/03_Outputs/departures_100pct.csv', 'w', newline='') as csvfile:\n",
    "    fieldnames = [\"time\",\"type\", \"person\", \"link\", \"legMode\"]\n",
    "    writer = csv.DictWriter(csvfile, fieldnames=fieldnames)\n",
    "    writer.writeheader()\n",
    "\n",
    "    for event, elem in tree:\n",
    "\n",
    "        if event == \"end\" and elem.tag == \"event\":\n",
    "            if(elem.attrib['type'] == \"departure\" and elem.attrib['legMode'] == \"car\"):\n",
    "                myDict = {key: elem.attrib[key] for key in fieldnames}\n",
    "                writer.writerow(myDict)\n",
    "            \n",
    "        root.clear()"
   ]
  },
  {
   "cell_type": "code",
   "execution_count": 6,
   "id": "2f4d75e9",
   "metadata": {},
   "outputs": [],
   "source": [
    "pathToPlans100pct = \"/home/lola/Nextcloud/Masterarbeit/03_Outputs_From_RunsLausitz/output-lausitz-100.0-pct-fCf_sCF_1.0_gS_4711_3765/lausitz-100.0-pct-fCf_sCF_1.0_gS_4711_3765.output_events.xml\"\n",
    "tree = ET.iterparse(pathToPlans100pct, events=[\"start\", \"end\"])\n",
    "_, root = next(tree)\n",
    "\n",
    "with open('/home/lola/Nextcloud/Masterarbeit/03_Outputs/arrivals_100pct.csv', 'w', newline='') as csvfile:\n",
    "    fieldnames = [\"time\",\"type\", \"person\", \"link\", \"legMode\"]\n",
    "    writer = csv.DictWriter(csvfile, fieldnames=fieldnames)\n",
    "    writer.writeheader()\n",
    "\n",
    "    for event, elem in tree:\n",
    "\n",
    "        if event == \"end\" and elem.tag == \"event\":\n",
    "            if(elem.attrib['type'] == \"arrival\" and elem.attrib['legMode'] == \"car\"):\n",
    "                myDict = {key: elem.attrib[key] for key in fieldnames}\n",
    "                writer.writerow(myDict)\n",
    "            \n",
    "        root.clear()"
   ]
  },
  {
   "cell_type": "code",
   "execution_count": 2,
   "id": "6efdb292",
   "metadata": {},
   "outputs": [],
   "source": [
    "def networkInfoToDf(pathToNetwork):\n",
    "    input = gzip.open(pathToNetwork, 'r')\n",
    "    tree = ET.parse(input)\n",
    "    root = tree.getroot()\n",
    "    # convert network to data frame \n",
    "    ids = []\n",
    "    length = []\n",
    "    freespeed = []\n",
    "    capacity = []\n",
    "    type_of_link = []\n",
    "\n",
    "    for links in root.findall('links'):\n",
    "        for link in links:\n",
    "            #print(link.tag, link.attrib)\n",
    "            ids.append(link.attrib['id'])\n",
    "            length.append(float(link.attrib['length']))\n",
    "            freespeed.append(float(link.attrib['freespeed']))\n",
    "            capacity.append(float(link.attrib['capacity']))\n",
    "            type_counter = 0\n",
    "            for child in link:\n",
    "                for attr in child:\n",
    "                    if (attr.attrib['name'] == \"type\"):\n",
    "                        try:\n",
    "                            type_of_link.append(attr.text)\n",
    "                            type_counter = 1\n",
    "                        except:\n",
    "                            type_of_link.append('NA')\n",
    "            if(type_counter == 0):\n",
    "                type_of_link.append('NA')\n",
    "    network_df = pd.DataFrame({'link_id': ids, 'length': length, 'freespeed': freespeed, 'capacity': capacity, 'type': type_of_link })\n",
    "    return network_df"
   ]
  },
  {
   "cell_type": "code",
   "execution_count": 3,
   "id": "bcc193ab",
   "metadata": {},
   "outputs": [],
   "source": [
    "pathToNetwork = \"/home/lola/Downloads/lausitz-v2024.2-network.xml.gz\"\n",
    "df_network = networkInfoToDf(pathToNetwork)\n",
    "df_network = df_network[(df_network['type']== \"highway.secondary\") | (df_network['type']== \"highway.tertiary\") | (df_network['type']== \"highway.residential\")]\n",
    "relevant_links = set(df_network['link_id'])"
   ]
  },
  {
   "cell_type": "code",
   "execution_count": null,
   "id": "aabfa3d8",
   "metadata": {},
   "outputs": [],
   "source": [
    "pathToEvents100pct = \"/home/lola/Nextcloud/Masterarbeit/03_Outputs_From_RunsLausitz/output-lausitz-100.0-pct-fCf_sCF_1.0_gS_4711_3765/lausitz-100.0-pct-fCf_sCF_1.0_gS_4711_3765.output_events.xml\"\n",
    "tree = ET.iterparse(pathToEvents100pct, events=[\"start\", \"end\"])\n",
    "_, root = next(tree)\n",
    "\n",
    "with open('/home/lola/Nextcloud/Masterarbeit/03_Outputs/Link_enter_100pct.csv', 'w', newline='') as csvfile:\n",
    "    fieldnames = [\"time\",\"type\", \"vehicle\", \"link\"]\n",
    "    writer = csv.DictWriter(csvfile, fieldnames=fieldnames)\n",
    "    writer.writeheader()\n",
    "\n",
    "    for event, elem in tree:\n",
    "\n",
    "        if event == \"end\" and elem.tag == \"event\":\n",
    "            if(elem.attrib['type'] == \"entered link\"):\n",
    "                link_id = elem.attrib['link']\n",
    "                if(\"pt_\" in elem.attrib['link']):\n",
    "                    continue\n",
    "                if relevant_links and link_id not in relevant_links:\n",
    "                    continue\n",
    "                myDict = {key: elem.attrib[key] for key in fieldnames}\n",
    "                writer.writerow(myDict)\n",
    "\n",
    "        root.clear()"
   ]
  },
  {
   "cell_type": "code",
   "execution_count": 16,
   "id": "5690cd07",
   "metadata": {},
   "outputs": [],
   "source": [
    "pathToPlans100pct = \"/home/lola/Nextcloud/Masterarbeit/03_Outputs_From_RunsLausitz/output-lausitz-100.0-pct-fCf_sCF_1.0_gS_4711_3765/lausitz-100.0-pct-fCf_sCF_1.0_gS_4711_3765.output_events.xml\"\n",
    "tree = ET.iterparse(pathToPlans100pct, events=[\"start\", \"end\"])\n",
    "_, root = next(tree)\n",
    "\n",
    "with open('/home/lola/Nextcloud/Masterarbeit/03_Outputs/Link_leave_100pct.csv', 'w', newline='') as csvfile:\n",
    "    fieldnames = [\"time\",\"type\", \"vehicle\", \"link\"]\n",
    "    writer = csv.DictWriter(csvfile, fieldnames=fieldnames)\n",
    "    writer.writeheader()\n",
    "\n",
    "    for event, elem in tree:\n",
    "\n",
    "        if event == \"end\" and elem.tag == \"event\":\n",
    "            if(elem.attrib['type'] == \"left link\"):\n",
    "                link_id = elem.attrib['link']\n",
    "                if(\"pt_\" in elem.attrib['link']):\n",
    "                    continue\n",
    "                if relevant_links and link_id not in relevant_links:\n",
    "                    continue\n",
    "                myDict = {key: elem.attrib[key] for key in fieldnames}\n",
    "                writer.writerow(myDict)\n",
    "\n",
    "        root.clear()"
   ]
  },
  {
   "cell_type": "code",
   "execution_count": null,
   "id": "87d918fb",
   "metadata": {},
   "outputs": [],
   "source": [
    "arrivals = pd.read_csv('/home/lola/Nextcloud/Masterarbeit/03_Outputs/arrivals_100pct.csv')\n",
    "departures = pd.read_csv('/home/lola/Nextcloud/Masterarbeit/03_Outputs/departures_100pct.csv')\n",
    "\n",
    "arrivals = arrivals[(arrivals['link'].str.contains(\"pt_\")) == False]\n",
    "departures = departures[(departures['link'].str.contains(\"pt_\")) == False]\n",
    "\n",
    "arr = arrivals.reset_index().rename(columns={'index': 'arr_idx'})\n",
    "dep = departures.reset_index().rename(columns={'index': 'dep_idx'})\n",
    "\n",
    "dep['trip_order'] = dep.groupby('person').cumcount()\n",
    "arr['trip_order'] = arr.groupby('person').cumcount()\n",
    "df_dep_arr = pd.merge(\n",
    "    dep,\n",
    "    arr,\n",
    "    on=['person', 'trip_order'],\n",
    "    suffixes=('_dep', '_arr')\n",
    ")\n",
    "\n",
    "df_dep_arr['car_trip_id'] = df_dep_arr.groupby('person').cumcount().add(1).astype(str)\n",
    "df_dep_arr['car_trip_id'] = df_dep_arr['person'] + \"_\" + df_dep_arr['car_trip_id']\n",
    "df_dep_arr['vehicle_id'] = df_dep_arr['person'] + \"_car\"\n",
    "df_dep_arr = df_dep_arr[['person', 'vehicle_id', 'car_trip_id',\n",
    "                        'time_dep', 'link_dep', 'time_arr', 'link_arr']].copy()\n",
    "\n",
    "df_dep_arr = df_dep_arr.rename(columns={\n",
    "    'time_dep': 'dep_time',\n",
    "    'link_dep': 'dep_link',\n",
    "    'time_arr': 'arr_time',\n",
    "    'link_arr': 'arr_link'\n",
    "})\n",
    "\n",
    "df_dep_arr['travel_time_car'] = df_dep_arr['arr_time'] - df_dep_arr['dep_time']"
   ]
  },
  {
   "cell_type": "code",
   "execution_count": 5,
   "id": "3cf0da1d",
   "metadata": {},
   "outputs": [],
   "source": [
    "df_Routes = pd.read_csv(\"/home/lola/Nextcloud/Masterarbeit/03_Outputs/lausitz-v2024.2-100.0-pct-plans.csv\", sep = \",\", names = ['person', 'vehicle_id', 'trip_id', 'start_link', 'end_link', 'route_link'])"
   ]
  },
  {
   "cell_type": "code",
   "execution_count": 7,
   "id": "ed8010eb",
   "metadata": {},
   "outputs": [],
   "source": [
    "def DepAndArrivalsToRoute(df_TripFromPlan, df_travTime):\n",
    "    duckdb_conn = duckdb.connect() \n",
    "    duckdb_conn.register(\"df_TripFromPlan\", df_TripFromPlan) \n",
    "    duckdb_conn.register(\"df_travTime\", df_travTime) \n",
    "\n",
    "    #     m.trav_time_in_exp_plan_seconds,\n",
    "    df_result= duckdb_conn.query(\"\"\"SELECT \n",
    "        m.person,\n",
    "        m.vehicle_id,\n",
    "        m.trip_id,\n",
    "        m.start_link,\n",
    "        m.end_link,\n",
    "        m.route_link,\n",
    "        s1.dep_time,\n",
    "        s1.arr_time,\n",
    "        s1.travel_time_car                                             \n",
    "    FROM df_TripFromPlan m\n",
    "    LEFT JOIN df_travTime s1 \n",
    "        ON m.trip_id = s1.car_trip_id\n",
    "        AND m.vehicle_id = s1.Vehicle_id\n",
    "        AND m.start_link = s1.dep_link\n",
    "        AND m.end_link = s1.arr_link ;\n",
    "                        \"\"\").to_df()\n",
    "    duckdb_conn.close()\n",
    "    return df_result\n"
   ]
  },
  {
   "cell_type": "code",
   "execution_count": 7,
   "id": "2f0f83cc",
   "metadata": {},
   "outputs": [],
   "source": [
    "df_Route_trav_time = DepAndArrivalsToRoute(df_Routes, df_dep_arr)"
   ]
  },
  {
   "cell_type": "code",
   "execution_count": 9,
   "id": "8a7b95b3",
   "metadata": {},
   "outputs": [],
   "source": [
    "df_Route_trav_time.to_csv(\"/home/lola/Nextcloud/Masterarbeit/03_Outputs/df_routes_dep_and_arr.csv\", index = False)"
   ]
  },
  {
   "cell_type": "code",
   "execution_count": 5,
   "id": "a7915d7f",
   "metadata": {},
   "outputs": [],
   "source": [
    "df_Route_trav_time = pd.read_csv(\"/home/lola/Nextcloud/Masterarbeit/03_Outputs/df_routes_dep_and_arr.csv\")"
   ]
  },
  {
   "cell_type": "code",
   "execution_count": 6,
   "id": "2117ff4c",
   "metadata": {},
   "outputs": [],
   "source": [
    "df_Route_trav_time = pd.merge(df_Route_trav_time, df_network[['link_id', 'length', 'freespeed', 'type']], left_on=\"route_link\", right_on=\"link_id\", how = \"left\")"
   ]
  },
  {
   "cell_type": "code",
   "execution_count": 7,
   "id": "7a16f165",
   "metadata": {},
   "outputs": [],
   "source": [
    "df_Route_trav_time.to_csv(\"/home/lola/Nextcloud/Masterarbeit/03_Outputs/df_routes_dep_and_arr.csv\", index = False)"
   ]
  },
  {
   "cell_type": "markdown",
   "id": "43beb1a7",
   "metadata": {},
   "source": [
    "## 50 pct"
   ]
  },
  {
   "cell_type": "code",
   "execution_count": 4,
   "id": "585b9ca5",
   "metadata": {},
   "outputs": [],
   "source": [
    "pathToPlans50pct = \"/home/lola/Nextcloud/Masterarbeit/03_Outputs_From_RunsLausitz/lausitz-50.0-pct-fCf_sCF_0.5_gS_4711_3765.output_events.xml\"\n",
    "tree = ET.iterparse(pathToPlans50pct, events=[\"start\", \"end\"])\n",
    "_, root = next(tree)\n",
    "\n",
    "with open('/home/lola/Nextcloud/Masterarbeit/03_Outputs/departures_50pct_case_1.csv', 'w', newline='') as csvfile:\n",
    "    fieldnames = [\"time\",\"type\", \"person\", \"link\", \"legMode\"]\n",
    "    writer = csv.DictWriter(csvfile, fieldnames=fieldnames)\n",
    "    writer.writeheader()\n",
    "\n",
    "    for event, elem in tree:\n",
    "\n",
    "        if event == \"end\" and elem.tag == \"event\":\n",
    "            if(elem.attrib['type'] == \"departure\" and elem.attrib['legMode'] == \"car\"):\n",
    "                myDict = {key: elem.attrib[key] for key in fieldnames}\n",
    "                writer.writerow(myDict)\n",
    "            \n",
    "        root.clear()"
   ]
  },
  {
   "cell_type": "code",
   "execution_count": 5,
   "id": "a707abb6",
   "metadata": {},
   "outputs": [],
   "source": [
    "pathToPlans50pct = \"/home/lola/Nextcloud/Masterarbeit/03_Outputs_From_RunsLausitz/lausitz-50.0-pct-fCf_sCF_0.5_gS_4711_3765.output_events.xml\"\n",
    "tree = ET.iterparse(pathToPlans50pct, events=[\"start\", \"end\"])\n",
    "_, root = next(tree)\n",
    "\n",
    "with open('/home/lola/Nextcloud/Masterarbeit/03_Outputs/arrivals_50pct_case_1.csv', 'w', newline='') as csvfile:\n",
    "    fieldnames = [\"time\",\"type\", \"person\", \"link\", \"legMode\"]\n",
    "    writer = csv.DictWriter(csvfile, fieldnames=fieldnames)\n",
    "    writer.writeheader()\n",
    "\n",
    "    for event, elem in tree:\n",
    "\n",
    "        if event == \"end\" and elem.tag == \"event\":\n",
    "            if(elem.attrib['type'] == \"arrival\" and elem.attrib['legMode'] == \"car\"):\n",
    "                myDict = {key: elem.attrib[key] for key in fieldnames}\n",
    "                writer.writerow(myDict)\n",
    "            \n",
    "        root.clear()"
   ]
  },
  {
   "cell_type": "code",
   "execution_count": 8,
   "id": "b6faa12d",
   "metadata": {},
   "outputs": [],
   "source": [
    "pathToEvents50pct = \"/home/lola/Nextcloud/Masterarbeit/03_Outputs_From_RunsLausitz/lausitz-50.0-pct-fCf_sCF_0.5_gS_4711_3765.output_events.xml\"\n",
    "tree = ET.iterparse(pathToEvents50pct, events=[\"start\", \"end\"])\n",
    "_, root = next(tree)\n",
    "\n",
    "with open('/home/lola/Nextcloud/Masterarbeit/03_Outputs/Link_enter_50pct.csv', 'w', newline='') as csvfile:\n",
    "    fieldnames = [\"time\",\"type\", \"vehicle\", \"link\"]\n",
    "    writer = csv.DictWriter(csvfile, fieldnames=fieldnames)\n",
    "    writer.writeheader()\n",
    "\n",
    "    for event, elem in tree:\n",
    "\n",
    "        if event == \"end\" and elem.tag == \"event\":\n",
    "            if(elem.attrib['type'] == \"entered link\"):\n",
    "                link_id = elem.attrib['link']\n",
    "                if(\"pt_\" in elem.attrib['link']):\n",
    "                    continue\n",
    "                if relevant_links and link_id not in relevant_links:\n",
    "                    continue\n",
    "                myDict = {key: elem.attrib[key] for key in fieldnames}\n",
    "                writer.writerow(myDict)\n",
    "\n",
    "        root.clear()"
   ]
  },
  {
   "cell_type": "code",
   "execution_count": 9,
   "id": "2e37927c",
   "metadata": {},
   "outputs": [],
   "source": [
    "pathToPlans50pct = \"/home/lola/Nextcloud/Masterarbeit/03_Outputs_From_RunsLausitz/lausitz-50.0-pct-fCf_sCF_0.5_gS_4711_3765.output_events.xml\"\n",
    "tree = ET.iterparse(pathToPlans50pct, events=[\"start\", \"end\"])\n",
    "_, root = next(tree)\n",
    "\n",
    "with open('/home/lola/Nextcloud/Masterarbeit/03_Outputs/Link_leave_50pct.csv', 'w', newline='') as csvfile:\n",
    "    fieldnames = [\"time\",\"type\", \"vehicle\", \"link\"]\n",
    "    writer = csv.DictWriter(csvfile, fieldnames=fieldnames)\n",
    "    writer.writeheader()\n",
    "\n",
    "    for event, elem in tree:\n",
    "\n",
    "        if event == \"end\" and elem.tag == \"event\":\n",
    "            if(elem.attrib['type'] == \"left link\"):\n",
    "                link_id = elem.attrib['link']\n",
    "                if(\"pt_\" in elem.attrib['link']):\n",
    "                    continue\n",
    "                if relevant_links and link_id not in relevant_links:\n",
    "                    continue\n",
    "                myDict = {key: elem.attrib[key] for key in fieldnames}\n",
    "                writer.writerow(myDict)\n",
    "\n",
    "        root.clear()"
   ]
  },
  {
   "cell_type": "code",
   "execution_count": 4,
   "id": "dfc338f3",
   "metadata": {},
   "outputs": [],
   "source": [
    "arrivals = pd.read_csv('/home/lola/Nextcloud/Masterarbeit/03_Outputs/arrivals_50pct_case_1.csv')\n",
    "departures = pd.read_csv('/home/lola/Nextcloud/Masterarbeit/03_Outputs/departures_50pct_case_1.csv')\n",
    "\n",
    "arrivals = arrivals[(arrivals['link'].str.contains(\"pt_\")) == False]\n",
    "departures = departures[(departures['link'].str.contains(\"pt_\")) == False]\n",
    "\n",
    "arr = arrivals.reset_index().rename(columns={'index': 'arr_idx'})\n",
    "dep = departures.reset_index().rename(columns={'index': 'dep_idx'})\n",
    "\n",
    "dep['trip_order'] = dep.groupby('person').cumcount()\n",
    "arr['trip_order'] = arr.groupby('person').cumcount()\n",
    "df_dep_arr = pd.merge(\n",
    "    dep,\n",
    "    arr,\n",
    "    on=['person', 'trip_order'],\n",
    "    suffixes=('_dep', '_arr')\n",
    ")\n",
    "\n",
    "df_dep_arr['car_trip_id'] = df_dep_arr.groupby('person').cumcount().add(1).astype(str)\n",
    "df_dep_arr['car_trip_id'] = df_dep_arr['person'] + \"_\" + df_dep_arr['car_trip_id']\n",
    "df_dep_arr['vehicle_id'] = df_dep_arr['person'] + \"_car\"\n",
    "df_dep_arr = df_dep_arr[['person', 'vehicle_id', 'car_trip_id',\n",
    "                        'time_dep', 'link_dep', 'time_arr', 'link_arr']].copy()\n",
    "\n",
    "df_dep_arr = df_dep_arr.rename(columns={\n",
    "    'time_dep': 'dep_time',\n",
    "    'link_dep': 'dep_link',\n",
    "    'time_arr': 'arr_time',\n",
    "    'link_arr': 'arr_link'\n",
    "})\n",
    "\n",
    "df_dep_arr['travel_time_car'] = df_dep_arr['arr_time'] - df_dep_arr['dep_time']"
   ]
  },
  {
   "cell_type": "code",
   "execution_count": 5,
   "id": "8f040c6a",
   "metadata": {},
   "outputs": [],
   "source": [
    "df_Routes = pd.read_csv(\"/home/lola/Nextcloud/Masterarbeit/03_Outputs/lausitz-v2024.2-50.0-pct-plans-case-1.csv\", sep = \",\", names = ['person', 'vehicle_id', 'trip_id', 'start_link', 'end_link', 'route_link'])"
   ]
  },
  {
   "cell_type": "code",
   "execution_count": 8,
   "id": "06da6f2e",
   "metadata": {},
   "outputs": [],
   "source": [
    "df_Route_trav_time_50pct = DepAndArrivalsToRoute(df_Routes, df_dep_arr)"
   ]
  },
  {
   "cell_type": "code",
   "execution_count": 9,
   "id": "e4bc9fac",
   "metadata": {},
   "outputs": [],
   "source": [
    "df_Route_trav_time_50pct = pd.merge(df_Route_trav_time_50pct, df_network[['link_id', 'length', 'freespeed', 'type']], left_on=\"route_link\", right_on=\"link_id\", how = \"left\")"
   ]
  },
  {
   "cell_type": "code",
   "execution_count": 10,
   "id": "af825442",
   "metadata": {},
   "outputs": [],
   "source": [
    "df_Route_trav_time_50pct.to_csv(\"/home/lola/Nextcloud/Masterarbeit/03_Outputs/df_routes_dep_and_arr_50pct_case1.csv\", index = False)"
   ]
  }
 ],
 "metadata": {
  "kernelspec": {
   "display_name": "Python 3",
   "language": "python",
   "name": "python3"
  },
  "language_info": {
   "codemirror_mode": {
    "name": "ipython",
    "version": 3
   },
   "file_extension": ".py",
   "mimetype": "text/x-python",
   "name": "python",
   "nbconvert_exporter": "python",
   "pygments_lexer": "ipython3",
   "version": "3.13.5"
  }
 },
 "nbformat": 4,
 "nbformat_minor": 5
}
