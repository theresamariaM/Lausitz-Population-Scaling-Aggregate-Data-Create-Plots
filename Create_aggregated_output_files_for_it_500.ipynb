{
 "cells": [
  {
   "cell_type": "markdown",
   "metadata": {},
   "source": [
    "## Aggregate all necessary output files into reference datasets"
   ]
  },
  {
   "cell_type": "markdown",
   "metadata": {},
   "source": [
    "### 0. Import necessary packages"
   ]
  },
  {
   "cell_type": "code",
   "execution_count": 2,
   "metadata": {},
   "outputs": [],
   "source": [
    "import matsim\n",
    "import os \n",
    "import pandas as pd\n",
    "#import plotly.express as px \n",
    "# AttributeError: module 'numpy' has no attribute 'bool8'\n",
    "import plotly.graph_objects as go\n",
    "import matplotlib.pyplot as plt\n",
    "from plotly.subplots import make_subplots\n",
    "from collections import defaultdict\n",
    "import plotly\n",
    "import kaleido\n",
    "%matplotlib inline\n",
    "import plotly.io as pio\n"
   ]
  },
  {
   "cell_type": "markdown",
   "metadata": {},
   "source": [
    "## 1. Runtime\n"
   ]
  },
  {
   "cell_type": "markdown",
   "metadata": {},
   "source": [
    "####  Import run_info.csv for all sample sizes, alpha and stuck-time values and create data frames with relevent specifications:"
   ]
  },
  {
   "cell_type": "markdown",
   "metadata": {},
   "source": [
    "#### 1 pct\n"
   ]
  },
  {
   "cell_type": "code",
   "execution_count": 3,
   "metadata": {},
   "outputs": [],
   "source": [
    "run_time_1pct = []\n",
    "for elem in range(1,11,1):\n",
    "    path = \"/home/lola/math_cluster/output/output-lausitz-1pct-\" + str(elem) + \"-fCf_sCF_0.01_gS_default_3765/analysis/general/run_info.csv\"\n",
    "    temp = pd.read_csv(path, sep=\",\")\n",
    "    start= pd.Timestamp(temp.iloc[6,1])\n",
    "    end= pd.Timestamp(temp.iloc[7,1])\n",
    "    diff = end - start\n",
    "    run_time_1pct.append(diff)\n",
    "run_time_1pct = pd.DataFrame({'runtime': run_time_1pct})\n",
    "run_time_1pct.insert(1, 'sample_size', \"1-pct\")\n",
    "run_time_1pct.insert(2, 'alpha', 1.0)\n",
    "run_time_1pct.insert(3, 'stuck_time', 30.0)\n",
    "run_time_1pct.insert(4,'global_seed', \"default\") "
   ]
  },
  {
   "cell_type": "code",
   "execution_count": 4,
   "metadata": {},
   "outputs": [],
   "source": [
    "run_time_1pct_sCf = []\n",
    "for elem in range(1,11,1):\n",
    "    path = \"/home/lola/math_cluster/output/output-lausitz-1pct-\" + str(elem) + \"-fCf_0.01_sCF_0.03162_gS_default_3765/analysis/general/run_info.csv\"\n",
    "    temp = pd.read_csv(path, sep=\",\")\n",
    "    start= pd.Timestamp(temp.iloc[6,1])\n",
    "    end= pd.Timestamp(temp.iloc[7,1])\n",
    "    diff = end - start\n",
    "    run_time_1pct_sCf.append(diff)\n",
    "run_time_1pct_sCf = pd.DataFrame({'runtime': run_time_1pct_sCf})\n",
    "run_time_1pct_sCf.insert(1, 'sample_size', \"1-pct\")\n",
    "run_time_1pct_sCf.insert(2, 'alpha', 0.75)\n",
    "run_time_1pct_sCf.insert(3, 'stuck_time', 30.0)\n",
    "run_time_1pct_sCf.insert(4,'global_seed', \"default\") "
   ]
  },
  {
   "cell_type": "code",
   "execution_count": 5,
   "metadata": {},
   "outputs": [],
   "source": [
    "run_time_1pct_rGs = pd.DataFrame()\n",
    "\n",
    "rGs = [ 4711,3254, 2306, 6384,4338, 6003, 5502, 9377, 5621, 9002 ]\n",
    "for seed in rGs:\n",
    "    if (seed == 4711):\n",
    "        global_seed = \"rnd_\" + str(seed)\n",
    "        temp = {'runtime': run_time_1pct[\"runtime\"].iloc[0], 'sample_size': '1-pct', 'alpha': 1.0, 'stuck_time': 30.0, 'global_seed': global_seed  }\n",
    "        temp = pd.DataFrame(data=temp, index=[rGs.index(4711)])\n",
    "        run_time_1pct_rGs = pd.concat([run_time_1pct_rGs, temp])\n",
    "    elif (seed == 3254):\n",
    "        path =\"/home/lola/math_cluster/output/output-lausitz-1pct-1-fCf_sCF_0.01_gS_3254_3765/analysis/general/run_info.csv\"\n",
    "        temp = pd.read_csv(path, sep = \",\")\n",
    "        start= pd.Timestamp(temp.iloc[6,1])\n",
    "        end= pd.Timestamp(temp.iloc[7,1])\n",
    "        diff = end - start\n",
    "        temp2 = pd.DataFrame({'runtime': diff, 'sample_size': '1-pct', 'alpha': 1.0, 'stuck_time': 30.0, 'global_seed': \"rnd_\" + str(seed)  }, index = [rGs.index(3254)])\n",
    "        run_time_1pct_rGs = pd.concat([run_time_1pct_rGs, temp2], axis = 0)\n",
    "    else:\n",
    "        path = \"/home/lola/math_cluster/output/output-lausitz-1.0-pct-1-fCf_sCF_0.01_gS_\"+str(seed) + \"_3765/analysis/general/run_info.csv\"\n",
    "        temp = pd.read_csv(path, sep = \",\")\n",
    "        start= pd.Timestamp(temp.iloc[6,1])\n",
    "        end= pd.Timestamp(temp.iloc[7,1])\n",
    "        diff = end - start\n",
    "        temp2 = pd.DataFrame({'runtime': diff, 'sample_size': '1-pct', 'alpha': 1.0, 'stuck_time': 30.0, 'global_seed': \"rnd_\" + str(seed)  }, index = [rGs.index(seed)] )\n",
    "        run_time_1pct_rGs = pd.concat([run_time_1pct_rGs, temp2], axis = 0)"
   ]
  },
  {
   "cell_type": "code",
   "execution_count": 6,
   "metadata": {},
   "outputs": [],
   "source": [
    "run_time_1pct_sT = []\n",
    "for elem in range(1,11,1):\n",
    "    path = \"/home/lola/math_cluster/output/output-lausitz-1-pct-\"+str(elem)+\"-fCf_sCF_0.01_gS_4711_sT_3000.0_3765/analysis/general/run_info.csv\"\n",
    "    temp = pd.read_csv(path, sep = \",\")\n",
    "    start= pd.Timestamp(temp.iloc[6,1])\n",
    "    end= pd.Timestamp(temp.iloc[7,1])\n",
    "    diff = end - start\n",
    "    run_time_1pct_sT.append(diff)\n",
    "run_time_1pct_sT = pd.DataFrame({'runtime': run_time_1pct_sT})\n",
    "run_time_1pct_sT.insert(1, 'sample_size', \"1-pct\")\n",
    "run_time_1pct_sT.insert(2, 'alpha', 1.0)\n",
    "run_time_1pct_sT.insert(3, 'stuck_time', 3000.0)\n",
    "run_time_1pct_sT.insert(4,'global_seed', \"default\") "
   ]
  },
  {
   "cell_type": "code",
   "execution_count": 7,
   "metadata": {},
   "outputs": [],
   "source": [
    "run_time_1pct_sT_sCf = []\n",
    "for elem in range(1,11,1):\n",
    "    path = \"/home/lola/math_cluster/output/output-lausitz-1-pct-\"+str(elem)+\"-fCf_0.01_sCF_0.03162_gS_4711_sT_3000.0_3765/analysis/general/run_info.csv\"\n",
    "    temp = pd.read_csv(path, sep = \",\")\n",
    "    start= pd.Timestamp(temp.iloc[6,1])\n",
    "    end= pd.Timestamp(temp.iloc[7,1])\n",
    "    diff = end - start\n",
    "    run_time_1pct_sT_sCf.append(diff)\n",
    "run_time_1pct_sT_sCf = pd.DataFrame({'runtime': run_time_1pct_sT_sCf})\n",
    "run_time_1pct_sT_sCf.insert(1, 'sample_size', \"1-pct\")\n",
    "run_time_1pct_sT_sCf.insert(2, 'alpha', 0.75)\n",
    "run_time_1pct_sT_sCf.insert(3, 'stuck_time', 3000.0)\n",
    "run_time_1pct_sT_sCf.insert(4,'global_seed', \"default\")    \n",
    "    "
   ]
  },
  {
   "cell_type": "markdown",
   "metadata": {},
   "source": [
    "#### 5pct"
   ]
  },
  {
   "cell_type": "code",
   "execution_count": 8,
   "metadata": {},
   "outputs": [],
   "source": [
    "run_time_5pct = []\n",
    "for elem in range(1,11,1):\n",
    "    path = \"/home/lola/math_cluster/output/output-lausitz-5.0-pct-\" + str(elem) + \"-fCf_sCF_0.05_gS_4711_3765/analysis/general/run_info.csv\"\n",
    "    temp = pd.read_csv(path, sep=\",\")\n",
    "    start= pd.Timestamp(temp.iloc[6,1])\n",
    "    end= pd.Timestamp(temp.iloc[7,1])\n",
    "    diff = end - start\n",
    "    run_time_5pct.append(diff)\n",
    "run_time_5pct = pd.DataFrame({'runtime': run_time_5pct})\n",
    "run_time_5pct.insert(1, 'sample_size', \"5-pct\")\n",
    "run_time_5pct.insert(2, 'alpha', 1.0)\n",
    "run_time_5pct.insert(3, 'stuck_time', 30.0)\n",
    "run_time_5pct.insert(4,'global_seed', \"default\") "
   ]
  },
  {
   "cell_type": "code",
   "execution_count": 9,
   "metadata": {},
   "outputs": [],
   "source": [
    "run_time_5pct_sCf = []\n",
    "for elem in range(1,11,1):\n",
    "    path = \"/home/lola/math_cluster/output/output-lausitz-5.0-pct-\" + str(elem) + \"-fCf_0.05_sCF_0.10574_gS_4711_3765/analysis/general/run_info.csv\"\n",
    "    temp = pd.read_csv(path, sep=\",\")\n",
    "    start= pd.Timestamp(temp.iloc[6,1])\n",
    "    end= pd.Timestamp(temp.iloc[7,1])\n",
    "    diff = end - start\n",
    "    run_time_5pct_sCf.append(diff)\n",
    "run_time_5pct_sCf = pd.DataFrame({'runtime': run_time_5pct_sCf})\n",
    "run_time_5pct_sCf.insert(1, 'sample_size', \"5-pct\")\n",
    "run_time_5pct_sCf.insert(2, 'alpha', 0.75)\n",
    "run_time_5pct_sCf.insert(3, 'stuck_time', 30.0)\n",
    "run_time_5pct_sCf.insert(4,'global_seed', \"default\")"
   ]
  },
  {
   "cell_type": "code",
   "execution_count": 10,
   "metadata": {},
   "outputs": [],
   "source": [
    "run_time_5pct_rGs = pd.DataFrame()\n",
    "rGs = [4711, 3254, 2306, 6384,4338, 6003, 5502, 9377, 5621, 9002 ]\n",
    "\n",
    "for seed in rGs:\n",
    "    if (seed ==4711):\n",
    "        global_seed = \"rnd_\" + str(seed)\n",
    "        temp = {'runtime': run_time_5pct[\"runtime\"].iloc[0], 'sample_size': '5-pct', 'alpha': 1.0, 'stuck_time': 30.0, 'global_seed': global_seed  }\n",
    "        temp = pd.DataFrame(data=temp, index=[rGs.index(4711)])\n",
    "        run_time_5pct_rGs = pd.concat([run_time_5pct_rGs, temp])\n",
    "    else:\n",
    "        path = \"/home/lola/math_cluster/output/output-lausitz-5.0-pct-1-fCf_sCF_0.05_gS_\"+ str(seed) +\"_3765/analysis/general/run_info.csv\"\n",
    "        temp = pd.read_csv(path, sep = \",\")\n",
    "        start= pd.Timestamp(temp.iloc[6,1])\n",
    "        end= pd.Timestamp(temp.iloc[7,1])\n",
    "        diff = end - start\n",
    "        temp2 = pd.DataFrame({'runtime': diff, 'sample_size': '5-pct', 'alpha': 1.0, 'stuck_time': 30.0, 'global_seed': \"rnd_\" + str(seed)  }, index = [rGs.index(seed)])\n",
    "        run_time_5pct_rGs = pd.concat([run_time_5pct_rGs, temp2], axis = 0)"
   ]
  },
  {
   "cell_type": "code",
   "execution_count": 11,
   "metadata": {},
   "outputs": [],
   "source": [
    "run_time_5pct_sT = []\n",
    "for elem in range(1,11,1):\n",
    "    path = \"/home/lola/math_cluster/output/output-lausitz-5-pct-\"+ str(elem) +\"-fCf_sCF_0.05_gS_4711_sT_600.0_3765/analysis/general/run_info.csv\"\n",
    "    temp = pd.read_csv(path, sep = \",\")\n",
    "    start= pd.Timestamp(temp.iloc[6,1])\n",
    "    end= pd.Timestamp(temp.iloc[7,1])\n",
    "    diff = end - start\n",
    "    run_time_5pct_sT.append(diff)\n",
    "run_time_5pct_sT = pd.DataFrame({'runtime': run_time_5pct_sT})\n",
    "run_time_5pct_sT.insert(1, 'sample_size', \"5-pct\")\n",
    "run_time_5pct_sT.insert(2, 'alpha', 1.0)\n",
    "run_time_5pct_sT.insert(3, 'stuck_time', 600.0)\n",
    "run_time_5pct_sT.insert(4,'global_seed', \"default\")"
   ]
  },
  {
   "cell_type": "code",
   "execution_count": 12,
   "metadata": {},
   "outputs": [],
   "source": [
    "run_time_5pct_sT_sCf = []\n",
    "for elem in range(1,11,1):\n",
    "    path = \"/home/lola/math_cluster/output/output-lausitz-5-pct-\"+str(elem)+\"-fCf_0.05_sCF_0.10574_gS_4711_sT_600.0_3765/analysis/general/run_info.csv\"\n",
    "    temp = pd.read_csv(path,sep = \",\")\n",
    "    start= pd.Timestamp(temp.iloc[6,1])\n",
    "    end= pd.Timestamp(temp.iloc[7,1])\n",
    "    diff = end - start\n",
    "    run_time_5pct_sT_sCf.append(diff)\n",
    "run_time_5pct_sT_sCf = pd.DataFrame({'runtime': run_time_5pct_sT_sCf})\n",
    "run_time_5pct_sT_sCf.insert(1, 'sample_size', \"5-pct\")\n",
    "run_time_5pct_sT_sCf.insert(2, 'alpha', 0.75)\n",
    "run_time_5pct_sT_sCf.insert(3, 'stuck_time', 600.0)\n",
    "run_time_5pct_sT_sCf.insert(4,'global_seed', \"default\")\n",
    "    "
   ]
  },
  {
   "cell_type": "markdown",
   "metadata": {},
   "source": [
    "#### 10 pct #### \n"
   ]
  },
  {
   "cell_type": "code",
   "execution_count": 13,
   "metadata": {},
   "outputs": [],
   "source": [
    "run_time_10pct = []\n",
    "for elem in range(1,11,1):\n",
    "    path = \"/home/lola/math_cluster/output/output-lausitz-10.0-pct-\" + str(elem) + \"-fCf_sCF_0.1_gS_4711_3765/analysis/general/run_info.csv\"\n",
    "    temp = pd.read_csv(path, sep=\",\")\n",
    "    start= pd.Timestamp(temp.iloc[6,1])\n",
    "    end= pd.Timestamp(temp.iloc[7,1])\n",
    "    diff = end - start\n",
    "    run_time_10pct.append(diff)\n",
    "run_time_10pct = pd.DataFrame({'runtime': run_time_10pct})\n",
    "run_time_10pct.insert(1, 'sample_size', \"10-pct\")\n",
    "run_time_10pct.insert(2, 'alpha', 1.0)\n",
    "run_time_10pct.insert(3, 'stuck_time', 30.0)\n",
    "run_time_10pct.insert(4,'global_seed', \"default\") "
   ]
  },
  {
   "cell_type": "code",
   "execution_count": 14,
   "metadata": {},
   "outputs": [],
   "source": [
    "run_time_10pct_sCf = []\n",
    "for elem in range(1,11,1):\n",
    "    path = \"/home/lola/math_cluster/output/output-lausitz-10.0-pct-\" + str(elem) + \"-fCf_0.1_sCF_0.17783_gS_4711_3765/analysis/general/run_info.csv\"\n",
    "    temp = pd.read_csv(path, sep=\",\")\n",
    "    start= pd.Timestamp(temp.iloc[6,1])\n",
    "    end= pd.Timestamp(temp.iloc[7,1])\n",
    "    diff = end - start\n",
    "    run_time_10pct_sCf.append(diff)\n",
    "run_time_10pct_sCf = pd.DataFrame({'runtime': run_time_10pct_sCf})\n",
    "run_time_10pct_sCf.insert(1, 'sample_size', \"10-pct\")\n",
    "run_time_10pct_sCf.insert(2, 'alpha', 0.75)\n",
    "run_time_10pct_sCf.insert(3, 'stuck_time', 30.0)\n",
    "run_time_10pct_sCf.insert(4,'global_seed', \"default\") "
   ]
  },
  {
   "cell_type": "code",
   "execution_count": 15,
   "metadata": {},
   "outputs": [],
   "source": [
    "\n",
    "run_time_10pct_sT = []\n",
    "for elem in range(1,11,1):\n",
    "    path = \"/home/lola/math_cluster/output/output-lausitz-10-pct-\"+ str(elem) + \"-fCf_sCF_0.1_gS_4711_sT_300.0_3765/analysis/general/run_info.csv\"\n",
    "    temp = pd.read_csv(path, sep=\",\")\n",
    "    start= pd.Timestamp(temp.iloc[6,1])\n",
    "    end= pd.Timestamp(temp.iloc[7,1])\n",
    "    diff = end - start\n",
    "    run_time_10pct_sT.append(diff)\n",
    "run_time_10pct_sT = pd.DataFrame({'runtime': run_time_10pct_sT})\n",
    "run_time_10pct_sT.insert(1, 'sample_size', \"10-pct\")\n",
    "run_time_10pct_sT.insert(2, 'alpha', 1.0)\n",
    "run_time_10pct_sT.insert(3, 'stuck_time', 300.0)\n",
    "run_time_10pct_sT.insert(4,'global_seed', \"default\") "
   ]
  },
  {
   "cell_type": "code",
   "execution_count": 16,
   "metadata": {},
   "outputs": [],
   "source": [
    "run_time_10pct_sT_sCf = []\n",
    "for elem in range(1,11,1):\n",
    "    path = \"/home/lola/math_cluster/output/output-lausitz-10-pct-\" +str(elem) + \"-fCf_0.1_sCF_0.17783_gS_4711_sT_300.0_3765/analysis/general/run_info.csv\"\n",
    "    temp = pd.read_csv(path, sep=\",\")\n",
    "    start= pd.Timestamp(temp.iloc[6,1])\n",
    "    end= pd.Timestamp(temp.iloc[7,1])\n",
    "    diff = end - start\n",
    "    run_time_10pct_sT_sCf.append(diff)\n",
    "run_time_10pct_sT_sCf = pd.DataFrame({'runtime': run_time_10pct_sT_sCf})\n",
    "run_time_10pct_sT_sCf.insert(1, 'sample_size', \"10-pct\")\n",
    "run_time_10pct_sT_sCf.insert(2, 'alpha', 0.75)\n",
    "run_time_10pct_sT_sCf.insert(3, 'stuck_time', 300.0)\n",
    "run_time_10pct_sT_sCf.insert(4,'global_seed', \"default\") \n"
   ]
  },
  {
   "cell_type": "markdown",
   "metadata": {},
   "source": [
    "#### 25 pct"
   ]
  },
  {
   "cell_type": "code",
   "execution_count": 17,
   "metadata": {},
   "outputs": [],
   "source": [
    "path =  \"/home/lola/math_cluster/output/output-lausitz-25.0-pct-fCf_sCF_0.25_gS_4711_3765/analysis/general/run_info.csv\"\n",
    "temp = pd.read_csv(path, sep = \",\")\n",
    "start= pd.Timestamp(temp.iloc[6,1])\n",
    "end= pd.Timestamp(temp.iloc[7,1])\n",
    "diff = end - start\n",
    "run_time_25pct = pd.DataFrame({'runtime': diff, 'sample_size': '25-pct', 'alpha': 1.0, 'stuck_time': 30.0, 'global_seed': \"default\"  }, index = [0])"
   ]
  },
  {
   "cell_type": "code",
   "execution_count": 18,
   "metadata": {},
   "outputs": [],
   "source": [
    "path = \"/home/lola/math_cluster/output/output-lausitz-25.0-pct-fCf_0.25_sCF_0.35355_gS_4711_3765/analysis/general/run_info.csv\"\n",
    "temp = pd.read_csv(path, sep = \",\")\n",
    "start= pd.Timestamp(temp.iloc[6,1])\n",
    "end= pd.Timestamp(temp.iloc[7,1])\n",
    "diff = end - start\n",
    "run_time_25pct_sCf = pd.DataFrame({'runtime': diff, 'sample_size': '25-pct', 'alpha': 0.75, 'stuck_time': 30.0, 'global_seed': \"default\"  }, index = [1])"
   ]
  },
  {
   "cell_type": "code",
   "execution_count": 19,
   "metadata": {},
   "outputs": [],
   "source": [
    "path = \"/home/lola/math_cluster/output/output-lausitz-25-pct-1-fCf_sCF_0.25_gS_4711_sT_120.0_3765/analysis/general/run_info.csv\"\n",
    "temp = pd.read_csv(path, sep = \",\")\n",
    "start= pd.Timestamp(temp.iloc[6,1])\n",
    "end= pd.Timestamp(temp.iloc[7,1])\n",
    "diff = end - start\n",
    "run_time_25pct_sT = pd.DataFrame({'runtime': diff, 'sample_size': '25-pct', 'alpha': 1.0, 'stuck_time': 120.0, 'global_seed': \"default\"  }, index = [2])"
   ]
  },
  {
   "cell_type": "code",
   "execution_count": 20,
   "metadata": {},
   "outputs": [],
   "source": [
    "path = \"/home/lola/math_cluster/output/output-lausitz-25-pct-1-fCf_0.25_sCF_0.35355_gS_4711_sT_120.0_3765/analysis/general/run_info.csv\"\n",
    "temp = pd.read_csv(path, sep = \",\")\n",
    "start= pd.Timestamp(temp.iloc[6,1])\n",
    "end= pd.Timestamp(temp.iloc[7,1])\n",
    "diff = end - start\n",
    "run_time_25pct_sT_sCf = pd.DataFrame({'runtime': diff, 'sample_size': '25-pct', 'alpha': 0.75, 'stuck_time': 120.0, 'global_seed': \"default\"  }, index = [3])"
   ]
  },
  {
   "cell_type": "markdown",
   "metadata": {},
   "source": [
    "#### 50 pct"
   ]
  },
  {
   "cell_type": "code",
   "execution_count": 21,
   "metadata": {},
   "outputs": [],
   "source": [
    "path = \"/home/lola/math_cluster/output/output-lausitz-50.0-pct-fCf_sCF_0.5_gS_4711_3765/analysis/general/run_info.csv\"\n",
    "temp = pd.read_csv(path, sep = \",\")\n",
    "start= pd.Timestamp(temp.iloc[6,1])\n",
    "end= pd.Timestamp(temp.iloc[7,1])\n",
    "diff = end - start\n",
    "run_time_50pct = pd.DataFrame({'runtime': diff, 'sample_size': '50-pct', 'alpha': 1.0, 'stuck_time': 30.0, 'global_seed': \"default\"  }, index = [0])"
   ]
  },
  {
   "cell_type": "code",
   "execution_count": 22,
   "metadata": {},
   "outputs": [],
   "source": [
    "path = \"/home/lola/math_cluster/output/output-lausitz-50.0-pct-fCf_0.5_sCF_0.5946_gS_4711_3765/analysis/general/run_info.csv\"\n",
    "temp = pd.read_csv(path, sep = \",\")\n",
    "start= pd.Timestamp(temp.iloc[6,1])\n",
    "end= pd.Timestamp(temp.iloc[7,1])\n",
    "diff = end - start\n",
    "run_time_50pct_sCf = pd.DataFrame({'runtime': diff, 'sample_size': '50-pct', 'alpha': 0.75, 'stuck_time': 30.0, 'global_seed': \"default\"  }, index = [1])"
   ]
  },
  {
   "cell_type": "code",
   "execution_count": 23,
   "metadata": {},
   "outputs": [],
   "source": [
    "path = \"/home/lola/math_cluster/output/output-lausitz-50-pct-1-fCf_sCF_0.5_gS_4711_sT_60.0_3765/analysis/general/run_info.csv\"\n",
    "temp = pd.read_csv(path, sep = \",\")\n",
    "start= pd.Timestamp(temp.iloc[6,1])\n",
    "end= pd.Timestamp(temp.iloc[7,1])\n",
    "diff = end - start\n",
    "run_time_50pct_sT = pd.DataFrame({'runtime': diff, 'sample_size': '50-pct', 'alpha': 1.0, 'stuck_time': 60.0, 'global_seed': \"default\"  }, index = [2])"
   ]
  },
  {
   "cell_type": "code",
   "execution_count": 24,
   "metadata": {},
   "outputs": [],
   "source": [
    "path = \"/home/lola/math_cluster/output/output-lausitz-50-pct-1-fCf_0.5_sCF_0.5946_gS_4711_sT_60.0_3765/analysis/general/run_info.csv\"\n",
    "temp = pd.read_csv(path, sep = \",\")\n",
    "start= pd.Timestamp(temp.iloc[6,1])\n",
    "end= pd.Timestamp(temp.iloc[7,1])\n",
    "diff = end - start\n",
    "run_time_50pct_sT_sCf = pd.DataFrame({'runtime': diff, 'sample_size': '50-pct', 'alpha': 0.75, 'stuck_time': 60.0, 'global_seed': \"default\"  }, index = [3])"
   ]
  },
  {
   "cell_type": "code",
   "execution_count": 25,
   "metadata": {},
   "outputs": [],
   "source": [
    "path = \"/home/lola/Nextcloud/Masterarbeit/03_Outputs_From_RunsLausitz/output-lausitz-25-pct-doubled-fCf_0.5_sCF_0.5_gS_4711_3765/analysis/general/run_info.csv\"\n",
    "temp = pd.read_csv(path, sep = \",\")\n",
    "start= pd.Timestamp(temp.iloc[6,1])\n",
    "end= pd.Timestamp(temp.iloc[7,1])\n",
    "diff = end - start\n",
    "run_time_25_pct_doubled = pd.DataFrame({'runtime': diff, 'sample_size': '25-pct-doubled', 'alpha': 1.0, 'stuck_time': 30.0, 'global_seed': \"default\"  }, index = [4])"
   ]
  },
  {
   "cell_type": "markdown",
   "metadata": {},
   "source": [
    "#### 100 pct"
   ]
  },
  {
   "cell_type": "code",
   "execution_count": 26,
   "metadata": {},
   "outputs": [],
   "source": [
    "path =  \"/home/lola/math_cluster/output/output-lausitz-100.0-pct-fCf_sCF_1.0_gS_4711_3765/analysis/general/run_info.csv\"\n",
    "temp = pd.read_csv(path, sep = \",\")\n",
    "start= pd.Timestamp(temp.iloc[6,1])\n",
    "end= pd.Timestamp(temp.iloc[7,1])\n",
    "diff = end - start\n",
    "run_time_100pct = pd.DataFrame({'runtime': diff, 'sample_size': '100-pct', 'alpha': 1.0, 'stuck_time': 30.0, 'global_seed': \"default\"  }, index = [0])\n"
   ]
  },
  {
   "cell_type": "code",
   "execution_count": 27,
   "metadata": {},
   "outputs": [],
   "source": [
    "path = \"/home/lola/Nextcloud/Masterarbeit/03_Outputs_From_RunsLausitz/output-lausitz-25.0-pct-quadrupled-fCf_1.0_sCF_1.0_gS_4711_3765/analysis/general/run_info.csv\"\n",
    "temp = pd.read_csv(path, sep = \",\")\n",
    "start= pd.Timestamp(temp.iloc[6,1])\n",
    "end= pd.Timestamp(temp.iloc[7,1])\n",
    "diff = end - start\n",
    "run_time_25_pct_quadrupled = pd.DataFrame({'runtime': diff, 'sample_size': '25-pct-quadrupled', 'alpha': 1.0, 'stuck_time': 30.0, 'global_seed': \"default\"  }, index = [4])"
   ]
  },
  {
   "cell_type": "markdown",
   "metadata": {},
   "source": [
    "#### pd.Concat,  convert minutes into decimal base?! and write csv"
   ]
  },
  {
   "cell_type": "code",
   "execution_count": 28,
   "metadata": {},
   "outputs": [],
   "source": [
    "# concat !\n",
    "runtimes_1_100 = pd.concat([run_time_1pct, run_time_1pct_sCf, run_time_1pct_sT, run_time_1pct_sT_sCf, run_time_1pct_rGs,\n",
    "                            run_time_5pct,run_time_5pct_sCf, run_time_5pct_sT, run_time_5pct_sT_sCf, run_time_5pct_rGs,\n",
    "                            run_time_10pct,run_time_10pct_sCf, run_time_10pct_sT, run_time_10pct_sT_sCf,                  \n",
    "                              run_time_25pct,run_time_25pct_sCf, run_time_25pct_sT, run_time_25pct_sT_sCf,\n",
    "                                run_time_50pct,run_time_50pct_sCf, run_time_50pct_sT, run_time_50pct_sT_sCf,run_time_25_pct_doubled,\n",
    "                                run_time_100pct, run_time_25_pct_quadrupled  ])\n",
    "\n",
    "\n",
    "\n",
    "\n"
   ]
  },
  {
   "cell_type": "code",
   "execution_count": 29,
   "metadata": {},
   "outputs": [],
   "source": [
    "# transform minutes into decimal \n",
    "runtimes_1_100['runtime'] =  runtimes_1_100.runtime.astype('timedelta64[s]')/  pd.Timedelta(minutes=60)"
   ]
  },
  {
   "cell_type": "code",
   "execution_count": 30,
   "metadata": {},
   "outputs": [],
   "source": [
    "runtimes_1_100 = runtimes_1_100.iloc[:, [1, 2, 3, 4,0]]\n",
    "runtimes_1_100.to_csv('/home/lola/Nextcloud/Masterarbeit/03_Outputs/runtimes_1_to_100pct_correct.csv', index = False) "
   ]
  },
  {
   "cell_type": "markdown",
   "metadata": {},
   "source": [
    "## 2. Number of stuck-time violations"
   ]
  },
  {
   "cell_type": "markdown",
   "metadata": {},
   "source": [
    "#### Function to filter the output events and count number of stuck-time violatins per vehicle"
   ]
  },
  {
   "cell_type": "code",
   "execution_count": null,
   "metadata": {},
   "outputs": [],
   "source": [
    "# Number of stuck vehicles\n",
    "def countStuckVehicles(pathToEvents):\n",
    "    events_file = pathToEvents\n",
    "    #\"/home/lola/math_cluster/output/output-lausitz-1pct-1-fCf_sCF_0.01_gS_default_3765/lausitz-1pct-1-fCf_sCf_0.01_gS_default_3765.output_events.xml.gz\"\n",
    "\n",
    "    # Read events - filter and return the listed event types only\n",
    "    events = matsim.event_reader(\n",
    "        events_file,\n",
    "        types=\"stuckAndContinue\",\n",
    "    )\n",
    "\n",
    "\n",
    "    stuck_person = defaultdict(list)\n",
    "\n",
    "    # Loop on all filtered events\n",
    "    for event in events:\n",
    "        if event[\"type\"] == \"stuckAndContinue\":\n",
    "            stuck_person[event[\"person\"]].append(event[\"legMode\"])\n",
    "    \n",
    "    count = 0 \n",
    "    for key in stuck_person.keys():\n",
    "        count+= len(stuck_person[key])\n",
    "    \n",
    "    return count\n"
   ]
  },
  {
   "cell_type": "markdown",
   "metadata": {},
   "source": [
    "#### 1pct"
   ]
  },
  {
   "cell_type": "code",
   "execution_count": null,
   "metadata": {},
   "outputs": [],
   "source": [
    "stuck_veh_1pct = []\n",
    "for elem in range(1,11,1):\n",
    "    path = \"/home/lola/math_cluster/output/output-lausitz-1pct-\" + str(elem) + \"-fCf_sCF_0.01_gS_default_3765/lausitz-1pct-\"+str(elem)+ \"-fCf_sCf_0.01_gS_default_3765.output_events.xml.gz\"\n",
    "    stuck_veh = countStuckVehicles(path)\n",
    "    stuck_veh_1pct.append(stuck_veh)\n",
    "stuck_veh_1pct = pd.DataFrame({'n_stuck_veh': stuck_veh_1pct})\n",
    "stuck_veh_1pct.insert(1, 'sample_size', \"1-pct\")\n",
    "stuck_veh_1pct.insert(2, 'alpha', 1.0)\n",
    "stuck_veh_1pct.insert(3, 'global_seed', \"default\")\n",
    "stuck_veh_1pct.insert(4, 'stuck_time', 30.0)"
   ]
  },
  {
   "cell_type": "code",
   "execution_count": null,
   "metadata": {},
   "outputs": [],
   "source": [
    "stuck_veh_1pct_sCf = []\n",
    "for elem in range(1,11,1):\n",
    "    path = \"/home/lola/math_cluster/output/output-lausitz-1pct-\" + str(elem) + \"-fCf_0.01_sCF_0.03162_gS_default_3765/lausitz-1pct-\" +str(elem)+ \"-fCf_0.01_sCf_0.03162_gS_default_3765.output_events.xml.gz\"\n",
    "    stuck_veh = countStuckVehicles(path)\n",
    "    stuck_veh_1pct_sCf.append(stuck_veh)\n",
    "stuck_veh_1pct_sCf = pd.DataFrame({'n_stuck_veh': stuck_veh_1pct_sCf})\n",
    "stuck_veh_1pct_sCf.insert(1, 'sample_size', \"1-pct\")\n",
    "stuck_veh_1pct_sCf.insert(2, 'alpha', 0.75)\n",
    "stuck_veh_1pct_sCf.insert(3, 'global_seed', \"default\")\n",
    "stuck_veh_1pct_sCf.insert(4, 'stuck_time', 30.0)"
   ]
  },
  {
   "cell_type": "code",
   "execution_count": null,
   "metadata": {},
   "outputs": [],
   "source": [
    "# stuck-time of it0\n",
    "\n",
    "# path\n",
    "path = \"/home/lolat/math_cluster/output/output-lausitz-1pct-1-fCf_sCF_0.01_gS_default_3765/ITERS/it.0/lausitz-1pct-1-fCf_sCf_0.01_gS_default_3765.0.events.xml.gz\"\n",
    "\n",
    "\n",
    "st_veh_s1_it0 = countStuckVehicles(path)\n",
    "# 3030\n",
    "\n",
    "# number of stuck vehicles after iteration 500 : 1846"
   ]
  },
  {
   "cell_type": "code",
   "execution_count": 4,
   "metadata": {},
   "outputs": [
    {
     "data": {
      "text/plain": [
       "3030"
      ]
     },
     "execution_count": 4,
     "metadata": {},
     "output_type": "execute_result"
    }
   ],
   "source": [
    "st_veh_s1_it0 "
   ]
  },
  {
   "cell_type": "code",
   "execution_count": 45,
   "metadata": {},
   "outputs": [],
   "source": [
    "#  1 pct random seed\n",
    "stuck_veh_1pct_rGs = pd.DataFrame()\n",
    "rGs = [ 4711,3254, 2306, 6384,4338, 6003, 5502, 9377, 5621, 9002 ]\n",
    "for seed in rGs:\n",
    "    if (seed == 4711):\n",
    "        global_seed = \"rnd_\" + str(seed)\n",
    "        # insert number of stuck time violations from the first 1 pct sample\n",
    "        temp = {'n_stuck_veh': stuck_veh_1pct[\"n_stuck_veh\"].iloc[0], 'sample_size': '1-pct', 'alpha': 1.0, 'stuck_time': 30.0, 'global_seed': global_seed  }\n",
    "        temp = pd.DataFrame(data=temp, index=[rGs.index(4711)])\n",
    "        stuck_veh_1pct_rGs = pd.concat([stuck_veh_1pct_rGs, temp])\n",
    "    elif (seed == 3254):\n",
    "        path =\"/home/lola/math_cluster/output/output-lausitz-1pct-1-fCf_sCF_0.01_gS_3254_3765/lausitz-1pct-1-fCf_sCf_0.01_gS_3254_3765.output_events.xml.gz\"\n",
    "        stuck_veh = countStuckVehicles(path)\n",
    "        temp2 = pd.DataFrame({'n_stuck_veh': stuck_veh, 'sample_size': '1-pct', 'alpha': 1.0, 'stuck_time': 30.0, 'global_seed': \"rnd_\" + str(seed)  }, index = [rGs.index(3254)])\n",
    "        stuck_veh_1pct_rGs = pd.concat([stuck_veh_1pct_rGs, temp2], axis = 0)\n",
    "    else:\n",
    "        path = \"/home/lola/math_cluster/output/output-lausitz-1.0-pct-1-fCf_sCF_0.01_gS_\" +str(seed) + \"_3765/lausitz-1.0-pct-1-fCf_sCF_0.01_gS_\" + str(seed) + \"_3765.output_events.xml.gz\"\n",
    "        stuck_veh = countStuckVehicles(path)\n",
    "        temp2 = pd.DataFrame({'n_stuck_veh': stuck_veh, 'sample_size': '1-pct', 'alpha': 1.0, 'stuck_time': 30.0, 'global_seed': \"rnd_\" + str(seed)  }, index = [rGs.index(seed)] )\n",
    "        stuck_veh_1pct_rGs = pd.concat([stuck_veh_1pct_rGs, temp2], axis = 0)"
   ]
  },
  {
   "cell_type": "code",
   "execution_count": 46,
   "metadata": {},
   "outputs": [],
   "source": [
    "# 1 pct, alpha = 1, sT scaled\n",
    "stuck_veh_1pct_sT = []\n",
    "for elem in range(1,11,1):\n",
    "    path = \"/home/lola/math_cluster/output/output-lausitz-1-pct-\" + str(elem) + \"-fCf_sCF_0.01_gS_4711_sT_3000.0_3765/lausitz-1-pct-\" + str(elem) + \"-fCf_sCF_0.01_gS_4711_sT_3000.0_3765.output_events.xml.gz\"\n",
    "    stuck_veh = countStuckVehicles(path)\n",
    "    stuck_veh_1pct_sT.append(stuck_veh)\n",
    "stuck_veh_1pct_sT = pd.DataFrame({'n_stuck_veh': stuck_veh_1pct_sT})\n",
    "stuck_veh_1pct_sT.insert(1, 'sample_size', \"1-pct\")\n",
    "stuck_veh_1pct_sT.insert(2, 'alpha', 1.0)\n",
    "stuck_veh_1pct_sT.insert(3, 'global_seed', \"default\")\n",
    "stuck_veh_1pct_sT.insert(4, 'stuck_time', 3000.0)\n"
   ]
  },
  {
   "cell_type": "code",
   "execution_count": 47,
   "metadata": {},
   "outputs": [],
   "source": [
    "# 1 pct, alpha = 0.75, sT scaled\n",
    "stuck_veh_1pct_sT_sCf = []\n",
    "for elem in range(1,11,1):\n",
    "    path = \"/home/lola/math_cluster/output/output-lausitz-1-pct-\" + str(elem) + \"-fCf_0.01_sCF_0.03162_gS_4711_sT_3000.0_3765/lausitz-1-pct-\" + str(elem) +\"-fCf_0.01_sCF_0.03162_gS_4711_sT_3000.0_3765.output_events.xml.gz\"\n",
    "    stuck_veh = countStuckVehicles(path)\n",
    "    stuck_veh_1pct_sT_sCf.append(stuck_veh)\n",
    "stuck_veh_1pct_sT_sCf = pd.DataFrame({'n_stuck_veh': stuck_veh_1pct_sT_sCf})\n",
    "stuck_veh_1pct_sT_sCf.insert(1, 'sample_size', \"1-pct\")\n",
    "stuck_veh_1pct_sT_sCf.insert(2, 'alpha', 0.75)\n",
    "stuck_veh_1pct_sT_sCf.insert(3, 'global_seed', \"default\")\n",
    "stuck_veh_1pct_sT_sCf.insert(4, 'stuck_time', 3000.0)"
   ]
  },
  {
   "cell_type": "code",
   "execution_count": 48,
   "metadata": {},
   "outputs": [],
   "source": [
    "stuck_time_violation_1pct = pd.concat([stuck_veh_1pct, stuck_veh_1pct_sCf, stuck_veh_1pct_sT, stuck_veh_1pct_sT_sCf, stuck_veh_1pct_rGs])"
   ]
  },
  {
   "cell_type": "code",
   "execution_count": 51,
   "metadata": {},
   "outputs": [],
   "source": [
    "stuck_time_violation_1pct.to_csv('/home/lola/Nextcloud/Masterarbeit/03_Outputs/stuck_time_violations_1_pct.csv', index = False) "
   ]
  },
  {
   "cell_type": "markdown",
   "metadata": {},
   "source": [
    "#### 5 pct"
   ]
  },
  {
   "cell_type": "code",
   "execution_count": 23,
   "metadata": {},
   "outputs": [],
   "source": [
    "# 5 pct, alpha = 1\n",
    "stuck_veh_5pct = []\n",
    "for elem in range(1,11,1):\n",
    "    if (elem==6):\n",
    "        path = \"/home/lola/math_cluster/output/output-lausitz-5.0-pct-6-fCf_sCF_0.05_gS_4711_3765/lausitz-5.0-pct-6-fCf_sCF_0.05_gS_4711_3765-2.output_events.xml.gz\"\n",
    "        stuck_veh = countStuckVehicles(path)\n",
    "        stuck_veh_5pct.append(stuck_veh)\n",
    "    else:\n",
    "        path = \"/home/lola/math_cluster/output/output-lausitz-5.0-pct-\" + str(elem) + \"-fCf_sCF_0.05_gS_4711_3765/lausitz-5.0-pct-\"+str(elem)+ \"-fCf_sCF_0.05_gS_4711_3765.output_events.xml.gz\"\n",
    "        stuck_veh = countStuckVehicles(path)\n",
    "        stuck_veh_5pct.append(stuck_veh)\n",
    "stuck_veh_5pct = pd.DataFrame({'n_stuck_veh': stuck_veh_5pct})\n",
    "\n",
    "stuck_veh_5pct.insert(1, 'sample_size', \"5-pct\")\n",
    "stuck_veh_5pct.insert(2, 'alpha', 1.0)\n",
    "stuck_veh_5pct.insert(3, 'global_seed', \"default\")\n",
    "stuck_veh_5pct.insert(4, 'stuck_time', 30.0)"
   ]
  },
  {
   "cell_type": "code",
   "execution_count": 24,
   "metadata": {},
   "outputs": [],
   "source": [
    "# 5 pct, alpha = 0.75\n",
    "stuck_veh_5pct_sCf = []\n",
    "for elem in range(1,11,1):\n",
    "    if (elem==6):\n",
    "        path = \"/home/lola/math_cluster/output/output-lausitz-5.0-pct-6-fCf_0.05_sCF_0.10574_gS_4711_3765/lausitz-5.0-pct-6-fCf_0.05_sCF_0.10574_gS_4711_3765-2.output_events.xml.gz\"\n",
    "        stuck_veh = countStuckVehicles(path)\n",
    "        stuck_veh_5pct_sCf.append(stuck_veh)\n",
    "    else:\n",
    "        path = \"/home/lola/math_cluster/output/output-lausitz-5.0-pct-\" + str(elem) + \"-fCf_0.05_sCF_0.10574_gS_4711_3765/lausitz-5.0-pct-\"+str(elem)+ \"-fCf_0.05_sCF_0.10574_gS_4711_3765.output_events.xml.gz\"\n",
    "        stuck_veh = countStuckVehicles(path)\n",
    "        stuck_veh_5pct_sCf.append(stuck_veh)\n",
    "stuck_veh_5pct_sCf = pd.DataFrame({'n_stuck_veh': stuck_veh_5pct_sCf})\n",
    "\n",
    "stuck_veh_5pct_sCf.insert(1, 'sample_size', \"5-pct\")\n",
    "stuck_veh_5pct_sCf.insert(2, 'alpha', 0.75)\n",
    "stuck_veh_5pct_sCf.insert(3, 'global_seed', \"default\")\n",
    "stuck_veh_5pct_sCf.insert(4, 'stuck_time', 30.0)\n"
   ]
  },
  {
   "cell_type": "code",
   "execution_count": 25,
   "metadata": {},
   "outputs": [],
   "source": [
    "# 5 pct random global seed, alpha = 1\n",
    "stuck_veh_5pct_rGs = pd.DataFrame()\n",
    "rGs = [4711, 3254, 2306, 6384,4338, 6003, 5502, 9377, 5621, 9002 ]\n",
    "\n",
    "for seed in rGs:\n",
    "    if (seed ==4711):\n",
    "        global_seed = \"rnd_\" + str(seed)\n",
    "        temp = {'n_stuck_veh': stuck_veh_5pct[\"n_stuck_veh\"].iloc[0], 'sample_size': '5-pct', 'alpha': 1.0, 'stuck_time': 30.0, 'global_seed': global_seed  }\n",
    "        temp = pd.DataFrame(data=temp, index=[rGs.index(4711)])\n",
    "        stuck_veh_5pct_rGs = pd.concat([stuck_veh_5pct_rGs, temp])\n",
    "    else:\n",
    "        path = \"/home/lola/math_cluster/output/output-lausitz-5.0-pct-1-fCf_sCF_0.05_gS_\" + str(seed) + \"_3765/lausitz-5.0-pct-1-fCf_sCF_0.05_gS_\"+ str(seed) +\"_3765.output_events.xml.gz\"\n",
    "        stuck_veh = countStuckVehicles(path)\n",
    "        temp2 = pd.DataFrame({'n_stuck_veh': stuck_veh, 'sample_size': '5-pct', 'alpha': 1.0, 'stuck_time': 30.0, 'global_seed': \"rnd_\" + str(seed)  }, index = [rGs.index(seed)])\n",
    "        stuck_veh_5pct_rGs = pd.concat([stuck_veh_5pct_rGs, temp2], axis = 0)\n"
   ]
  },
  {
   "cell_type": "code",
   "execution_count": 26,
   "metadata": {},
   "outputs": [],
   "source": [
    "# 5 pct, alpha = 1.0, sT scaled\n",
    "stuck_veh_5pct_sT = []\n",
    "for elem in range(1,11,1):\n",
    "    path = \"/home/lola/math_cluster/output/output-lausitz-5-pct-\" + str(elem) + \"-fCf_sCF_0.05_gS_4711_sT_600.0_3765/lausitz-5-pct-\" + str(elem) +\"-fCf_sCF_0.05_gS_4711_sT_600.0_3765.output_events.xml.gz\"\n",
    "    stuck_veh = countStuckVehicles(path)\n",
    "    stuck_veh_5pct_sT.append(stuck_veh)\n",
    "stuck_veh_5pct_sT = pd.DataFrame({'n_stuck_veh': stuck_veh_5pct_sT})\n",
    "\n",
    "stuck_veh_5pct_sT.insert(1, 'sample_size', \"5-pct\")\n",
    "stuck_veh_5pct_sT.insert(2, 'alpha', 1.0)\n",
    "stuck_veh_5pct_sT.insert(3, 'global_seed', \"default\")\n",
    "stuck_veh_5pct_sT.insert(4, 'stuck_time', 600.0)"
   ]
  },
  {
   "cell_type": "code",
   "execution_count": 27,
   "metadata": {},
   "outputs": [],
   "source": [
    "# 5 pct, alpha = 0.75, sT scaled\n",
    "stuck_veh_5pct_sT_sCf = []\n",
    "for elem in range(1,11,1):\n",
    "    path = \"/home/lola/math_cluster/output/output-lausitz-5-pct-\" + str (elem) + \"-fCf_0.05_sCF_0.10574_gS_4711_sT_600.0_3765/lausitz-5-pct-\" + str(elem) + \"-fCf_0.05_sCF_0.10574_gS_4711_sT_600.0_3765.output_events.xml.gz\"\n",
    "    stuck_veh = countStuckVehicles(path)\n",
    "    stuck_veh_5pct_sT_sCf.append(stuck_veh)\n",
    "stuck_veh_5pct_sT_sCf = pd.DataFrame({'n_stuck_veh': stuck_veh_5pct_sT_sCf})\n",
    "\n",
    "stuck_veh_5pct_sT_sCf.insert(1, 'sample_size', \"5-pct\")\n",
    "stuck_veh_5pct_sT_sCf.insert(2, 'alpha', 0.75)\n",
    "stuck_veh_5pct_sT_sCf.insert(3, 'global_seed', \"default\")\n",
    "stuck_veh_5pct_sT_sCf.insert(4, 'stuck_time', 600.0)"
   ]
  },
  {
   "cell_type": "code",
   "execution_count": 35,
   "metadata": {},
   "outputs": [],
   "source": [
    "stuck_time_violation_5pct = pd.concat([stuck_veh_5pct, stuck_veh_5pct_sCf, stuck_veh_5pct_sT, stuck_veh_5pct_sT_sCf, stuck_veh_5pct_rGs])"
   ]
  },
  {
   "cell_type": "code",
   "execution_count": 36,
   "metadata": {},
   "outputs": [],
   "source": [
    "stuck_time_violation_5pct.to_csv('/home/lola/Nextcloud/Masterarbeit/03_Outputs/stuck_time_violations_5_pct.csv', index = False) "
   ]
  },
  {
   "cell_type": "markdown",
   "metadata": {},
   "source": [
    "#### 10 pct"
   ]
  },
  {
   "cell_type": "code",
   "execution_count": 29,
   "metadata": {},
   "outputs": [],
   "source": [
    "# 10 pct, alpha = 1\n",
    "stuck_veh_10pct = []\n",
    "for elem in range(1,11,1):\n",
    "    path = \"/home/lola/math_cluster/output/output-lausitz-10.0-pct-\" + str(elem) + \"-fCf_sCF_0.1_gS_4711_3765/lausitz-10.0-pct-\" + str(elem) + \"-fCf_sCF_0.1_gS_4711_3765.output_events.xml.gz\"\n",
    "    stuck_veh = countStuckVehicles(path)\n",
    "    stuck_veh_10pct.append(stuck_veh)\n",
    "stuck_veh_10pct = pd.DataFrame({'n_stuck_veh': stuck_veh_10pct})\n",
    "stuck_veh_10pct.insert(1, 'sample_size', \"10-pct\")\n",
    "stuck_veh_10pct.insert(2, 'alpha', 1.0)\n",
    "stuck_veh_10pct.insert(3, 'global_seed', \"default\")\n",
    "stuck_veh_10pct.insert(4, 'stuck_time', 30.0)\n"
   ]
  },
  {
   "cell_type": "code",
   "execution_count": 31,
   "metadata": {},
   "outputs": [],
   "source": [
    "# 10 pct, alpha = 0.75\n",
    "stuck_veh_10pct_sCf = []\n",
    "for elem in range(1,11,1):\n",
    "    path = \"/home/lola/math_cluster/output/output-lausitz-10.0-pct-\"+ str(elem) + \"-fCf_0.1_sCF_0.17783_gS_4711_3765/lausitz-10.0-pct-\" + str(elem) + \"-fCf_0.1_sCF_0.17783_gS_4711_3765.output_events.xml.gz\"\n",
    "    stuck_veh = countStuckVehicles(path)\n",
    "    stuck_veh_10pct_sCf.append(stuck_veh)\n",
    "stuck_veh_10pct_sCf = pd.DataFrame({'n_stuck_veh': stuck_veh_10pct_sCf})\n",
    "stuck_veh_10pct_sCf.insert(1, 'sample_size', \"10-pct\")\n",
    "stuck_veh_10pct_sCf.insert(2, 'alpha', 0.75)\n",
    "stuck_veh_10pct_sCf.insert(3, 'global_seed', \"default\")\n",
    "stuck_veh_10pct_sCf.insert(4, 'stuck_time', 30.0)"
   ]
  },
  {
   "cell_type": "code",
   "execution_count": null,
   "metadata": {},
   "outputs": [],
   "source": [
    "# 10pct, alpha = 1 , sT scaled\n",
    "stuck_veh_10pct_sT = []\n",
    "for elem in range(1,11,1):\n",
    "    path = \"/home/lola/math_cluster/output/output-lausitz-10-pct-\" + str(elem) + \"-fCf_sCF_0.1_gS_4711_sT_300.0_3765/lausitz-10-pct-\" + str(elem) + \"-fCf_sCF_0.1_gS_4711_sT_300.0_3765.output_events.xml.gz\"\n",
    "    stuck_veh = countStuckVehicles(path)\n",
    "    stuck_veh_10pct_sT.append(stuck_veh)\n",
    "stuck_veh_10pct_sT = pd.DataFrame({'n_stuck_veh': stuck_veh_10pct_sT})\n",
    "stuck_veh_10pct_sT.insert(1, 'sample_size', \"10-pct\")\n",
    "stuck_veh_10pct_sT.insert(2, 'alpha', 1.0)\n",
    "stuck_veh_10pct_sT.insert(3, 'global_seed', \"default\")\n",
    "stuck_veh_10pct_sT.insert(4, 'stuck_time', 300.0)"
   ]
  },
  {
   "cell_type": "code",
   "execution_count": null,
   "metadata": {},
   "outputs": [],
   "source": [
    "# 10 pct, alpha = 0.75, sT scaled\n",
    "# 10pct, alpha = 1 , sT scaled\n",
    "stuck_veh_10pct_sT_sCf = []\n",
    "for elem in range(1,11,1):\n",
    "    path = \"/home/lola/math_cluster/output/output-lausitz-10-pct-\" + str(elem) + \"-fCf_0.1_sCF_0.17783_gS_4711_sT_300.0_3765/lausitz-10-pct-\" + str(elem) + \"-fCf_0.1_sCF_0.17783_gS_4711_sT_300.0_3765.output_events.xml.gz\"\n",
    "    stuck_veh = countStuckVehicles(path)\n",
    "    stuck_veh_10pct_sT_sCf.append(stuck_veh)\n",
    "stuck_veh_10pct_sT_sCf = pd.DataFrame({'n_stuck_veh': stuck_veh_10pct_sT_sCf})\n",
    "stuck_veh_10pct_sT_sCf.insert(1, 'sample_size', \"10-pct\")\n",
    "stuck_veh_10pct_sT_sCf.insert(2, 'alpha', 0.75)\n",
    "stuck_veh_10pct_sT_sCf.insert(3, 'global_seed', \"default\")\n",
    "stuck_veh_10pct_sT_sCf.insert(4, 'stuck_time', 300.0)"
   ]
  },
  {
   "cell_type": "code",
   "execution_count": 38,
   "metadata": {},
   "outputs": [],
   "source": [
    "stuck_time_violation_10pct = pd.concat([stuck_veh_10pct, stuck_veh_10pct_sCf, stuck_veh_10pct_sT, stuck_veh_10pct_sT_sCf])"
   ]
  },
  {
   "cell_type": "code",
   "execution_count": 39,
   "metadata": {},
   "outputs": [],
   "source": [
    "stuck_time_violation_10pct.to_csv('/home/lola/Nextcloud/Masterarbeit/03_Outputs/stuck_time_violations_10_pct.csv', index = False) "
   ]
  },
  {
   "cell_type": "markdown",
   "metadata": {},
   "source": [
    "#### 25 pct"
   ]
  },
  {
   "cell_type": "code",
   "execution_count": null,
   "metadata": {},
   "outputs": [],
   "source": [
    "# 25 pct, alpha = 1\n",
    "path = \"/home/lola/math_cluster/output/output-lausitz-25.0-pct-fCf_sCF_0.25_gS_4711_3765/lausitz-25.0-pct-fCf_sCF_0.25_gS_4711_3765.output_events.xml.gz\"\n",
    "stuck_veh = countStuckVehicles(path)\n",
    "stuck_veh_25pct = pd.DataFrame({'n_stuck_veh': stuck_veh,'sample_size': \"25-pct\", 'alpha': 1.0,\n",
    "                                'global_seed': \"default\", 'stuck_time': 30.0 }, index= [0])\n",
    "\n",
    "\n"
   ]
  },
  {
   "cell_type": "code",
   "execution_count": null,
   "metadata": {},
   "outputs": [],
   "source": [
    "# 25 pct, alpha = 0.75\n",
    "path = \"/home/lola/math_cluster/output/output-lausitz-25.0-pct-fCf_0.25_sCF_0.35355_gS_4711_3765/lausitz-25.0-pct-fCf_0.25_sCF_0.35355_gS_4711_3765.output_events.xml.gz\"\n",
    "stuck_veh = countStuckVehicles(path)\n",
    "stuck_veh_25pct_sCf = pd.DataFrame({'n_stuck_veh': stuck_veh,'sample_size': \"25-pct\", 'alpha': 0.75,\n",
    "                                'global_seed': \"default\", 'stuck_time': 30.0 }, index = [1])\n"
   ]
  },
  {
   "cell_type": "code",
   "execution_count": 44,
   "metadata": {},
   "outputs": [],
   "source": [
    "# 25 pct, alpha = 1, sT scaled\n",
    "path = \"/home/lola/math_cluster/output/output-lausitz-25-pct-1-fCf_sCF_0.25_gS_4711_sT_120.0_3765/lausitz-25-pct-1-fCf_sCF_0.25_gS_4711_sT_120.0_3765.output_events.xml.gz\"\n",
    "stuck_veh = countStuckVehicles(path)\n",
    "stuck_veh_25pct_sT = pd.DataFrame({'n_stuck_veh': stuck_veh,'sample_size': \"25-pct\", 'alpha': 1.0,\n",
    "                                'global_seed': \"default\", 'stuck_time': 120.0 }, index = [2])"
   ]
  },
  {
   "cell_type": "code",
   "execution_count": 45,
   "metadata": {},
   "outputs": [],
   "source": [
    "# 25 pct, alpha = 0.75, sT scaled\n",
    "path = \"/home/lola/math_cluster/output/output-lausitz-25-pct-1-fCf_0.25_sCF_0.35355_gS_4711_sT_120.0_3765/lausitz-25-pct-1-fCf_0.25_sCF_0.35355_gS_4711_sT_120.0_3765.output_events.xml.gz\"\n",
    "stuck_veh = countStuckVehicles(path)\n",
    "stuck_veh_25pct_sT_sCf = pd.DataFrame({'n_stuck_veh': stuck_veh,'sample_size': \"25-pct\", 'alpha': 0.75,\n",
    "                                'global_seed': \"default\", 'stuck_time': 120.0 }, index = [3])"
   ]
  },
  {
   "cell_type": "code",
   "execution_count": 46,
   "metadata": {},
   "outputs": [],
   "source": [
    "stuck_time_violation_25pct = pd.concat([stuck_veh_25pct, stuck_veh_25pct_sCf, stuck_veh_25pct_sT, stuck_veh_25pct_sT_sCf])"
   ]
  },
  {
   "cell_type": "code",
   "execution_count": 47,
   "metadata": {},
   "outputs": [],
   "source": [
    "stuck_time_violation_25pct.to_csv('/home/lola/Nextcloud/Masterarbeit/03_Outputs/stuck_time_violations_25_pct.csv', index = False) "
   ]
  },
  {
   "cell_type": "markdown",
   "metadata": {},
   "source": [
    "#### 50 pct"
   ]
  },
  {
   "cell_type": "code",
   "execution_count": null,
   "metadata": {},
   "outputs": [],
   "source": [
    "# 50 pct, alpha = 1\n",
    "path = \"/home/lola/math_cluster/output/output-lausitz-50.0-pct-fCf_sCF_0.5_gS_4711_3765/lausitz-50.0-pct-fCf_sCF_0.5_gS_4711_3765.output_events.xml.gz\"\n",
    "stuck_veh = countStuckVehicles(path)\n",
    "stuck_veh_50pct = pd.DataFrame({'n_stuck_veh': stuck_veh,'sample_size': \"50-pct\", 'alpha': 1.0,\n",
    "                                'global_seed': \"default\", 'stuck_time': 30.0 }, index = [0])\n"
   ]
  },
  {
   "cell_type": "code",
   "execution_count": 51,
   "metadata": {},
   "outputs": [],
   "source": [
    "# 50 pct, alpha = 0.75\n",
    "path = \"/home/lola/math_cluster/output/output-lausitz-50.0-pct-fCf_0.5_sCF_0.5946_gS_4711_3765/lausitz-50.0-pct-fCf_0.5_sCF_0.5946_gS_4711_3765.output_events.xml.gz\"\n",
    "stuck_veh = countStuckVehicles(path)\n",
    "stuck_veh_50pct_sCf = pd.DataFrame({'n_stuck_veh': stuck_veh,'sample_size': \"50-pct\", 'alpha': 0.75,\n",
    "                                'global_seed': \"default\", 'stuck_time': 30.0 }, index = [1])"
   ]
  },
  {
   "cell_type": "code",
   "execution_count": 52,
   "metadata": {},
   "outputs": [],
   "source": [
    "# 50 pct, alpha = 1, sT scaled\n",
    "path = \"/home/lola/math_cluster/output/output-lausitz-50-pct-1-fCf_sCF_0.5_gS_4711_sT_60.0_3765/lausitz-50-pct-1-fCf_sCF_0.5_gS_4711_sT_60.0_3765.output_events.xml.gz\"\n",
    "stuck_veh = countStuckVehicles(path)\n",
    "stuck_veh_50pct_sT = pd.DataFrame({'n_stuck_veh': stuck_veh,'sample_size': \"50-pct\", 'alpha': 1.0,\n",
    "                                'global_seed': \"default\", 'stuck_time': 60.0 }, index = [2])"
   ]
  },
  {
   "cell_type": "code",
   "execution_count": 53,
   "metadata": {},
   "outputs": [],
   "source": [
    "# 50 pct, alpha = 0.75, sT scaled\n",
    "path = \"/home/lola/math_cluster/output/output-lausitz-50-pct-1-fCf_0.5_sCF_0.5946_gS_4711_sT_60.0_3765/lausitz-50-pct-1-fCf_0.5_sCF_0.5946_gS_4711_sT_60.0_3765.output_events.xml.gz\"\n",
    "stuck_veh = countStuckVehicles(path)\n",
    "stuck_veh_50pct_sT_sCf = pd.DataFrame({'n_stuck_veh': stuck_veh,'sample_size': \"50-pct\", 'alpha': 0.75,\n",
    "                                'global_seed': \"default\", 'stuck_time': 60.0 }, index = [3])"
   ]
  },
  {
   "cell_type": "code",
   "execution_count": null,
   "metadata": {},
   "outputs": [],
   "source": [
    "stuck_time_violation_50pct = pd.concat([stuck_veh_50pct, stuck_veh_50pct_sCf, stuck_veh_50pct_sT, stuck_veh_50pct_sT_sCf])\n",
    "stuck_time_violation_50pct.to_csv('/home/lola/Nextcloud/Masterarbeit/03_Outputs/stuck_time_violations_50_pct.csv', index = False) "
   ]
  },
  {
   "cell_type": "markdown",
   "metadata": {},
   "source": [
    "#### 100 pct"
   ]
  },
  {
   "cell_type": "code",
   "execution_count": 21,
   "metadata": {},
   "outputs": [],
   "source": [
    "# 100 pct\n",
    "path = \"/home/lola/math_cluster/output/output-lausitz-100.0-pct-fCf_sCF_1.0_gS_4711_3765/lausitz-100.0-pct-fCf_sCF_1.0_gS_4711_3765.output_events.xml.gz\"\n",
    "stuck_veh = countStuckVehicles(path)\n",
    "stuck_veh_100pct = pd.DataFrame({'n_stuck_veh': stuck_veh,'sample_size': \"100-pct\", 'alpha': 1.0,\n",
    "                                'global_seed': \"default\", 'stuck_time': 30.0 }, index = [0])"
   ]
  },
  {
   "cell_type": "markdown",
   "metadata": {},
   "source": [
    "#### pd.concat and write csv"
   ]
  },
  {
   "cell_type": "code",
   "execution_count": 22,
   "metadata": {},
   "outputs": [],
   "source": [
    "stuck_veh_100pct.to_csv('/home/lola/Nextcloud/Masterarbeit/03_Outputs/stuck_time_violations_100_pct.csv', index = False) "
   ]
  },
  {
   "cell_type": "code",
   "execution_count": 52,
   "metadata": {},
   "outputs": [],
   "source": [
    "# fix naming error \n",
    "stuck_time_violation_1pct = pd.read_csv('/home/lola/Nextcloud/Masterarbeit/03_Outputs/stuck_time_violations_1_pct.csv')\n",
    "#stuck_time_violation_1pct.rename(columns={\"n_stucktime_v\":\"n_stuck_veh\"}, inplace= True)"
   ]
  },
  {
   "cell_type": "code",
   "execution_count": 54,
   "metadata": {},
   "outputs": [],
   "source": [
    "stuck_time_violation_5pct = pd.read_csv(\"/home/lola/Nextcloud/Masterarbeit/03_Outputs/stuck_time_violations_5_pct.csv\")\n",
    "stuck_time_violation_10pct = pd.read_csv(\"/home/lola/Nextcloud/Masterarbeit/03_Outputs/stuck_time_violations_10_pct.csv\")\n",
    "stuck_time_violation_25pct = pd.read_csv(\"/home/lola/Nextcloud/Masterarbeit/03_Outputs/stuck_time_violations_25_pct.csv\")\n",
    "stuck_time_violation_50pct = pd.read_csv(\"/home/lola/Nextcloud/Masterarbeit/03_Outputs/stuck_time_violations_50_pct.csv\")\n",
    "stuck_time_violation_100pct = pd.read_csv(\"/home/lola/Nextcloud/Masterarbeit/03_Outputs/stuck_time_violations_100_pct.csv\")"
   ]
  },
  {
   "cell_type": "code",
   "execution_count": 56,
   "metadata": {},
   "outputs": [],
   "source": [
    "# concat\n",
    "stuck_time_violation_1_100 = pd.concat([stuck_time_violation_1pct, stuck_time_violation_5pct, stuck_time_violation_10pct,\n",
    "                                        stuck_time_violation_25pct, stuck_time_violation_50pct, stuck_veh_100pct])"
   ]
  },
  {
   "cell_type": "code",
   "execution_count": 58,
   "metadata": {},
   "outputs": [],
   "source": [
    "# write csv\n",
    "stuck_time_violation_1_100.to_csv('/home/lola/Nextcloud/Masterarbeit/03_Outputs/stuck_time_violations_1_to_100pct_correct2.csv', index = False) "
   ]
  },
  {
   "cell_type": "markdown",
   "metadata": {},
   "source": [
    "## 3. Count number of link leave events"
   ]
  },
  {
   "cell_type": "markdown",
   "metadata": {},
   "source": [
    "#### Function to filter output_events and count the number of link leave events"
   ]
  },
  {
   "cell_type": "code",
   "execution_count": 2,
   "metadata": {},
   "outputs": [],
   "source": [
    "# number of link leave events\n",
    "# Number of stuck vehicles\n",
    "def countLinkLeaveEvents(pathToEvents):\n",
    "    events_file = pathToEvents\n",
    "\n",
    "    # Read events - filter and return the listed event types only\n",
    "    events = matsim.event_reader(\n",
    "        events_file,\n",
    "        types=\"left link\",\n",
    "    )\n",
    "\n",
    "    # Save drt_requests by person_id\n",
    "    link_counts = defaultdict(int)\n",
    "\n",
    "    # Loop on all filtered events\n",
    "    for event in events:\n",
    "        if event[\"type\"] == \"left link\":\n",
    "            link_counts[event[\"link\"]] += 1\n",
    "    \n",
    "    count = 0 \n",
    "    for key in link_counts.keys():\n",
    "        count+= link_counts[key]\n",
    "    \n",
    "    return count"
   ]
  },
  {
   "cell_type": "markdown",
   "metadata": {},
   "source": [
    "#### 1 pct"
   ]
  },
  {
   "cell_type": "code",
   "execution_count": null,
   "metadata": {},
   "outputs": [],
   "source": [
    "# Count for each case\n",
    "link_leave_1pct = []\n",
    "for elem in range(1,11,1):\n",
    "    path = \"/home/lola/math_cluster/output/output-lausitz-1pct-\" + str(elem) + \"-fCf_sCF_0.01_gS_default_3765/lausitz-1pct-\"+str(elem)+ \"-fCf_sCf_0.01_gS_default_3765.output_events.xml.gz\"\n",
    "    link_leave = countLinkLeaveEvents(path)\n",
    "    link_leave_1pct.append(link_leave)\n",
    "link_leave_1pct = pd.DataFrame({'n_link_leave': link_leave_1pct})\n",
    "link_leave_1pct.insert(1, 'sample_size', \"1-pct\")\n",
    "link_leave_1pct.insert(2, 'alpha', 1.0)\n",
    "link_leave_1pct.insert(3, 'global_seed', \"default\")\n",
    "link_leave_1pct.insert(4, 'stuck_time', 30.0)"
   ]
  },
  {
   "cell_type": "code",
   "execution_count": null,
   "metadata": {},
   "outputs": [],
   "source": [
    "link_leave_1pct_sCf = []\n",
    "for elem in range(1,11,1):\n",
    "    path = \"/home/lola/math_cluster/output/output-lausitz-1pct-\" + str(elem) + \"-fCf_0.01_sCF_0.03162_gS_default_3765/lausitz-1pct-\" +str(elem)+ \"-fCf_0.01_sCf_0.03162_gS_default_3765.output_events.xml.gz\"\n",
    "    link_leave = countLinkLeaveEvents(path)\n",
    "    link_leave_1pct_sCf.append(link_leave)\n",
    "link_leave_1pct_sCf = pd.DataFrame({'n_link_leave': link_leave_1pct_sCf})\n",
    "link_leave_1pct_sCf.insert(1, 'sample_size', \"1-pct\")\n",
    "link_leave_1pct_sCf.insert(2, 'alpha', 0.75)\n",
    "link_leave_1pct_sCf.insert(3, 'global_seed', \"default\")\n",
    "link_leave_1pct_sCf.insert(4, 'stuck_time', 30.0)"
   ]
  },
  {
   "cell_type": "code",
   "execution_count": null,
   "metadata": {},
   "outputs": [],
   "source": [
    "#  1 pct random seed\n",
    "link_leave_1pct_rGs = pd.DataFrame()\n",
    "rGs = [ 4711,3254, 2306, 6384,4338, 6003, 5502, 9377, 5621, 9002 ]\n",
    "for seed in rGs:\n",
    "    if (seed == 4711):\n",
    "        global_seed = \"rnd_\" + str(seed)\n",
    "        # insert number of stuck time violations from the first 1 pct sample\n",
    "        temp = {'n_link_leave': link_leave_1pct[\"n_link_leave\"].iloc[0], 'sample_size': '1-pct', 'alpha': 1.0, 'stuck_time': 30.0, 'global_seed': global_seed  }\n",
    "        temp = pd.DataFrame(data=temp, index=[rGs.index(4711)])\n",
    "        link_leave_1pct_rGs = pd.concat([link_leave_1pct_rGs, temp])\n",
    "    elif (seed == 3254):\n",
    "        path =\"/home/lola/math_cluster/output/output-lausitz-1pct-1-fCf_sCF_0.01_gS_3254_3765/lausitz-1pct-1-fCf_sCf_0.01_gS_3254_3765.output_events.xml.gz\"\n",
    "        link_leave = countLinkLeaveEvents(path)\n",
    "        temp2 = pd.DataFrame({'n_link_leave': link_leave, 'sample_size': '1-pct', 'alpha': 1.0, 'stuck_time': 30.0, 'global_seed': \"rnd_\" + str(seed)  }, index = [rGs.index(3254)])\n",
    "        link_leave_1pct_rGs = pd.concat([link_leave_1pct_rGs, temp2], axis = 0)\n",
    "    else:\n",
    "        path = \"/home/lola/math_cluster/output/output-lausitz-1.0-pct-1-fCf_sCF_0.01_gS_\" +str(seed) + \"_3765/lausitz-1.0-pct-1-fCf_sCF_0.01_gS_\" + str(seed) + \"_3765.output_events.xml.gz\"\n",
    "        stuck_veh = countLinkLeaveEvents(path)\n",
    "        temp2 = pd.DataFrame({'n_link_leave': stuck_veh, 'sample_size': '1-pct', 'alpha': 1.0, 'stuck_time': 30.0, 'global_seed': \"rnd_\" + str(seed)  }, index = [rGs.index(seed)] )\n",
    "        link_leave_1pct_rGs = pd.concat([link_leave_1pct_rGs, temp2], axis = 0)"
   ]
  },
  {
   "cell_type": "code",
   "execution_count": null,
   "metadata": {},
   "outputs": [],
   "source": [
    "# 1 pct sT, alpha = 1\n",
    "link_leave_1pct_sT = []\n",
    "for elem in range(1,11,1):\n",
    "    path = \"/home/lola/math_cluster/output/output-lausitz-1-pct-\" + str(elem) + \"-fCf_sCF_0.01_gS_4711_sT_3000.0_3765/lausitz-1-pct-\" + str(elem) + \"-fCf_sCF_0.01_gS_4711_sT_3000.0_3765.output_events.xml.gz\"\n",
    "    link_leave = countLinkLeaveEvents(path)\n",
    "    link_leave_1pct_sT.append(link_leave)\n",
    "link_leave_1pct_sT = pd.DataFrame({'n_link_leave': link_leave_1pct_sT})\n",
    "link_leave_1pct_sT.insert(1, 'sample_size', \"1-pct\")\n",
    "link_leave_1pct_sT.insert(2, 'alpha', 1.0)\n",
    "link_leave_1pct_sT.insert(3, 'global_seed', \"default\")\n",
    "link_leave_1pct_sT.insert(4, 'stuck_time', 3000.0)"
   ]
  },
  {
   "cell_type": "code",
   "execution_count": null,
   "metadata": {},
   "outputs": [],
   "source": [
    "# 1 pct, sT scaled, alpha = 0.75\n",
    "link_leave_1pct_sT_sCf = []\n",
    "for elem in range(1,11,1):\n",
    "    path = \"/home/lola/math_cluster/output/output-lausitz-1-pct-\" + str(elem) + \"-fCf_0.01_sCF_0.03162_gS_4711_sT_3000.0_3765/lausitz-1-pct-\" + str(elem) +\"-fCf_0.01_sCF_0.03162_gS_4711_sT_3000.0_3765.output_events.xml.gz\"\n",
    "    link_leave = countLinkLeaveEvents(path)\n",
    "    link_leave_1pct_sT_sCf.append(link_leave)\n",
    "link_leave_1pct_sT_sCf = pd.DataFrame({'n_link_leave': link_leave_1pct_sT_sCf})\n",
    "link_leave_1pct_sT_sCf.insert(1, 'sample_size', \"1-pct\")\n",
    "link_leave_1pct_sT_sCf.insert(2, 'alpha', 0.75)\n",
    "link_leave_1pct_sT_sCf.insert(3, 'global_seed', \"default\")\n",
    "link_leave_1pct_sT_sCf.insert(4, 'stuck_time', 3000.0)"
   ]
  },
  {
   "cell_type": "code",
   "execution_count": null,
   "metadata": {},
   "outputs": [],
   "source": [
    "# concat 1 pct \n",
    "link_leave_1pct_all = pd.concat([link_leave_1pct, link_leave_1pct_sCf, link_leave_1pct_rGs, link_leave_1pct_sT, link_leave_1pct_sT_sCf], axis= 0)"
   ]
  },
  {
   "cell_type": "code",
   "execution_count": 13,
   "metadata": {},
   "outputs": [],
   "source": [
    "# write 1 pct to csv\n",
    "link_leave_1pct_all.to_csv('/home/lola/Nextcloud/Masterarbeit/03_Outputs/link_leave_1pct_all.csv', index = False) "
   ]
  },
  {
   "cell_type": "markdown",
   "metadata": {},
   "source": [
    "#### 5 pct"
   ]
  },
  {
   "cell_type": "code",
   "execution_count": null,
   "metadata": {},
   "outputs": [],
   "source": [
    "link_leave_5pct = []\n",
    "for elem in range(1,11,1):\n",
    "    if (elem==6):\n",
    "        path = \"/home/lola/math_cluster/output/output-lausitz-5.0-pct-6-fCf_sCF_0.05_gS_4711_3765/lausitz-5.0-pct-6-fCf_sCF_0.05_gS_4711_3765-2.output_events.xml.gz\"\n",
    "        link_leave = countLinkLeaveEvents(path)\n",
    "        link_leave_5pct.append(link_leave)\n",
    "    else:\n",
    "        path = \"/home/lola/math_cluster/output/output-lausitz-5.0-pct-\" + str(elem) + \"-fCf_sCF_0.05_gS_4711_3765/lausitz-5.0-pct-\"+str(elem)+ \"-fCf_sCF_0.05_gS_4711_3765.output_events.xml.gz\"\n",
    "        link_leave = countLinkLeaveEvents(path)\n",
    "        link_leave_5pct.append(link_leave)\n",
    "link_leave_5pct = pd.DataFrame({'n_link_leave': link_leave_5pct})\n",
    "link_leave_5pct.insert(1, 'sample_size', \"5-pct\")\n",
    "link_leave_5pct.insert(2, 'alpha', 1.0)\n",
    "link_leave_5pct.insert(3, 'global_seed', \"default\")\n",
    "link_leave_5pct.insert(4, 'stuck_time', 30.0)"
   ]
  },
  {
   "cell_type": "code",
   "execution_count": null,
   "metadata": {},
   "outputs": [],
   "source": [
    "link_leave_5pct_sCf = []\n",
    "for elem in range(1,11,1):\n",
    "    if (elem==6):\n",
    "        path = \"/home/lola/math_cluster/output/output-lausitz-5.0-pct-6-fCf_0.05_sCF_0.10574_gS_4711_3765/lausitz-5.0-pct-6-fCf_0.05_sCF_0.10574_gS_4711_3765-2.output_events.xml.gz\"\n",
    "        link_leave = countLinkLeaveEvents(path)\n",
    "        link_leave_5pct_sCf.append(link_leave)\n",
    "    else:\n",
    "        path = \"/home/lola/math_cluster/output/output-lausitz-5.0-pct-\" + str(elem) + \"-fCf_0.05_sCF_0.10574_gS_4711_3765/lausitz-5.0-pct-\"+str(elem)+ \"-fCf_0.05_sCF_0.10574_gS_4711_3765.output_events.xml.gz\"\n",
    "        link_leave = countLinkLeaveEvents(path)\n",
    "        link_leave_5pct_sCf.append(link_leave)\n",
    "link_leave_5pct_sCf = pd.DataFrame({'n_link_leave': link_leave_5pct_sCf})\n",
    "link_leave_5pct_sCf.insert(1, 'sample_size', \"5-pct\")\n",
    "link_leave_5pct_sCf.insert(2, 'alpha', 0.75)\n",
    "link_leave_5pct_sCf.insert(3, 'global_seed', \"default\")\n",
    "link_leave_5pct_sCf.insert(4, 'stuck_time', 30.0)\n",
    "\n"
   ]
  },
  {
   "cell_type": "code",
   "execution_count": 20,
   "metadata": {},
   "outputs": [],
   "source": [
    "# 5 pct random global seed, alpha = 1\n",
    "link_leave_5pct_rGs = pd.DataFrame()\n",
    "rGs = [4711, 3254, 2306, 6384,4338, 6003, 5502, 9377, 5621, 9002 ]\n",
    "\n",
    "for seed in rGs:\n",
    "    if (seed ==4711):\n",
    "        global_seed = \"rnd_\" + str(seed)\n",
    "        temp = {'n_link_leave': link_leave_5pct[\"n_link_leave\"].iloc[0], 'sample_size': '5-pct', 'alpha': 1.0, 'stuck_time': 30.0, 'global_seed': global_seed  }\n",
    "        temp = pd.DataFrame(data=temp, index=[rGs.index(4711)])\n",
    "        link_leave_5pct_rGs = pd.concat([link_leave_5pct_rGs, temp])\n",
    "    else:\n",
    "        path = \"/home/lola/math_cluster/output/output-lausitz-5.0-pct-1-fCf_sCF_0.05_gS_\" + str(seed) + \"_3765/lausitz-5.0-pct-1-fCf_sCF_0.05_gS_\"+ str(seed) +\"_3765.output_events.xml.gz\"\n",
    "        link_leave = countLinkLeaveEvents(path)\n",
    "        temp2 = pd.DataFrame({'n_link_leave': link_leave, 'sample_size': '5-pct', 'alpha': 1.0, 'stuck_time': 30.0, 'global_seed': \"rnd_\" + str(seed)  }, index = [rGs.index(seed)])\n",
    "        link_leave_5pct_rGs = pd.concat([link_leave_5pct_rGs, temp2], axis = 0)\n",
    "\n"
   ]
  },
  {
   "cell_type": "code",
   "execution_count": 21,
   "metadata": {},
   "outputs": [],
   "source": [
    "# 5 pct, alpha = 1.0, sT scaled\n",
    "link_leave_5pct_sT = []\n",
    "for elem in range(1,11,1):\n",
    "    path = \"/home/lola/math_cluster/output/output-lausitz-5-pct-\" + str(elem) + \"-fCf_sCF_0.05_gS_4711_sT_600.0_3765/lausitz-5-pct-\" + str(elem) +\"-fCf_sCF_0.05_gS_4711_sT_600.0_3765.output_events.xml.gz\"\n",
    "    link_leave = countLinkLeaveEvents(path)\n",
    "    link_leave_5pct_sT.append(link_leave)\n",
    "link_leave_5pct_sT = pd.DataFrame({'n_link_leave': link_leave_5pct_sT})\n",
    "\n",
    "link_leave_5pct_sT.insert(1, 'sample_size', \"5-pct\")\n",
    "link_leave_5pct_sT.insert(2, 'alpha', 1.0)\n",
    "link_leave_5pct_sT.insert(3, 'global_seed', \"default\")\n",
    "link_leave_5pct_sT.insert(4, 'stuck_time', 600.0)"
   ]
  },
  {
   "cell_type": "code",
   "execution_count": 22,
   "metadata": {},
   "outputs": [],
   "source": [
    "# 5 pct, sT scaled, alpha = 0.75\n",
    "# 5 pct, alpha = 0.75, sT scaled\n",
    "link_leave_5pct_sT_sCf = []\n",
    "for elem in range(1,11,1):\n",
    "    path = \"/home/lola/math_cluster/output/output-lausitz-5-pct-\" + str (elem) + \"-fCf_0.05_sCF_0.10574_gS_4711_sT_600.0_3765/lausitz-5-pct-\" + str(elem) + \"-fCf_0.05_sCF_0.10574_gS_4711_sT_600.0_3765.output_events.xml.gz\"\n",
    "    link_leave = countLinkLeaveEvents(path)\n",
    "    link_leave_5pct_sT_sCf.append(link_leave)\n",
    "link_leave_5pct_sT_sCf = pd.DataFrame({'n_link_leave': link_leave_5pct_sT_sCf})\n",
    "\n",
    "link_leave_5pct_sT_sCf.insert(1, 'sample_size', \"5-pct\")\n",
    "link_leave_5pct_sT_sCf.insert(2, 'alpha', 0.75)\n",
    "link_leave_5pct_sT_sCf.insert(3, 'global_seed', \"default\")\n",
    "link_leave_5pct_sT_sCf.insert(4, 'stuck_time', 600.0)"
   ]
  },
  {
   "cell_type": "code",
   "execution_count": 23,
   "metadata": {},
   "outputs": [],
   "source": [
    "link_leave_5pct_all = pd.concat([link_leave_5pct, link_leave_5pct_sCf, link_leave_5pct_rGs, link_leave_5pct_sT, link_leave_5pct_sT_sCf], axis = 0)"
   ]
  },
  {
   "cell_type": "code",
   "execution_count": 24,
   "metadata": {},
   "outputs": [],
   "source": [
    "link_leave_5pct_all.to_csv('/home/lola/Nextcloud/Masterarbeit/03_Outputs/link_leave_5pct_all.csv', index = False) "
   ]
  },
  {
   "cell_type": "markdown",
   "metadata": {},
   "source": [
    "#### 10 pct"
   ]
  },
  {
   "cell_type": "code",
   "execution_count": null,
   "metadata": {},
   "outputs": [],
   "source": [
    "link_leave_10pct = []\n",
    "for elem in range(1,11,1):\n",
    "    #       /home/lola/math_cluster/output/output-lausitz-10.0-pct-1-fCf_sCF_0.1_gS_4711_3765/lausitz-10.0-pct-1-fCf_sCF_0.1_gS_4711_3765.output_events.xml.gz\n",
    "    path = \"/home/lola/math_cluster/output/output-lausitz-10.0-pct-\" + str(elem) + \"-fCf_sCF_0.1_gS_4711_3765/lausitz-10.0-pct-\"+str(elem)+ \"-fCf_sCF_0.1_gS_4711_3765.output_events.xml.gz\"\n",
    "    link_leave = countLinkLeaveEvents(path)\n",
    "    link_leave_10pct.append(link_leave)\n",
    "link_leave_10pct = pd.DataFrame({'n_link_leave': link_leave_10pct})\n",
    "link_leave_10pct.insert(1, 'sample_size', \"10-pct\")\n",
    "link_leave_10pct.insert(2, 'alpha', 1.0)\n",
    "link_leave_10pct.insert(3, 'global_seed', \"default\")\n",
    "link_leave_10pct.insert(4, 'stuck_time', 30.0)\n",
    "\n"
   ]
  },
  {
   "cell_type": "code",
   "execution_count": null,
   "metadata": {},
   "outputs": [],
   "source": [
    "link_leave_10pct_sCf = []\n",
    "for elem in range(1,11,1):\n",
    "    #       /home/lola/math_cluster/output/output-lausitz-10.0-pct-1-fCf_0.1_sCF_0.17783_gS_4711_3765/lausitz-10.0-pct-1-fCf_0.1_sCF_0.17783_gS_4711_3765.output_events.xml.gz     \n",
    "    path = \"/home/lola/math_cluster/output/output-lausitz-10.0-pct-\" + str(elem) + \"-fCf_0.1_sCF_0.17783_gS_4711_3765/lausitz-10.0-pct-\" +str(elem)+ \"-fCf_0.1_sCF_0.17783_gS_4711_3765.output_events.xml.gz\"\n",
    "    link_leave = countLinkLeaveEvents(path)\n",
    "    link_leave_10pct_sCf.append(link_leave)\n",
    "link_leave_10pct_sCf = pd.DataFrame({'n_link_leave': link_leave_10pct_sCf})\n",
    "link_leave_10pct_sCf.insert(1, 'sample_size', \"10-pct\")\n",
    "link_leave_10pct_sCf.insert(2, 'alpha', 0.75)\n",
    "link_leave_10pct_sCf.insert(3, 'global_seed', \"default\")\n",
    "link_leave_10pct_sCf.insert(4, 'stuck_time', 30.0)"
   ]
  },
  {
   "cell_type": "code",
   "execution_count": 28,
   "metadata": {},
   "outputs": [],
   "source": [
    "# 10 pct, alpha = 1, sT scaled\n",
    "link_leave_10pct_sT = []\n",
    "for elem in range(1,11,1):\n",
    "    path = \"/home/lola/math_cluster/output/output-lausitz-10-pct-\" + str(elem) + \"-fCf_sCF_0.1_gS_4711_sT_300.0_3765/lausitz-10-pct-\" + str(elem) + \"-fCf_sCF_0.1_gS_4711_sT_300.0_3765.output_events.xml.gz\"\n",
    "    link_leave = countLinkLeaveEvents(path)\n",
    "    link_leave_10pct_sT.append(link_leave)\n",
    "link_leave_10pct_sT = pd.DataFrame({'n_link_leave': link_leave_10pct_sT})\n",
    "link_leave_10pct_sT.insert(1, 'sample_size', \"10-pct\")\n",
    "link_leave_10pct_sT.insert(2, 'alpha', 1.0)\n",
    "link_leave_10pct_sT.insert(3, 'global_seed', \"default\")\n",
    "link_leave_10pct_sT.insert(4, 'stuck_time', 300.0)"
   ]
  },
  {
   "cell_type": "code",
   "execution_count": 29,
   "metadata": {},
   "outputs": [],
   "source": [
    "# 10 pct, alpha = 0.75, sT scaled\n",
    "link_leave_10pct_sT_sCf = []\n",
    "for elem in range(1,11,1):\n",
    "    path = \"/home/lola/math_cluster/output/output-lausitz-10-pct-\" + str(elem) + \"-fCf_0.1_sCF_0.17783_gS_4711_sT_300.0_3765/lausitz-10-pct-\" + str(elem) + \"-fCf_0.1_sCF_0.17783_gS_4711_sT_300.0_3765.output_events.xml.gz\"\n",
    "    link_leave = countLinkLeaveEvents(path)\n",
    "    link_leave_10pct_sT_sCf.append(link_leave)\n",
    "link_leave_10pct_sT_sCf = pd.DataFrame({'n_link_leave': link_leave_10pct_sT_sCf})\n",
    "link_leave_10pct_sT_sCf.insert(1, 'sample_size', \"10-pct\")\n",
    "link_leave_10pct_sT_sCf.insert(2, 'alpha', 0.75)\n",
    "link_leave_10pct_sT_sCf.insert(3, 'global_seed', \"default\")\n",
    "link_leave_10pct_sT_sCf.insert(4, 'stuck_time', 300.0)"
   ]
  },
  {
   "cell_type": "code",
   "execution_count": 30,
   "metadata": {},
   "outputs": [],
   "source": [
    "link_leave_10_pct_all = pd.concat([link_leave_10pct, link_leave_10pct_sCf, link_leave_10pct_sT, link_leave_10pct_sT_sCf], axis = 0)"
   ]
  },
  {
   "cell_type": "code",
   "execution_count": 31,
   "metadata": {},
   "outputs": [],
   "source": [
    "# write csv\n",
    "link_leave_10_pct_all.to_csv('/home/lola/Nextcloud/Masterarbeit/03_Outputs/link_leave_10_pct_all.csv', index = False) "
   ]
  },
  {
   "cell_type": "markdown",
   "metadata": {},
   "source": [
    "#### 25 pct "
   ]
  },
  {
   "cell_type": "code",
   "execution_count": 33,
   "metadata": {},
   "outputs": [],
   "source": [
    "# 25 pct, alpha = 1\n",
    "path = \"/home/lola/math_cluster/output/output-lausitz-25.0-pct-fCf_sCF_0.25_gS_4711_3765/lausitz-25.0-pct-fCf_sCF_0.25_gS_4711_3765.output_events.xml.gz\"\n",
    "link_leave = countLinkLeaveEvents(path)\n",
    "link_leave_25pct = pd.DataFrame({'n_link_leave': link_leave,'sample_size': \"25-pct\", 'alpha': 1.0,\n",
    "                                'global_seed': \"default\", 'stuck_time': 30.0 }, index= [0])\n",
    "\n",
    "\n"
   ]
  },
  {
   "cell_type": "code",
   "execution_count": 34,
   "metadata": {},
   "outputs": [],
   "source": [
    "# 25 pct, alpha = 0.75\n",
    "path = \"/home/lola/math_cluster/output/output-lausitz-25.0-pct-fCf_0.25_sCF_0.35355_gS_4711_3765/lausitz-25.0-pct-fCf_0.25_sCF_0.35355_gS_4711_3765.output_events.xml.gz\"\n",
    "link_leave = countLinkLeaveEvents(path)\n",
    "link_leave_25pct_sCf = pd.DataFrame({'n_link_leave': link_leave,'sample_size': \"25-pct\", 'alpha': 0.75,\n",
    "                                'global_seed': \"default\", 'stuck_time': 30.0 }, index = [1])\n"
   ]
  },
  {
   "cell_type": "code",
   "execution_count": 35,
   "metadata": {},
   "outputs": [],
   "source": [
    "# 25 pct, alpha = 1, sT scaled\n",
    "path = \"/home/lola/math_cluster/output/output-lausitz-25-pct-1-fCf_sCF_0.25_gS_4711_sT_120.0_3765/lausitz-25-pct-1-fCf_sCF_0.25_gS_4711_sT_120.0_3765.output_events.xml.gz\"\n",
    "link_leave = countLinkLeaveEvents(path)\n",
    "link_leave_25pct_sT = pd.DataFrame({'n_link_leave': link_leave,'sample_size': \"25-pct\", 'alpha': 1.0,\n",
    "                                'global_seed': \"default\", 'stuck_time': 120.0 }, index = [2])"
   ]
  },
  {
   "cell_type": "code",
   "execution_count": 36,
   "metadata": {},
   "outputs": [],
   "source": [
    "# 25 pct, alpha = 0.75, sT scaled\n",
    "path = \"/home/lola/math_cluster/output/output-lausitz-25-pct-1-fCf_0.25_sCF_0.35355_gS_4711_sT_120.0_3765/lausitz-25-pct-1-fCf_0.25_sCF_0.35355_gS_4711_sT_120.0_3765.output_events.xml.gz\"\n",
    "link_leave = countLinkLeaveEvents(path)\n",
    "link_leave_25pct_sT_sCf = pd.DataFrame({'n_link_leave': link_leave,'sample_size': \"25-pct\", 'alpha': 0.75,\n",
    "                                'global_seed': \"default\", 'stuck_time': 120.0 }, index = [3])"
   ]
  },
  {
   "cell_type": "code",
   "execution_count": 37,
   "metadata": {},
   "outputs": [],
   "source": [
    "link_leave_25_pct_all = pd.concat([link_leave_25pct, link_leave_25pct_sCf, link_leave_25pct_sT, link_leave_25pct_sT_sCf], axis = 0)"
   ]
  },
  {
   "cell_type": "code",
   "execution_count": 38,
   "metadata": {},
   "outputs": [],
   "source": [
    "# write csv\n",
    "link_leave_25_pct_all.to_csv('/home/lola/Nextcloud/Masterarbeit/03_Outputs/link_leave_25_pct_all.csv', index = False) "
   ]
  },
  {
   "cell_type": "markdown",
   "metadata": {},
   "source": [
    "#### 50 pct"
   ]
  },
  {
   "cell_type": "code",
   "execution_count": 39,
   "metadata": {},
   "outputs": [],
   "source": [
    "# 50 pct, alpha = 1\n",
    "path = \"/home/lola/math_cluster/output/output-lausitz-50.0-pct-fCf_sCF_0.5_gS_4711_3765/lausitz-50.0-pct-fCf_sCF_0.5_gS_4711_3765.output_events.xml.gz\"\n",
    "link_leave = countLinkLeaveEvents(path)\n",
    "link_leave_50pct = pd.DataFrame({'n_link_leave': link_leave,'sample_size': \"50-pct\", 'alpha': 1.0,\n",
    "                                'global_seed': \"default\", 'stuck_time': 30.0 }, index = [0])\n"
   ]
  },
  {
   "cell_type": "code",
   "execution_count": 40,
   "metadata": {},
   "outputs": [],
   "source": [
    "# 50 pct, alpha = 0.75\n",
    "path = \"/home/lola/math_cluster/output/output-lausitz-50.0-pct-fCf_0.5_sCF_0.5946_gS_4711_3765/lausitz-50.0-pct-fCf_0.5_sCF_0.5946_gS_4711_3765.output_events.xml.gz\"\n",
    "link_leave = countLinkLeaveEvents(path)\n",
    "link_leave_50pct_sCf = pd.DataFrame({'n_link_leave': link_leave,'sample_size': \"50-pct\", 'alpha': 0.75,\n",
    "                                'global_seed': \"default\", 'stuck_time': 30.0 }, index = [1])"
   ]
  },
  {
   "cell_type": "code",
   "execution_count": 41,
   "metadata": {},
   "outputs": [],
   "source": [
    "# 50 pct, alpha = 1, sT scaled\n",
    "path = \"/home/lola/math_cluster/output/output-lausitz-50-pct-1-fCf_sCF_0.5_gS_4711_sT_60.0_3765/lausitz-50-pct-1-fCf_sCF_0.5_gS_4711_sT_60.0_3765.output_events.xml.gz\"\n",
    "link_leave = countLinkLeaveEvents(path)\n",
    "link_leave_50pct_sT = pd.DataFrame({'n_link_leave': link_leave,'sample_size': \"50-pct\", 'alpha': 1.0,\n",
    "                                'global_seed': \"default\", 'stuck_time': 60.0 }, index = [2])"
   ]
  },
  {
   "cell_type": "code",
   "execution_count": 42,
   "metadata": {},
   "outputs": [],
   "source": [
    "# 50 pct, alpha = 0.75, sT scaled\n",
    "path = \"/home/lola/math_cluster/output/output-lausitz-50-pct-1-fCf_0.5_sCF_0.5946_gS_4711_sT_60.0_3765/lausitz-50-pct-1-fCf_0.5_sCF_0.5946_gS_4711_sT_60.0_3765.output_events.xml.gz\"\n",
    "link_leave = countLinkLeaveEvents(path)\n",
    "link_leave_50pct_sT_sCf = pd.DataFrame({'n_link_leave': link_leave,'sample_size': \"50-pct\", 'alpha': 0.75,\n",
    "                                'global_seed': \"default\", 'stuck_time': 60.0 }, index = [3])"
   ]
  },
  {
   "cell_type": "code",
   "execution_count": 43,
   "metadata": {},
   "outputs": [],
   "source": [
    "link_leave_50_pct_all = pd.concat([link_leave_50pct, link_leave_50pct_sCf, link_leave_50pct_sT, link_leave_50pct_sT_sCf], axis = 0)"
   ]
  },
  {
   "cell_type": "code",
   "execution_count": 44,
   "metadata": {},
   "outputs": [],
   "source": [
    "# write csv\n",
    "link_leave_50_pct_all.to_csv('/home/lola/Nextcloud/Masterarbeit/03_Outputs/link_leave_50_pct_all.csv', index = False) "
   ]
  },
  {
   "cell_type": "markdown",
   "metadata": {},
   "source": [
    "#### 100 pct"
   ]
  },
  {
   "cell_type": "code",
   "execution_count": 45,
   "metadata": {},
   "outputs": [],
   "source": [
    "# 100 pct\n",
    "path = \"/home/lola/math_cluster/output/output-lausitz-100.0-pct-fCf_sCF_1.0_gS_4711_3765/lausitz-100.0-pct-fCf_sCF_1.0_gS_4711_3765.output_events.xml.gz\"\n",
    "link_leave = countLinkLeaveEvents(path)\n",
    "link_leave_100pct = pd.DataFrame({'n_link_leave': link_leave,'sample_size': \"100-pct\", 'alpha': 1.0,\n",
    "                                'global_seed': \"default\", 'stuck_time': 30.0 }, index = [0])"
   ]
  },
  {
   "cell_type": "code",
   "execution_count": 46,
   "metadata": {},
   "outputs": [],
   "source": [
    "# write csv\n",
    "link_leave_100pct.to_csv('/home/lola/Nextcloud/Masterarbeit/03_Outputs/link_leave_only_100pct.csv', index = False) "
   ]
  },
  {
   "cell_type": "code",
   "execution_count": 50,
   "metadata": {},
   "outputs": [],
   "source": [
    "link_leave_1pct_all = pd.read_csv('/home/lola/Nextcloud/Masterarbeit/03_Outputs/link_leave_1pct_all.csv')\n"
   ]
  },
  {
   "cell_type": "code",
   "execution_count": 52,
   "metadata": {},
   "outputs": [],
   "source": [
    "link_leave_1pct_all.rename(columns={\"n_linke_leave\": \"n_link_leave\"}, inplace = True )"
   ]
  },
  {
   "cell_type": "code",
   "execution_count": 136,
   "metadata": {},
   "outputs": [],
   "source": [
    "link_leave_5pct_all = pd.read_csv('/home/lola/Nextcloud/Masterarbeit/03_Outputs/link_leave_5pct_all.csv')\n"
   ]
  },
  {
   "cell_type": "code",
   "execution_count": 137,
   "metadata": {},
   "outputs": [],
   "source": [
    "toFix = link_leave_5pct_all.iloc[10:20,]"
   ]
  },
  {
   "cell_type": "code",
   "execution_count": 138,
   "metadata": {},
   "outputs": [],
   "source": [
    "values = toFix[\"n_linke_leave\"].copy()\n"
   ]
  },
  {
   "cell_type": "code",
   "execution_count": 139,
   "metadata": {},
   "outputs": [],
   "source": [
    "df = toFix.drop('n_linke_leave', axis=1)"
   ]
  },
  {
   "cell_type": "code",
   "execution_count": 140,
   "metadata": {},
   "outputs": [],
   "source": [
    "df = df.drop('n_link_leave', axis=1)"
   ]
  },
  {
   "cell_type": "code",
   "execution_count": 141,
   "metadata": {},
   "outputs": [],
   "source": [
    "df[\"n_link_leave\"] = values"
   ]
  },
  {
   "cell_type": "code",
   "execution_count": 142,
   "metadata": {},
   "outputs": [],
   "source": [
    "old_part1 = link_leave_5pct_all.iloc[0:10,]"
   ]
  },
  {
   "cell_type": "code",
   "execution_count": 143,
   "metadata": {},
   "outputs": [],
   "source": [
    "old_part1 = old_part1.drop('n_linke_leave', axis=1)"
   ]
  },
  {
   "cell_type": "code",
   "execution_count": 144,
   "metadata": {},
   "outputs": [],
   "source": [
    "old_part2 = link_leave_5pct_all.iloc[20:50,]\n",
    "old_part2 = old_part2.drop('n_linke_leave', axis=1)"
   ]
  },
  {
   "cell_type": "code",
   "execution_count": 145,
   "metadata": {},
   "outputs": [],
   "source": [
    "link_leave_5pct_all = pd.concat([old_part1, df, old_part2 ], axis = 0)"
   ]
  },
  {
   "cell_type": "code",
   "execution_count": 146,
   "metadata": {},
   "outputs": [
    {
     "name": "stdout",
     "output_type": "stream",
     "text": [
      "    n_link_leave sample_size  alpha global_seed  stuck_time\n",
      "0      4448932.0       5-pct   1.00     default        30.0\n",
      "1      4374804.0       5-pct   1.00     default        30.0\n",
      "2      4342905.0       5-pct   1.00     default        30.0\n",
      "3      4452041.0       5-pct   1.00     default        30.0\n",
      "4      4376599.0       5-pct   1.00     default        30.0\n",
      "5      4440020.0       5-pct   1.00     default        30.0\n",
      "6      4445793.0       5-pct   1.00     default        30.0\n",
      "7      4508651.0       5-pct   1.00     default        30.0\n",
      "8      4442686.0       5-pct   1.00     default        30.0\n",
      "9      4404193.0       5-pct   1.00     default        30.0\n",
      "10     4443451.0       5-pct   0.75     default        30.0\n",
      "11     4373339.0       5-pct   0.75     default        30.0\n",
      "12     4340804.0       5-pct   0.75     default        30.0\n",
      "13     4448246.0       5-pct   0.75     default        30.0\n",
      "14     4375607.0       5-pct   0.75     default        30.0\n",
      "15     4443274.0       5-pct   0.75     default        30.0\n",
      "16     4448357.0       5-pct   0.75     default        30.0\n",
      "17     4507483.0       5-pct   0.75     default        30.0\n",
      "18     4441105.0       5-pct   0.75     default        30.0\n",
      "19     4404624.0       5-pct   0.75     default        30.0\n",
      "20     4448932.0       5-pct   1.00    rnd_4711        30.0\n",
      "21     4449442.0       5-pct   1.00    rnd_3254        30.0\n",
      "22     4448632.0       5-pct   1.00    rnd_2306        30.0\n",
      "23     4451390.0       5-pct   1.00    rnd_6384        30.0\n",
      "24     4448685.0       5-pct   1.00    rnd_4338        30.0\n",
      "25     4452192.0       5-pct   1.00    rnd_6003        30.0\n",
      "26     4450972.0       5-pct   1.00    rnd_5502        30.0\n",
      "27     4445201.0       5-pct   1.00    rnd_9377        30.0\n",
      "28     4446512.0       5-pct   1.00    rnd_5621        30.0\n",
      "29     4453096.0       5-pct   1.00    rnd_9002        30.0\n",
      "30     4443528.0       5-pct   1.00     default       600.0\n",
      "31     4370883.0       5-pct   1.00     default       600.0\n",
      "32     4338058.0       5-pct   1.00     default       600.0\n",
      "33     4447999.0       5-pct   1.00     default       600.0\n",
      "34     4372011.0       5-pct   1.00     default       600.0\n",
      "35     4440575.0       5-pct   1.00     default       600.0\n",
      "36     4447360.0       5-pct   1.00     default       600.0\n",
      "37     4505701.0       5-pct   1.00     default       600.0\n",
      "38     4431008.0       5-pct   1.00     default       600.0\n",
      "39     4403074.0       5-pct   1.00     default       600.0\n",
      "40     4445876.0       5-pct   0.75     default       600.0\n",
      "41     4371445.0       5-pct   0.75     default       600.0\n",
      "42     4336946.0       5-pct   0.75     default       600.0\n",
      "43     4446229.0       5-pct   0.75     default       600.0\n",
      "44     4370768.0       5-pct   0.75     default       600.0\n",
      "45     4443562.0       5-pct   0.75     default       600.0\n",
      "46     4444800.0       5-pct   0.75     default       600.0\n",
      "47     4504166.0       5-pct   0.75     default       600.0\n",
      "48     4437801.0       5-pct   0.75     default       600.0\n",
      "49     4404340.0       5-pct   0.75     default       600.0\n"
     ]
    }
   ],
   "source": [
    "print(link_leave_5pct_all)"
   ]
  },
  {
   "cell_type": "code",
   "execution_count": 147,
   "metadata": {},
   "outputs": [],
   "source": [
    "link_leave_10_pct_all = pd.read_csv('/home/lola/Nextcloud/Masterarbeit/03_Outputs/link_leave_10_pct_all.csv')\n"
   ]
  },
  {
   "cell_type": "code",
   "execution_count": 148,
   "metadata": {},
   "outputs": [],
   "source": [
    "link_leave_25_pct_all = pd.read_csv('/home/lola/Nextcloud/Masterarbeit/03_Outputs/link_leave_25_pct_all.csv')\n"
   ]
  },
  {
   "cell_type": "code",
   "execution_count": 149,
   "metadata": {},
   "outputs": [],
   "source": [
    "link_leave_50_pct_all = pd.read_csv('/home/lola/Nextcloud/Masterarbeit/03_Outputs/link_leave_50_pct_all.csv')\n"
   ]
  },
  {
   "cell_type": "code",
   "execution_count": 150,
   "metadata": {},
   "outputs": [],
   "source": [
    "link_leave_100pct = pd.read_csv('/home/lola/Nextcloud/Masterarbeit/03_Outputs/link_leave_only_100pct.csv')"
   ]
  },
  {
   "cell_type": "code",
   "execution_count": 151,
   "metadata": {},
   "outputs": [],
   "source": [
    "link_leave_1_100 = pd.concat([link_leave_1pct_all, link_leave_5pct_all, link_leave_10_pct_all, link_leave_25_pct_all, link_leave_50_pct_all, link_leave_100pct ], axis = 0)"
   ]
  },
  {
   "cell_type": "code",
   "execution_count": 156,
   "metadata": {},
   "outputs": [],
   "source": [
    "# write csv\n",
    "link_leave_1_100.to_csv('/home/lola/Nextcloud/Masterarbeit/03_Outputs/link_leave_1_100pct.csv', index = False) "
   ]
  },
  {
   "cell_type": "markdown",
   "metadata": {},
   "source": [
    "## 4. Executed Scores at iteration 500"
   ]
  },
  {
   "cell_type": "markdown",
   "metadata": {},
   "source": [
    "#### 1 pct"
   ]
  },
  {
   "cell_type": "code",
   "execution_count": 35,
   "metadata": {},
   "outputs": [],
   "source": [
    "#### scores ####\n",
    "# 1pct, alpha = 1\n",
    "scores_1pct =pd.DataFrame()\n",
    "for elem in range(1,11,1):\n",
    "    path = \"/home/lola/math_cluster/output/output-lausitz-1pct-\" + str(elem) + \"-fCf_sCF_0.01_gS_default_3765/lausitz-1pct-\" + str(elem) + \"-fCf_sCf_0.01_gS_default_3765.scorestats.csv\"\n",
    "    temp = pd.read_csv(path, sep=\";\")\n",
    "    df = pd.DataFrame({\"avg_executed_it_500\":temp[\"avg_executed\"].iloc[500], \"sample_size\": \"1-pct\", \"sample_nr\": elem, \"alpha\": 1.0, \"stuck_time\": 30.0, \"global_seed\": \"default\" }, index = [elem])\n",
    "    scores_1pct = pd.concat([scores_1pct, df], axis = 0)\n",
    "    "
   ]
  },
  {
   "cell_type": "code",
   "execution_count": 36,
   "metadata": {},
   "outputs": [],
   "source": [
    "# 1 pct, alpha = 0.75\n",
    "scores_1pct_sCf = pd.DataFrame()\n",
    "for elem in range(1,11,1):\n",
    "    path = \"/home/lola/math_cluster/output/output-lausitz-1pct-\" + str(elem) + \"-fCf_0.01_sCF_0.03162_gS_default_3765/lausitz-1pct-\" + str(elem) + \"-fCf_0.01_sCf_0.03162_gS_default_3765.scorestats.csv\"\n",
    "    temp = pd.read_csv(path, sep=\";\")\n",
    "    df = pd.DataFrame({\"avg_executed_it_500\":temp[\"avg_executed\"].iloc[500], \"sample_size\": \"1-pct\", \"sample_nr\": elem, \"alpha\": 0.75, \"stuck_time\": 30.0, \"global_seed\": \"default\" }, index = [elem])\n",
    "    scores_1pct_sCf = pd.concat([scores_1pct_sCf, df], axis = 0)"
   ]
  },
  {
   "cell_type": "code",
   "execution_count": 37,
   "metadata": {},
   "outputs": [],
   "source": [
    "# 1 pct, alpha 1, random global seed\n",
    "#  1 pct random seed\n",
    "scores_1pct_rGs = pd.DataFrame()\n",
    "rGs = [ 4711,3254, 2306, 6384,4338, 6003, 5502, 9377, 5621, 9002 ]\n",
    "for seed in rGs:\n",
    "    if (seed == 4711):\n",
    "        global_seed = \"rnd_\" + str(seed)\n",
    "        # insert number of stuck time violations from the first 1 pct sample\n",
    "        df = pd.DataFrame({\"avg_executed_it_500\":scores_1pct[\"avg_executed_it_500\"].iloc[0], \"sample_size\": \"1-pct\", \"sample_nr\": 1, \"alpha\": 1.0, \"stuck_time\": 30.0, \"global_seed\": global_seed }, index = [rGs.index(seed)])\n",
    "        scores_1pct_rGs = pd.concat([scores_1pct_rGs, df])\n",
    "    elif (seed == 3254):\n",
    "        global_seed = \"rnd_\" + str(seed)\n",
    "        path =\"/home/lola/math_cluster/output/output-lausitz-1pct-1-fCf_sCF_0.01_gS_3254_3765/lausitz-1pct-1-fCf_sCf_0.01_gS_3254_3765.scorestats.csv\"\n",
    "        temp = pd.read_csv(path, sep = \";\")\n",
    "        df = pd.DataFrame({\"avg_executed_it_500\":temp[\"avg_executed\"].iloc[500], \"sample_size\": \"1-pct\", \"sample_nr\": 1, \"alpha\":1.0, \"stuck_time\": 30.0, \"global_seed\": global_seed }, index = [rGs.index(seed)])\n",
    "        scores_1pct_rGs = pd.concat([scores_1pct_rGs, df], axis = 0)\n",
    "    else:\n",
    "        global_seed = \"rnd_\" + str(seed)\n",
    "        path = \"/home/lola/math_cluster/output/output-lausitz-1.0-pct-1-fCf_sCF_0.01_gS_\" + str(seed) + \"_3765/lausitz-1.0-pct-1-fCf_sCF_0.01_gS_\" + str(seed) + \"_3765.scorestats.csv\"\n",
    "        temp = pd.read_csv(path, sep = \";\")\n",
    "        df = pd.DataFrame({\"avg_executed_it_500\":temp[\"avg_executed\"].iloc[500], \"sample_size\": \"1-pct\", \"sample_nr\": 1, \"alpha\":1.0, \"stuck_time\": 30.0, \"global_seed\": global_seed }, index = [rGs.index(seed)])\n",
    "        scores_1pct_rGs = pd.concat([scores_1pct_rGs, df], axis = 0)"
   ]
  },
  {
   "cell_type": "code",
   "execution_count": 38,
   "metadata": {},
   "outputs": [],
   "source": [
    "# 1 pct, alpha = 1, sT scaled\n",
    "scores_1pct_sT =pd.DataFrame()\n",
    "for elem in range(1,11,1):\n",
    "    path = \"/home/lola/math_cluster/output/output-lausitz-1-pct-\" + str(elem) + \"-fCf_sCF_0.01_gS_4711_sT_3000.0_3765/lausitz-1-pct-\" + str(elem) + \"-fCf_sCF_0.01_gS_4711_sT_3000.0_3765.scorestats.csv\"\n",
    "    temp = pd.read_csv(path, sep=\";\")\n",
    "    df = pd.DataFrame({\"avg_executed_it_500\":temp[\"avg_executed\"].iloc[500], \"sample_size\": \"1-pct\", \"sample_nr\": elem, \"alpha\": 1.0, \"stuck_time\": 3000.0, \"global_seed\": \"default\" }, index = [elem])\n",
    "    scores_1pct_sT = pd.concat([scores_1pct_sT, df], axis = 0)\n"
   ]
  },
  {
   "cell_type": "code",
   "execution_count": 39,
   "metadata": {},
   "outputs": [],
   "source": [
    "# 1 pct, alpha = 0.75, sT scaled\n",
    "scores_1pct_sT_sCf =pd.DataFrame()\n",
    "for elem in range(1,11,1):\n",
    "    path = \"/home/lola/math_cluster/output/output-lausitz-1-pct-\"+ str(elem) + \"-fCf_0.01_sCF_0.03162_gS_4711_sT_3000.0_3765/lausitz-1-pct-\" + str(elem) + \"-fCf_0.01_sCF_0.03162_gS_4711_sT_3000.0_3765.scorestats.csv\"\n",
    "    temp = pd.read_csv(path, sep=\";\")\n",
    "    df = pd.DataFrame({\"avg_executed_it_500\":temp[\"avg_executed\"].iloc[500], \"sample_size\": \"1-pct\", \"sample_nr\": elem, \"alpha\": 0.75, \"stuck_time\": 3000.0, \"global_seed\": \"default\" }, index = [elem])\n",
    "    scores_1pct_sT_sCf = pd.concat([scores_1pct_sT_sCf, df], axis = 0)"
   ]
  },
  {
   "cell_type": "code",
   "execution_count": 40,
   "metadata": {},
   "outputs": [],
   "source": [
    "scores_1pct_all = pd.concat([scores_1pct, scores_1pct_sCf, scores_1pct_rGs, scores_1pct_sT, scores_1pct_sT_sCf])\n"
   ]
  },
  {
   "cell_type": "code",
   "execution_count": 41,
   "metadata": {},
   "outputs": [],
   "source": [
    "scores_1pct_all.to_csv('/home/lola/Nextcloud/Masterarbeit/03_Outputs/scores_all_1pct_samples.csv', index = False) "
   ]
  },
  {
   "cell_type": "markdown",
   "metadata": {},
   "source": [
    "#### 5 pct "
   ]
  },
  {
   "cell_type": "code",
   "execution_count": 42,
   "metadata": {},
   "outputs": [],
   "source": [
    "#### scores, 5 pct ####\n",
    "# 5pct, alpha = 1\n",
    "scores_5pct = pd.DataFrame()\n",
    "\n",
    "for elem in range(1,11,1):\n",
    "    if (elem==6):\n",
    "        path = \"/home/lola/math_cluster/output/output-lausitz-5.0-pct-6-fCf_sCF_0.05_gS_4711_3765/lausitz-5.0-pct-6-fCf_sCF_0.05_gS_4711_3765-2.scorestats.csv\"\n",
    "        temp = pd.read_csv(path, sep=\";\")\n",
    "        df = pd.DataFrame({\"avg_executed_it_500\":temp[\"avg_executed\"].iloc[500], \"sample_size\": \"5-pct\", \"sample_nr\": elem, \"alpha\": 1.0, \"stuck_time\": 30.0, \"global_seed\": \"default\" }, index = [elem])\n",
    "        scores_5pct = pd.concat([scores_5pct, df], axis = 0)\n",
    "    else:\n",
    "        path = \"/home/lola/math_cluster/output/output-lausitz-5.0-pct-\" + str(elem) + \"-fCf_sCF_0.05_gS_4711_3765/lausitz-5.0-pct-\" + str(elem) + \"-fCf_sCF_0.05_gS_4711_3765.scorestats.csv\"\n",
    "        temp = pd.read_csv(path, sep=\";\")\n",
    "        df = pd.DataFrame({\"avg_executed_it_500\":temp[\"avg_executed\"].iloc[500], \"sample_size\": \"5-pct\", \"sample_nr\": elem, \"alpha\": 1.0, \"stuck_time\": 30.0, \"global_seed\": \"default\" }, index = [elem])\n",
    "        scores_5pct = pd.concat([scores_5pct, df], axis = 0)\n"
   ]
  },
  {
   "cell_type": "code",
   "execution_count": 43,
   "metadata": {},
   "outputs": [],
   "source": [
    "# 5 pct, alpha 0.75 \n",
    "scores_5pct_sCf = pd.DataFrame()\n",
    "\n",
    "for elem in range(1,11,1):\n",
    "    if (elem==6):\n",
    "        path =\"/home/lola/math_cluster/output/output-lausitz-5.0-pct-6-fCf_0.05_sCF_0.10574_gS_4711_3765/lausitz-5.0-pct-6-fCf_0.05_sCF_0.10574_gS_4711_3765-2.scorestats.csv\"\n",
    "        temp = pd.read_csv(path, sep=\";\")\n",
    "        df = pd.DataFrame({\"avg_executed_it_500\":temp[\"avg_executed\"].iloc[500], \"sample_size\": \"5-pct\", \"sample_nr\": elem, \"alpha\": 0.75, \"stuck_time\": 30.0, \"global_seed\": \"default\" }, index = [elem])\n",
    "        scores_5pct_sCf = pd.concat([scores_5pct_sCf, df], axis = 0)\n",
    "\n",
    "    else:\n",
    "        path = \"/home/lola/math_cluster/output/output-lausitz-5.0-pct-\" + str(elem) + \"-fCf_0.05_sCF_0.10574_gS_4711_3765/lausitz-5.0-pct-\" + str(elem) + \"-fCf_0.05_sCF_0.10574_gS_4711_3765.scorestats.csv\"\n",
    "        temp = pd.read_csv(path, sep=\";\")\n",
    "        df = pd.DataFrame({\"avg_executed_it_500\":temp[\"avg_executed\"].iloc[500], \"sample_size\": \"5-pct\", \"sample_nr\": elem, \"alpha\":0.75, \"stuck_time\": 30.0, \"global_seed\": \"default\" }, index = [elem])\n",
    "        scores_5pct_sCf = pd.concat([scores_5pct_sCf, df], axis = 0)"
   ]
  },
  {
   "cell_type": "code",
   "execution_count": 44,
   "metadata": {},
   "outputs": [],
   "source": [
    "scores_5pct_rGs = pd.DataFrame()\n",
    "rGs = [4711, 3254, 2306, 6384,4338, 6003, 5502, 9377, 5621, 9002 ]\n",
    "\n",
    "for seed in rGs:\n",
    "    if (seed ==4711):\n",
    "        global_seed = \"rnd_\" + str(seed)\n",
    "        temp = {'avg_executed_it_500': scores_5pct[\"avg_executed_it_500\"].iloc[0], 'sample_size': '5-pct', \"sample_nr\": 1, 'alpha': 1.0, 'stuck_time': 30.0, 'global_seed': global_seed  }\n",
    "        temp = pd.DataFrame(data=temp, index=[rGs.index(4711)])\n",
    "        scores_5pct_rGs = pd.concat([scores_5pct_rGs, temp])\n",
    "    else:\n",
    "        global_seed = \"rnd_\" + str(seed)\n",
    "        path = \"/home/lola/math_cluster/output/output-lausitz-5.0-pct-1-fCf_sCF_0.05_gS_\" + str(seed) + \"_3765/lausitz-5.0-pct-1-fCf_sCF_0.05_gS_\" + str(seed) + \"_3765.scorestats.csv\"\n",
    "        temp = pd.read_csv(path, sep = \";\")\n",
    "        temp = {'avg_executed_it_500': temp[\"avg_executed\"].iloc[500], 'sample_size': '5-pct', \"sample_nr\": 1, 'alpha': 1.0, 'stuck_time': 30.0, 'global_seed': global_seed  }\n",
    "        df = pd.DataFrame(data=temp, index=[rGs.index(seed)])\n",
    "        scores_5pct_rGs = pd.concat([scores_5pct_rGs, df], axis = 0)\n"
   ]
  },
  {
   "cell_type": "code",
   "execution_count": 45,
   "metadata": {},
   "outputs": [],
   "source": [
    "# 5 pct, alpha 1.0, sT scaled\n",
    "scores_5pct_sT =pd.DataFrame()\n",
    "for elem in range(1,11,1):\n",
    "    path = \"/home/lola/math_cluster/output/output-lausitz-5-pct-\" + str(elem) + \"-fCf_sCF_0.05_gS_4711_sT_600.0_3765/lausitz-5-pct-\" + str(elem) + \"-fCf_sCF_0.05_gS_4711_sT_600.0_3765.scorestats.csv\"\n",
    "    temp = pd.read_csv(path, sep=\";\")\n",
    "    df = pd.DataFrame({\"avg_executed_it_500\":temp[\"avg_executed\"].iloc[500], \"sample_size\": \"5-pct\", \"sample_nr\": elem, \"alpha\": 1.0, \"stuck_time\": 600.0, \"global_seed\": \"default\" }, index = [elem])\n",
    "    scores_5pct_sT = pd.concat([scores_5pct_sT, df], axis = 0)\n",
    "\n",
    "\n"
   ]
  },
  {
   "cell_type": "code",
   "execution_count": 46,
   "metadata": {},
   "outputs": [],
   "source": [
    "# 5 pct, alpha 0.75, sT scaled\n",
    "scores_5pct_sT_sCf =pd.DataFrame()\n",
    "for elem in range(1,11,1):\n",
    "    path = \"/home/lola/math_cluster/output/output-lausitz-5-pct-\" + str(elem) + \"-fCf_0.05_sCF_0.10574_gS_4711_sT_600.0_3765/lausitz-5-pct-\" + str(elem) + \"-fCf_0.05_sCF_0.10574_gS_4711_sT_600.0_3765.scorestats.csv\"\n",
    "    temp = pd.read_csv(path, sep=\";\")\n",
    "    df = pd.DataFrame({\"avg_executed_it_500\":temp[\"avg_executed\"].iloc[500], \"sample_size\": \"5-pct\", \"sample_nr\": elem, \"alpha\": 0.75, \"stuck_time\": 600.0, \"global_seed\": \"default\" }, index = [elem])\n",
    "    scores_5pct_sT_sCf = pd.concat([scores_5pct_sT_sCf, df], axis = 0)\n",
    "\n",
    "  "
   ]
  },
  {
   "cell_type": "code",
   "execution_count": 47,
   "metadata": {},
   "outputs": [],
   "source": [
    "scores_5pct_all = pd.concat([scores_5pct, scores_5pct_sCf, scores_5pct_rGs, scores_5pct_sT, scores_5pct_sT_sCf])\n"
   ]
  },
  {
   "cell_type": "code",
   "execution_count": 48,
   "metadata": {},
   "outputs": [],
   "source": [
    "scores_5pct_all.to_csv('/home/lola/Nextcloud/Masterarbeit/03_Outputs/scores_all_5pct_samples.csv', index = False) "
   ]
  },
  {
   "cell_type": "markdown",
   "metadata": {},
   "source": [
    "#### 10 pct"
   ]
  },
  {
   "cell_type": "code",
   "execution_count": 49,
   "metadata": {},
   "outputs": [],
   "source": [
    "#### scores, 10 pct ####\n",
    "# 10 pct, alpha = 1.0\n",
    "scores_10pct = pd.DataFrame()\n",
    "for elem in range(1,11,1):\n",
    "    path = \"/home/lola/math_cluster/output/output-lausitz-10.0-pct-\" + str(elem) + \"-fCf_sCF_0.1_gS_4711_3765/lausitz-10.0-pct-\" + str(elem) + \"-fCf_sCF_0.1_gS_4711_3765.scorestats.csv\"\n",
    "    temp = pd.read_csv(path, sep=\";\")\n",
    "    df = pd.DataFrame({\"avg_executed_it_500\":temp[\"avg_executed\"].iloc[500], \"sample_size\": \"10-pct\", \"sample_nr\": elem, \"alpha\": 1.0, \"stuck_time\": 30.0, \"global_seed\": \"default\" }, index = [elem])\n",
    "    scores_10pct = pd.concat([scores_10pct, df], axis = 0)\n"
   ]
  },
  {
   "cell_type": "code",
   "execution_count": 50,
   "metadata": {},
   "outputs": [],
   "source": [
    "# 10 pct, alpha = 0.75\n",
    "scores_10pct_sCf = pd.DataFrame()\n",
    "for elem in range(1,11,1):\n",
    "    path = \"/home/lola/math_cluster/output/output-lausitz-10.0-pct-\" + str(elem) + \"-fCf_0.1_sCF_0.17783_gS_4711_3765/lausitz-10.0-pct-\" + str(elem) + \"-fCf_0.1_sCF_0.17783_gS_4711_3765.scorestats.csv\"\n",
    "    temp = pd.read_csv(path, sep=\";\")\n",
    "    df = pd.DataFrame({\"avg_executed_it_500\":temp[\"avg_executed\"].iloc[500], \"sample_size\": \"10-pct\", \"sample_nr\": elem, \"alpha\": 0.75, \"stuck_time\": 30.0, \"global_seed\": \"default\" }, index = [elem])\n",
    "    scores_10pct = pd.concat([scores_10pct, df], axis = 0)"
   ]
  },
  {
   "cell_type": "code",
   "execution_count": 51,
   "metadata": {},
   "outputs": [],
   "source": [
    "# 10 pct, alpha = 1, sT scaled\n",
    "scores_10pct_sT = pd.DataFrame()\n",
    "for elem in range(1,11,1):\n",
    "    path = \"/home/lola/math_cluster/output/output-lausitz-10-pct-\" + str(elem) + \"-fCf_sCF_0.1_gS_4711_sT_300.0_3765/lausitz-10-pct-\" + str(elem) + \"-fCf_sCF_0.1_gS_4711_sT_300.0_3765.scorestats.csv\"\n",
    "    temp = pd.read_csv(path, sep=\";\")\n",
    "    df = pd.DataFrame({\"avg_executed_it_500\":temp[\"avg_executed\"].iloc[500], \"sample_size\": \"10-pct\", \"sample_nr\": elem, \"alpha\": 1.0, \"stuck_time\": 300.0, \"global_seed\": \"default\" }, index = [elem])\n",
    "    scores_10pct_sT = pd.concat([scores_10pct_sT, df], axis = 0)"
   ]
  },
  {
   "cell_type": "code",
   "execution_count": 52,
   "metadata": {},
   "outputs": [],
   "source": [
    "# 10 pct, alpha = 0.75, sT scaled\n",
    "# 10 pct, alpha = 1, sT scaled\n",
    "scores_10pct_sT_sCf = pd.DataFrame()\n",
    "for elem in range(1,11,1):\n",
    "    path = \"/home/lola/math_cluster/output/output-lausitz-10-pct-\" + str(elem) + \"-fCf_0.1_sCF_0.17783_gS_4711_sT_300.0_3765/lausitz-10-pct-\" + str(elem) + \"-fCf_0.1_sCF_0.17783_gS_4711_sT_300.0_3765.scorestats.csv\"\n",
    "    temp = pd.read_csv(path, sep=\";\")\n",
    "    df = pd.DataFrame({\"avg_executed_it_500\":temp[\"avg_executed\"].iloc[500], \"sample_size\": \"10-pct\", \"sample_nr\": elem, \"alpha\": 0.75, \"stuck_time\": 300.0, \"global_seed\": \"default\" }, index = [elem])\n",
    "    scores_10pct_sT_sCf = pd.concat([scores_10pct_sT_sCf, df], axis = 0)\n"
   ]
  },
  {
   "cell_type": "code",
   "execution_count": 53,
   "metadata": {},
   "outputs": [],
   "source": [
    "scores_10pct_all = pd.concat([scores_10pct, scores_10pct_sCf, scores_10pct_sT, scores_10pct_sT_sCf])"
   ]
  },
  {
   "cell_type": "code",
   "execution_count": 54,
   "metadata": {},
   "outputs": [],
   "source": [
    "scores_10pct_all.to_csv('/home/lola/Nextcloud/Masterarbeit/03_Outputs/scores_all_10pct_samples.csv', index = False) "
   ]
  },
  {
   "cell_type": "markdown",
   "metadata": {},
   "source": [
    "#### 25 pct"
   ]
  },
  {
   "cell_type": "code",
   "execution_count": 55,
   "metadata": {},
   "outputs": [],
   "source": [
    "#### scores, 25 pct ####\n",
    "scores_25pct = pd.DataFrame()\n",
    " # 25 pct, alpha = 1\n",
    "path = \"/home/lola/math_cluster/output/output-lausitz-25.0-pct-fCf_sCF_0.25_gS_4711_3765/lausitz-25.0-pct-fCf_sCF_0.25_gS_4711_3765.scorestats.csv\"\n",
    "temp = pd.read_csv(path, sep = \";\")\n",
    "df = pd.DataFrame({\"avg_executed_it_500\":temp[\"avg_executed\"].iloc[500], \"sample_size\": \"25-pct\", \"sample_nr\": 1, \"alpha\": 1.0, \"stuck_time\": 30.0, \"global_seed\": \"default\" }, index = [0])\n",
    "scores_25pct = pd.concat([scores_25pct, df], axis = 0)\n",
    "\n",
    "# 25 pct, alpha = 0.75\n",
    "path = \"/home/lola/math_cluster/output/output-lausitz-25.0-pct-fCf_0.25_sCF_0.35355_gS_4711_3765/lausitz-25.0-pct-fCf_0.25_sCF_0.35355_gS_4711_3765.scorestats.csv\"\n",
    "temp = pd.read_csv(path, sep = \";\")\n",
    "df = pd.DataFrame({\"avg_executed_it_500\":temp[\"avg_executed\"].iloc[500], \"sample_size\": \"25-pct\", \"sample_nr\": 1, \"alpha\": 0.75, \"stuck_time\": 30.0, \"global_seed\": \"default\" }, index = [1])\n",
    "scores_25pct = pd.concat([scores_25pct, df], axis = 0)\n",
    "\n",
    " # 25 pct, alpha = 1, sT scaled\n",
    "path = \"/home/lola/math_cluster/output/output-lausitz-25-pct-1-fCf_sCF_0.25_gS_4711_sT_120.0_3765/lausitz-25-pct-1-fCf_sCF_0.25_gS_4711_sT_120.0_3765.scorestats.csv\"\n",
    "temp = pd.read_csv(path, sep = \";\")\n",
    "df = pd.DataFrame({\"avg_executed_it_500\":temp[\"avg_executed\"].iloc[500], \"sample_size\": \"25-pct\", \"sample_nr\": 1, \"alpha\": 1.0, \"stuck_time\": 120.0, \"global_seed\": \"default\" }, index = [2])\n",
    "scores_25pct = pd.concat([scores_25pct, df], axis = 0)\n",
    "\n",
    " # 25 pct, alpha = 0.75, sT scaled\n",
    "path = \"/home/lola/math_cluster/output/output-lausitz-25-pct-1-fCf_0.25_sCF_0.35355_gS_4711_sT_120.0_3765/lausitz-25-pct-1-fCf_0.25_sCF_0.35355_gS_4711_sT_120.0_3765.scorestats.csv\"\n",
    "temp = pd.read_csv(path, sep = \";\")\n",
    "df = pd.DataFrame({\"avg_executed_it_500\":temp[\"avg_executed\"].iloc[500], \"sample_size\": \"25-pct\", \"sample_nr\": 1, \"alpha\": 0.75, \"stuck_time\": 120.0, \"global_seed\": \"default\" }, index = [0])\n",
    "scores_25pct = pd.concat([scores_25pct, df], axis = 0)\n",
    "\n",
    " "
   ]
  },
  {
   "cell_type": "code",
   "execution_count": 56,
   "metadata": {},
   "outputs": [],
   "source": [
    "scores_25pct.to_csv('/home/lola/Nextcloud/Masterarbeit/03_Outputs/scores_all_25pct_samples.csv', index = False) "
   ]
  },
  {
   "cell_type": "markdown",
   "metadata": {},
   "source": [
    "#### 50 pct"
   ]
  },
  {
   "cell_type": "code",
   "execution_count": 57,
   "metadata": {},
   "outputs": [],
   "source": [
    "#### scores, 50 pct #### \n",
    "scores_50pct = pd.DataFrame()\n",
    "# 50 pct, alpha = 1\n",
    "path = \"/home/lola/math_cluster/output/output-lausitz-50.0-pct-fCf_sCF_0.5_gS_4711_3765/lausitz-50.0-pct-fCf_sCF_0.5_gS_4711_3765.scorestats.csv\"\n",
    "temp = pd.read_csv(path, sep = \";\")\n",
    "df = pd.DataFrame({\"avg_executed_it_500\":temp[\"avg_executed\"].iloc[500], \"sample_size\": \"50-pct\", \"sample_nr\": 1, \"alpha\": 1.0, \"stuck_time\": 30.0, \"global_seed\": \"default\" }, index = [0])\n",
    "scores_50pct = pd.concat([scores_50pct, df], axis = 0)\n",
    "\n",
    "# 50 pct, alpha = 0.75\n",
    "path = \"/home/lola/math_cluster/output/output-lausitz-50.0-pct-fCf_0.5_sCF_0.5946_gS_4711_3765/lausitz-50.0-pct-fCf_0.5_sCF_0.5946_gS_4711_3765.scorestats.csv\"\n",
    "temp = pd.read_csv(path, sep = \";\")\n",
    "df = pd.DataFrame({\"avg_executed_it_500\":temp[\"avg_executed\"].iloc[500], \"sample_size\": \"50-pct\", \"sample_nr\": 1, \"alpha\": 0.75, \"stuck_time\": 30.0, \"global_seed\": \"default\" }, index = [1])\n",
    "scores_50pct = pd.concat([scores_50pct, df], axis = 0)\n",
    "\n",
    "# 50 pct/home/lola/math_cluster/output/output-lausitz-50-pct-1-fCf_sCF_0.5_gS_4711_sT_60.0_3765/lausitz-50-pct-1-fCf_sCF_0.5_gS_4711_sT_60.0_3765.scorestats.csv\"\n",
    "temp = pd.read_csv(path, sep = \";\")\n",
    "df = pd.DataFrame({\"avg_executed_it_500\":temp[\"avg_executed\"].iloc[500], \"sample_size\": \"50-pct\", \"sample_nr\": 1, \"alpha\": 1.0, \"stuck_time\": 60.0, \"global_seed\": \"default\" }, index = [2])\n",
    "scores_50pct = pd.concat([scores_50pct, df], axis = 0)\n",
    "\n",
    "# 50 pct, alpha = 0.75, sT scaled\n",
    "path = \"/home/lola/math_cluster/output/output-lausitz-50-pct-1-fCf_0.5_sCF_0.5946_gS_4711_sT_60.0_3765/lausitz-50-pct-1-fCf_0.5_sCF_0.5946_gS_4711_sT_60.0_3765.scorestats.csv\"\n",
    "temp = pd.read_csv(path, sep = \";\")\n",
    "df = pd.DataFrame({\"avg_executed_it_500\":temp[\"avg_executed\"].iloc[500], \"sample_size\": \"50-pct\", \"sample_nr\": 1, \"alpha\": 0.75, \"stuck_time\": 60.0, \"global_seed\": \"default\" }, index = [0])\n",
    "scores_50pct = pd.concat([scores_50pct, df], axis = 0)\n",
    "\n",
    "\n",
    "# 25 pct doubled, alpha = 1.0, sT 30.0\n",
    "path = \"/home/lola/Nextcloud/Masterarbeit/03_Outputs_From_RunsLausitz/output-lausitz-25-pct-doubled-fCf_0.5_sCF_0.5_gS_4711_3765/lausitz-25-pct-doubled-fCf_0.5_sCF_0.5_gS_4711__3765.scorestats.csv\"\n",
    "temp = pd.read_csv(path, sep = \";\")\n",
    "df = pd.DataFrame({\"avg_executed_it_500\":temp[\"avg_executed\"].iloc[500], \"sample_size\": \"25-pct-doubled\", \"sample_nr\": 1, \"alpha\": 1.0 , \"stuck_time\": 30.0, \"global_seed\": \"default\" }, index = [0])\n",
    "scores_50pct = pd.concat([scores_50pct, df], axis = 0)"
   ]
  },
  {
   "cell_type": "code",
   "execution_count": 58,
   "metadata": {},
   "outputs": [],
   "source": [
    "scores_50pct.to_csv('/home/lola/Nextcloud/Masterarbeit/03_Outputs/scores_all_50pct_samples.csv', index = False)"
   ]
  },
  {
   "cell_type": "markdown",
   "metadata": {},
   "source": [
    "#### 100 pct"
   ]
  },
  {
   "cell_type": "code",
   "execution_count": 59,
   "metadata": {},
   "outputs": [],
   "source": [
    "#### scores , 100 pct ####\n",
    "path = \"/home/lola/math_cluster/output/output-lausitz-100.0-pct-fCf_sCF_1.0_gS_4711_3765/lausitz-100.0-pct-fCf_sCF_1.0_gS_4711_3765.scorestats.csv\"\n",
    "temp = pd.read_csv(path, sep = \";\")\n",
    "scores_100pct = pd.DataFrame({\"avg_executed_it_500\":temp[\"avg_executed\"].iloc[500], \"sample_size\": \"100-pct\", \"sample_nr\": 1, \"alpha\": 1.0, \"stuck_time\": 30.0, \"global_seed\": \"default\" }, index = [0])\n",
    "\n",
    "path = \"/home/lola/Nextcloud/Masterarbeit/03_Outputs_From_RunsLausitz/output-lausitz-25.0-pct-quadrupled-fCf_1.0_sCF_1.0_gS_4711_3765/lausitz-25-pct-quadrupled-fCf_1.0_sCF_1.0_gS_4711__3765.scorestats.csv\"\n",
    "temp = pd.read_csv(path, sep = \";\")\n",
    "scores_25_pct_quadrupled = pd.DataFrame({\"avg_executed_it_500\":temp[\"avg_executed\"].iloc[500], \"sample_size\": \"25-pct-quadrupled\", \"sample_nr\": 1, \"alpha\": 1.0, \"stuck_time\": 30.0, \"global_seed\": \"default\" }, index = [0])"
   ]
  },
  {
   "cell_type": "code",
   "execution_count": 60,
   "metadata": {},
   "outputs": [],
   "source": [
    "scores_1_100 = pd.concat([scores_1pct_all, scores_5pct_all, scores_10pct_all, scores_25pct, scores_50pct, scores_100pct, scores_25_pct_quadrupled], axis = 0)"
   ]
  },
  {
   "cell_type": "code",
   "execution_count": 61,
   "metadata": {},
   "outputs": [],
   "source": [
    "scores_1_100.to_csv('/home/lola/Nextcloud/Masterarbeit/03_Outputs/scores_all_1_100pct_samples.csv', index = False) "
   ]
  },
  {
   "cell_type": "markdown",
   "metadata": {},
   "source": [
    "## 5./6. Average travel time and traveled distance"
   ]
  },
  {
   "cell_type": "markdown",
   "metadata": {},
   "source": [
    "#### 1 pct"
   ]
  },
  {
   "cell_type": "code",
   "execution_count": 35,
   "metadata": {},
   "outputs": [],
   "source": [
    "#### average travel time and average traveled distance ####\n",
    "# trav_time and traveled_distance\n",
    "# 1 pct, alpha = 1\n",
    "avg_trav_time_1pct = pd.DataFrame()\n",
    "avg_trav_dist_1pct = pd.DataFrame()\n",
    "for elem in range(1,11,1):\n",
    "    #       /home/lola/math_cluster/output/output-lausitz-1pct-1-fCf_sCF_0.01_gS_default_3765/lausitz-1pct-1-fCf_sCf_0.01_gS_default_3765.output_trips.csv.gz\n",
    "    path = \"/home/lola/math_cluster/output/output-lausitz-1pct-\"+ str(elem) +\"-fCf_sCF_0.01_gS_default_3765/lausitz-1pct-\"+ str(elem) +\"-fCf_sCf_0.01_gS_default_3765.output_trips.csv.gz\"\n",
    "    temp = pd.read_csv(path, compression= \"gzip\", sep=\";\")\n",
    "    temp[\"trav_time\"] = pd.to_timedelta(temp.trav_time)\n",
    "    avg_trav_time = temp[\"trav_time\"].sum() / temp[\"trav_time\"].shape[0]\n",
    "    df_avg_trav_time = pd.DataFrame({\"avg_trav_time\": avg_trav_time, \"sample_size\": \"1-pct\", \"sample_nr\": elem, \"alpha\" : 1.0, \"stuck_time\": 30.0, \"global_seed\": \"default\"}, index=[elem])\n",
    "    avg_trav_time_1pct = pd.concat([avg_trav_time_1pct, df_avg_trav_time], axis = 0)\n",
    "\n",
    "    avg_trav_dist = temp[\"traveled_distance\"].mean()\n",
    "    df_avg_trav_dist = pd.DataFrame({\"avg_trav_dist\": avg_trav_dist, \"sample_size\": \"1-pct\", \"sample_nr\": elem, \"alpha\" : 1.0, \"stuck_time\": 30.0, \"global_seed\": \"default\"}, index=[elem])\n",
    "    avg_trav_dist_1pct = pd.concat([avg_trav_dist_1pct, df_avg_trav_dist], axis = 0)"
   ]
  },
  {
   "cell_type": "code",
   "execution_count": 36,
   "metadata": {},
   "outputs": [],
   "source": [
    "# 1 pct, alpha = 0.75\n",
    "avg_trav_time_1pct_sCf = pd.DataFrame()\n",
    "avg_trav_dist_1pct_sCf = pd.DataFrame()\n",
    "for elem in range(1,11,1):      \n",
    "    path = \"/home/lola/math_cluster/output/output-lausitz-1pct-\" +str(elem) + \"-fCf_0.01_sCF_0.03162_gS_default_3765/lausitz-1pct-\" + str(elem) + \"-fCf_0.01_sCf_0.03162_gS_default_3765.output_trips.csv.gz\"\n",
    "    temp = pd.read_csv(path, compression= \"gzip\", sep=\";\")\n",
    "    temp[\"trav_time\"] = pd.to_timedelta(temp.trav_time)\n",
    "    avg_trav_time = temp[\"trav_time\"].sum() / temp[\"trav_time\"].shape[0]\n",
    "    df_avg_trav_time = pd.DataFrame({\"avg_trav_time\": avg_trav_time, \"sample_size\": \"1-pct\", \"sample_nr\": elem, \"alpha\" : 0.75, \"stuck_time\": 30.0, \"global_seed\": \"default\"}, index=[elem])\n",
    "    avg_trav_time_1pct_sCf = pd.concat([avg_trav_time_1pct_sCf, df_avg_trav_time], axis = 0)\n",
    "\n",
    "    avg_trav_dist = temp[\"traveled_distance\"].mean()\n",
    "    df_avg_trav_dist = pd.DataFrame({\"avg_trav_dist\": avg_trav_dist, \"sample_size\": \"1-pct\", \"sample_nr\": elem, \"alpha\" : 0.75, \"stuck_time\": 30.0, \"global_seed\": \"default\"}, index=[elem])\n",
    "    avg_trav_dist_1pct_sCf = pd.concat([avg_trav_dist_1pct_sCf, df_avg_trav_dist], axis = 0)"
   ]
  },
  {
   "cell_type": "code",
   "execution_count": 37,
   "metadata": {},
   "outputs": [],
   "source": [
    "# 1 pct rGs\n",
    "avg_trav_time_1pct_rGs = pd.DataFrame()\n",
    "avg_trav_dist_1pct_rGs = pd.DataFrame()\n",
    "rGs = [ 4711,3254, 2306, 6384,4338, 6003, 5502, 9377, 5621, 9002 ]\n",
    "for seed in rGs:\n",
    "    if (seed == 4711):\n",
    "        global_seed = \"rnd_\" + str(seed)\n",
    "        # Create Data frame and insert first value from avg_trav_time_1pct\n",
    "        df1 = pd.DataFrame({\"avg_trav_time\":avg_trav_time_1pct[\"avg_trav_time\"].iloc[0], \"sample_size\": \"1-pct\", \"sample_nr\": 1, \"alpha\": 1.0, \"stuck_time\": 30.0, \"global_seed\": global_seed }, index = [rGs.index(seed)])\n",
    "        avg_trav_time_1pct_rGs = pd.concat([avg_trav_time_1pct_rGs, df1])\n",
    "        \n",
    "        # Create Data frame and insert first value from avg_trav_dist_1pct\n",
    "        df1 = pd.DataFrame({\"avg_trav_dist\":avg_trav_dist_1pct[\"avg_trav_dist\"].iloc[0], \"sample_size\": \"1-pct\", \"sample_nr\": 1, \"alpha\": 1.0, \"stuck_time\": 30.0, \"global_seed\": global_seed }, index = [rGs.index(seed)])\n",
    "        avg_trav_dist_1pct_rGs = pd.concat([avg_trav_dist_1pct_rGs, df1])\n",
    "\n",
    "    elif (seed == 3254):\n",
    "        global_seed = \"rnd_\" + str(seed)\n",
    "        path =\"/home/lola/math_cluster/output/output-lausitz-1pct-1-fCf_sCF_0.01_gS_3254_3765/lausitz-1pct-1-fCf_sCf_0.01_gS_3254_3765.output_trips.csv.gz\"\n",
    "        temp = pd.read_csv(path, compression= \"gzip\", sep=\";\")\n",
    "        temp[\"trav_time\"] = pd.to_timedelta(temp.trav_time)\n",
    "        avg_trav_time =  temp[\"trav_time\"].sum() / temp[\"trav_time\"].shape[0]\n",
    "        # average travel time\n",
    "        df1 = pd.DataFrame({\"avg_trav_time\":avg_trav_time, \"sample_size\": \"1-pct\", \"sample_nr\": 1, \"alpha\":1.0, \"stuck_time\": 30.0, \"global_seed\": global_seed }, index = [rGs.index(seed)])\n",
    "        avg_trav_time_1pct_rGs = pd.concat([avg_trav_time_1pct_rGs, df1], axis = 0)\n",
    "        # average traveled distance\n",
    "        avg_trav_dist = temp[\"traveled_distance\"].mean()\n",
    "        df_avg_trav_dist = pd.DataFrame({\"avg_trav_dist\": avg_trav_dist, \"sample_size\": \"1-pct\", \"sample_nr\": 1, \"alpha\" : 1.0, \"stuck_time\": 30.0, \"global_seed\": global_seed}, index=[rGs.index(seed)])\n",
    "        avg_trav_dist_1pct_rGs = pd.concat([avg_trav_dist_1pct_rGs, df_avg_trav_dist], axis = 0)\n",
    "\n",
    "    else:\n",
    "        global_seed = \"rnd_\" + str(seed)\n",
    "        path =\"/home/lola/math_cluster/output/output-lausitz-1.0-pct-1-fCf_sCF_0.01_gS_\"+ str(seed) + \"_3765/lausitz-1.0-pct-1-fCf_sCF_0.01_gS_\" +str(seed) +\"_3765.output_trips.csv.gz\"\n",
    "        temp = pd.read_csv(path, compression= \"gzip\", sep=\";\")\n",
    "        temp[\"trav_time\"] = pd.to_timedelta(temp.trav_time)\n",
    "        avg_trav_time =  temp[\"trav_time\"].sum() / temp[\"trav_time\"].shape[0]\n",
    "        # average travel time\n",
    "        df1 = pd.DataFrame({\"avg_trav_time\":avg_trav_time, \"sample_size\": \"1-pct\", \"sample_nr\": 1, \"alpha\":1.0, \"stuck_time\": 30.0, \"global_seed\": global_seed }, index = [rGs.index(seed)])\n",
    "        avg_trav_time_1pct_rGs = pd.concat([avg_trav_time_1pct_rGs, df1], axis = 0)\n",
    "        # average traveled distance\n",
    "        avg_trav_dist = temp[\"traveled_distance\"].mean()\n",
    "        df_avg_trav_dist = pd.DataFrame({\"avg_trav_dist\": avg_trav_dist, \"sample_size\": \"1-pct\", \"sample_nr\": 1, \"alpha\" : 1.0, \"stuck_time\": 30.0, \"global_seed\": global_seed}, index=[rGs.index(seed)])\n",
    "        avg_trav_dist_1pct_rGs = pd.concat([avg_trav_dist_1pct_rGs, df_avg_trav_dist], axis = 0)"
   ]
  },
  {
   "cell_type": "code",
   "execution_count": 38,
   "metadata": {},
   "outputs": [],
   "source": [
    "# 1 pct, alpha = 1, sT\n",
    "avg_trav_time_1pct_sT = pd.DataFrame()\n",
    "avg_trav_dist_1pct_sT = pd.DataFrame()\n",
    "for sampleNr in range(1,11,1):\n",
    "    path = \"/home/lola/math_cluster/output/output-lausitz-1-pct-\" +str(sampleNr) +\"-fCf_sCF_0.01_gS_4711_sT_3000.0_3765/lausitz-1-pct-\" +str(sampleNr) + \"-fCf_sCF_0.01_gS_4711_sT_3000.0_3765.output_trips.csv.gz\"\n",
    "    temp = pd.read_csv(path, compression= \"gzip\", sep=\";\")\n",
    "    temp[\"trav_time\"] = pd.to_timedelta(temp.trav_time)\n",
    "    avg_trav_time = temp[\"trav_time\"].sum() / temp[\"trav_time\"].shape[0]\n",
    "    df_avg_trav_time = pd.DataFrame({\"avg_trav_time\": avg_trav_time, \"sample_size\": \"1-pct\", \"sample_nr\": sampleNr, \"alpha\" : 1.0, \"stuck_time\": 3000.0, \"global_seed\": \"default\"}, index=[sampleNr])\n",
    "    avg_trav_time_1pct_sT = pd.concat([avg_trav_time_1pct_sT, df_avg_trav_time], axis = 0)\n",
    "\n",
    "    avg_trav_dist = temp[\"traveled_distance\"].mean()\n",
    "    #print(\"avg_trav_dist\", avg_trav_dist)\n",
    "    df_avg_trav_dist = pd.DataFrame({\"avg_trav_dist\": avg_trav_dist, \"sample_size\": \"1-pct\", \"sample_nr\": sampleNr, \"alpha\" : 1.0, \"stuck_time\": 3000.0, \"global_seed\": \"default\"}, index=[sampleNr])\n",
    "    avg_trav_dist_1pct_sT = pd.concat([avg_trav_dist_1pct_sT, df_avg_trav_dist], axis = 0) "
   ]
  },
  {
   "cell_type": "code",
   "execution_count": null,
   "metadata": {},
   "outputs": [],
   "source": [
    "# 1 pct, alpha = 0.75, sT \n",
    "avg_trav_time_1pct_sT_sCf = pd.DataFrame()\n",
    "avg_trav_dist_1pct_sT_sCf = pd.DataFrame()\n",
    "for sampleNr in range(1,11,1):      \n",
    "    path = \"/home/lola/math_cluster/output/output-lausitz-1-pct-\" + str(sampleNr) + \"-fCf_0.01_sCF_0.03162_gS_4711_sT_3000.0_3765/lausitz-1-pct-\" + str(sampleNr) + \"-fCf_0.01_sCF_0.03162_gS_4711_sT_3000.0_3765.output_trips.csv.gz\"\n",
    "    temp = pd.read_csv(path, compression= \"gzip\", sep=\";\")\n",
    "    temp[\"trav_time\"] = pd.to_timedelta(temp.trav_time)\n",
    "    avg_trav_time = temp[\"trav_time\"].sum() / temp[\"trav_time\"].shape[0]\n",
    "    df_avg_trav_time = pd.DataFrame({\"avg_trav_time\": avg_trav_time, \"sample_size\": \"1-pct\", \"sample_nr\": sampleNr, \"alpha\" : 0.75, \"stuck_time\": 3000.0, \"global_seed\": \"default\"}, index=[sampleNr])\n",
    "    avg_trav_time_1pct_sT_sCf = pd.concat([avg_trav_time_1pct_sT_sCf, df_avg_trav_time], axis = 0)\n",
    "\n",
    "    avg_trav_dist = temp[\"traveled_distance\"].mean()\n",
    "    #print(avg_trav_dist)\n",
    "    df_avg_trav_dist = pd.DataFrame({\"avg_trav_dist\": avg_trav_dist, \"sample_size\": \"1-pct\", \"sample_nr\": sampleNr, \"alpha\" : 0.75, \"stuck_time\": 3000.0, \"global_seed\": \"default\"}, index=[elem])\n",
    "    avg_trav_dist_1pct_sT_sCf = pd.concat([avg_trav_dist_1pct_sT_sCf, df_avg_trav_dist], axis = 0)"
   ]
  },
  {
   "cell_type": "code",
   "execution_count": null,
   "metadata": {},
   "outputs": [],
   "source": [
    "avg_trav_time_1pct_all = pd.concat([avg_trav_time_1pct, avg_trav_time_1pct_sCf, avg_trav_time_1pct_rGs, avg_trav_time_1pct_sT, avg_trav_time_1pct_sT_sCf], axis = 0)\n",
    "avg_trav_dist_1pct_all = pd.concat([avg_trav_dist_1pct, avg_trav_dist_1pct_sCf, avg_trav_dist_1pct_rGs, avg_trav_dist_1pct_sT, avg_trav_dist_1pct_sT_sCf], axis = 0)"
   ]
  },
  {
   "cell_type": "code",
   "execution_count": 41,
   "metadata": {},
   "outputs": [],
   "source": [
    "avg_trav_time_1pct_all.to_csv('/home/lola/Nextcloud/Masterarbeit/03_Outputs/avg_trav_time_all_1pct_samples.csv', index = False) \n",
    "avg_trav_dist_1pct_all.to_csv('/home/lola/Nextcloud/Masterarbeit/03_Outputs/avg_trav_dist_all_1pct_samples.csv', index = False) "
   ]
  },
  {
   "cell_type": "markdown",
   "metadata": {},
   "source": [
    "#### 5 pct"
   ]
  },
  {
   "cell_type": "code",
   "execution_count": 42,
   "metadata": {},
   "outputs": [],
   "source": [
    "# 5 pct, alpha = 1\n",
    "#### average travel time and average traveled distance ####\n",
    "# trav_time and traveled_distance\n",
    "# 5 pct, alpha = 1\n",
    "avg_trav_time_5pct = pd.DataFrame()\n",
    "avg_trav_dist_5pct = pd.DataFrame()\n",
    "for elem in range(1,11,1):\n",
    "    if (elem == 6):\n",
    "        path = \"/home/lola/math_cluster/output/output-lausitz-5.0-pct-6-fCf_sCF_0.05_gS_4711_3765/lausitz-5.0-pct-6-fCf_sCF_0.05_gS_4711_3765-2.output_trips.csv.gz\"\n",
    "        temp = pd.read_csv(path, compression = \"gzip\", sep = \";\")\n",
    "        temp[\"trav_time\"] = pd.to_timedelta(temp.trav_time)\n",
    "        avg_trav_time = temp[\"trav_time\"].sum() / temp[\"trav_time\"].shape[0]\n",
    "        df_avg_trav_time = pd.DataFrame({\"avg_trav_time\": avg_trav_time, \"sample_size\": \"5-pct\", \"sample_nr\": elem, \"alpha\" : 1.0, \"stuck_time\": 30.0, \"global_seed\": \"default\"}, index=[elem])\n",
    "        avg_trav_time_5pct = pd.concat([avg_trav_time_5pct, df_avg_trav_time], axis = 0)\n",
    "\n",
    "        avg_trav_dist = temp[\"traveled_distance\"].mean()\n",
    "        df_avg_trav_dist = pd.DataFrame({\"avg_trav_dist\": avg_trav_dist, \"sample_size\": \"5-pct\", \"sample_nr\": elem, \"alpha\" : 1.0, \"stuck_time\": 30.0, \"global_seed\": \"default\"}, index=[elem])\n",
    "        avg_trav_dist_5pct = pd.concat([avg_trav_dist_5pct, df_avg_trav_dist], axis = 0)\n",
    "    else:     \n",
    "        path = \"/home/lola/math_cluster/output/output-lausitz-5-pct-\"+str(elem) + \"-fCf_sCF_0.05_gS_4711_sT_600.0_3765/lausitz-5-pct-\" +str(elem) + \"-fCf_sCF_0.05_gS_4711_sT_600.0_3765.output_trips.csv.gz\"\n",
    "        temp = pd.read_csv(path, compression= \"gzip\", sep=\";\")\n",
    "        temp[\"trav_time\"] = pd.to_timedelta(temp.trav_time)\n",
    "        avg_trav_time = temp[\"trav_time\"].sum() / temp[\"trav_time\"].shape[0]\n",
    "        df_avg_trav_time = pd.DataFrame({\"avg_trav_time\": avg_trav_time, \"sample_size\": \"5-pct\", \"sample_nr\": elem, \"alpha\" : 1.0, \"stuck_time\": 30.0, \"global_seed\": \"default\"}, index=[elem])\n",
    "        avg_trav_time_5pct = pd.concat([avg_trav_time_5pct, df_avg_trav_time], axis = 0)\n",
    "\n",
    "        avg_trav_dist = temp[\"traveled_distance\"].mean()\n",
    "        df_avg_trav_dist = pd.DataFrame({\"avg_trav_dist\": avg_trav_dist, \"sample_size\": \"5-pct\", \"sample_nr\": elem, \"alpha\" : 1.0, \"stuck_time\": 30.0, \"global_seed\": \"default\"}, index=[elem])\n",
    "        avg_trav_dist_5pct = pd.concat([avg_trav_dist_5pct, df_avg_trav_dist], axis = 0)"
   ]
  },
  {
   "cell_type": "code",
   "execution_count": 43,
   "metadata": {},
   "outputs": [],
   "source": [
    "avg_trav_time_5pct_sCf = pd.DataFrame()\n",
    "avg_trav_dist_5pct_sCf = pd.DataFrame()\n",
    "for elem in range(1,11,1):\n",
    "    if (elem == 6):\n",
    "        path = \"/home/lola/math_cluster/output/output-lausitz-5.0-pct-6-fCf_0.05_sCF_0.10574_gS_4711_3765/lausitz-5.0-pct-6-fCf_0.05_sCF_0.10574_gS_4711_3765-2.output_trips.csv.gz\"\n",
    "        temp = pd.read_csv(path, compression = \"gzip\", sep = \";\")\n",
    "        temp[\"trav_time\"] = pd.to_timedelta(temp.trav_time)\n",
    "        avg_trav_time = temp[\"trav_time\"].sum() / temp[\"trav_time\"].shape[0]\n",
    "        df_avg_trav_time = pd.DataFrame({\"avg_trav_time\": avg_trav_time, \"sample_size\": \"5-pct\", \"sample_nr\": elem, \"alpha\" : 0.75, \"stuck_time\": 30.0, \"global_seed\": \"default\"}, index=[elem])\n",
    "        avg_trav_time_5pct_sCf = pd.concat([avg_trav_time_5pct_sCf, df_avg_trav_time], axis = 0)\n",
    "\n",
    "        avg_trav_dist = temp[\"traveled_distance\"].mean()\n",
    "        df_avg_trav_dist = pd.DataFrame({\"avg_trav_dist\": avg_trav_dist, \"sample_size\": \"5-pct\", \"sample_nr\": elem, \"alpha\" : 0.75, \"stuck_time\": 30.0, \"global_seed\": \"default\"}, index=[elem])\n",
    "        avg_trav_dist_5pct_sCf = pd.concat([avg_trav_dist_5pct_sCf, df_avg_trav_dist], axis = 0)\n",
    "    else:     \n",
    "        path = \"/home/lola/math_cluster/output/output-lausitz-5.0-pct-\" +str(elem) + \"-fCf_0.05_sCF_0.10574_gS_4711_3765/lausitz-5.0-pct-\" + str(elem) + \"-fCf_0.05_sCF_0.10574_gS_4711_3765.output_trips.csv.gz\"\n",
    "        temp = pd.read_csv(path, compression= \"gzip\", sep=\";\")\n",
    "        temp[\"trav_time\"] = pd.to_timedelta(temp.trav_time)\n",
    "        avg_trav_time = temp[\"trav_time\"].sum() / temp[\"trav_time\"].shape[0]\n",
    "        df_avg_trav_time = pd.DataFrame({\"avg_trav_time\": avg_trav_time, \"sample_size\": \"5-pct\", \"sample_nr\": elem, \"alpha\" : 0.75, \"stuck_time\": 30.0, \"global_seed\": \"default\"}, index=[elem])\n",
    "        avg_trav_time_5pct = pd.concat([avg_trav_time_5pct, df_avg_trav_time], axis = 0)\n",
    "\n",
    "        avg_trav_dist = temp[\"traveled_distance\"].mean()\n",
    "        df_avg_trav_dist = pd.DataFrame({\"avg_trav_dist\": avg_trav_dist, \"sample_size\": \"5-pct\", \"sample_nr\": elem, \"alpha\" : 0.75, \"stuck_time\": 30.0, \"global_seed\": \"default\"}, index=[elem])\n",
    "        avg_trav_dist_5pct = pd.concat([avg_trav_dist_5pct, df_avg_trav_dist], axis = 0)"
   ]
  },
  {
   "cell_type": "code",
   "execution_count": null,
   "metadata": {},
   "outputs": [],
   "source": [
    "# 5 pct random global seed\n",
    "avg_trav_time_5pct_rGs = pd.DataFrame()\n",
    "avg_trav_dist_5pct_rGs = pd.DataFrame()\n",
    "rGs = [ 4711,3254, 2306, 6384,4338, 6003, 5502, 9377, 5621, 9002 ]\n",
    "for seed in rGs:\n",
    "    if (seed == 4711):\n",
    "        global_seed = \"rnd_\" + str(seed)\n",
    "        # Create Data frame and insert first value from avg_trav_time_5pct\n",
    "        df1 = pd.DataFrame({\"avg_trav_time\":avg_trav_time_5pct[\"avg_trav_time\"].iloc[0], \"sample_size\": \"5-pct\", \"sample_nr\": 1, \"alpha\": 1.0, \"stuck_time\": 30.0, \"global_seed\": global_seed }, index = [rGs.index(seed)])\n",
    "        avg_trav_time_5pct_rGs = pd.concat([avg_trav_time_5pct_rGs, df1])\n",
    "        \n",
    "        # Create Data frame and insert first value from avg_trav_dist_5pct\n",
    "        df1 = pd.DataFrame({\"avg_trav_dist\":avg_trav_dist_5pct[\"avg_trav_dist\"].iloc[0], \"sample_size\": \"5-pct\", \"sample_nr\": 1, \"alpha\": 1.0, \"stuck_time\": 30.0, \"global_seed\": global_seed }, index = [rGs.index(seed)])\n",
    "        #print(df1[\"avg_trav_dist\"])\n",
    "        avg_trav_dist_5pct_rGs = pd.concat([avg_trav_dist_5pct_rGs, df1])\n",
    "\n",
    "    elif (seed == 3254):\n",
    "        global_seed = \"rnd_\" + str(seed)\n",
    "        path =\"/home/lola/math_cluster/output/output-lausitz-5.0-pct-1-fCf_sCF_0.05_gS_3254_3765/lausitz-5.0-pct-1-fCf_sCF_0.05_gS_3254_3765.output_trips.csv.gz\"\n",
    "        temp = pd.read_csv(path, compression= \"gzip\", sep=\";\")\n",
    "        temp[\"trav_time\"] = pd.to_timedelta(temp.trav_time)\n",
    "        avg_trav_time =  temp[\"trav_time\"].sum() / temp[\"trav_time\"].shape[0]\n",
    "        # average travel time\n",
    "        df1 = pd.DataFrame({\"avg_trav_time\":avg_trav_time, \"sample_size\": \"5-pct\", \"sample_nr\": 1, \"alpha\":1.0, \"stuck_time\": 30.0, \"global_seed\": global_seed }, index = [rGs.index(seed)])\n",
    "        avg_trav_time_5pct_rGs = pd.concat([avg_trav_time_5pct_rGs, df1], axis = 0)\n",
    "        # average traveled distance\n",
    "        avg_trav_dist = temp[\"traveled_distance\"].mean()\n",
    "        df_avg_trav_dist = pd.DataFrame({\"avg_trav_dist\": avg_trav_dist, \"sample_size\": \"5-pct\", \"sample_nr\": 1, \"alpha\" : 1.0, \"stuck_time\": 30.0, \"global_seed\": global_seed}, index=[rGs.index(seed)])\n",
    "        #print(df_avg_trav_dist[\"avg_trav_dist\"])\n",
    "        avg_trav_dist_5pct_rGs = pd.concat([avg_trav_dist_5pct_rGs, df_avg_trav_dist], axis = 0)\n",
    "\n",
    "    else:\n",
    "        global_seed = \"rnd_\" + str(seed)\n",
    "        path =\"/home/lola/math_cluster/output/output-lausitz-5.0-pct-1-fCf_sCF_0.05_gS_\" + str(seed) + \"_3765/lausitz-5.0-pct-1-fCf_sCF_0.05_gS_\" + str(seed) + \"_3765.output_trips.csv.gz\"\n",
    "        temp = pd.read_csv(path, compression= \"gzip\", sep=\";\")\n",
    "        temp[\"trav_time\"] = pd.to_timedelta(temp.trav_time)\n",
    "        avg_trav_time =  temp[\"trav_time\"].sum() / temp[\"trav_time\"].shape[0]\n",
    "        # average travel time\n",
    "        df1 = pd.DataFrame({\"avg_trav_time\":avg_trav_time, \"sample_size\": \"5-pct\", \"sample_nr\": 1, \"alpha\":1.0, \"stuck_time\": 30.0, \"global_seed\": global_seed }, index = [rGs.index(seed)])\n",
    "        avg_trav_time_5pct_rGs = pd.concat([avg_trav_time_5pct_rGs, df1], axis = 0)\n",
    "        # average traveled distance\n",
    "        avg_trav_dist = temp[\"traveled_distance\"].mean()\n",
    "        df_avg_trav_dist = pd.DataFrame({\"avg_trav_dist\": avg_trav_dist, \"sample_size\": \"5-pct\", \"sample_nr\": 1, \"alpha\" : 1.0, \"stuck_time\": 30.0, \"global_seed\": global_seed}, index=[rGs.index(seed)])\n",
    "        #print(df_avg_trav_dist[\"avg_trav_dist\"])\n",
    "        avg_trav_dist_5pct_rGs = pd.concat([avg_trav_dist_5pct_rGs, df_avg_trav_dist], axis = 0)\n"
   ]
  },
  {
   "cell_type": "code",
   "execution_count": 45,
   "metadata": {},
   "outputs": [],
   "source": [
    "avg_trav_time_5pct_sT = pd.DataFrame()\n",
    "avg_trav_dist_5pct_sT = pd.DataFrame()\n",
    "for elem in range(1,11,1):   \n",
    "    path = \"/home/lola/math_cluster/output/output-lausitz-5-pct-\" +str(elem) + \"-fCf_sCF_0.05_gS_4711_sT_600.0_3765/lausitz-5-pct-\" + str(elem) + \"-fCf_sCF_0.05_gS_4711_sT_600.0_3765.output_trips.csv.gz\"\n",
    "    temp = pd.read_csv(path, compression= \"gzip\", sep=\";\")\n",
    "    temp[\"trav_time\"] = pd.to_timedelta(temp.trav_time)\n",
    "    avg_trav_time = temp[\"trav_time\"].sum() / temp[\"trav_time\"].shape[0]\n",
    "    df_avg_trav_time = pd.DataFrame({\"avg_trav_time\": avg_trav_time, \"sample_size\": \"5-pct\", \"sample_nr\": elem, \"alpha\" : 1.0, \"stuck_time\": 600.0, \"global_seed\": \"default\"}, index=[elem])\n",
    "    avg_trav_time_5pct_sT = pd.concat([avg_trav_time_5pct_sT, df_avg_trav_time], axis = 0)\n",
    "\n",
    "    avg_trav_dist = temp[\"traveled_distance\"].mean()\n",
    "    df_avg_trav_dist = pd.DataFrame({\"avg_trav_dist\": avg_trav_dist, \"sample_size\": \"5-pct\", \"sample_nr\": elem, \"alpha\" : 1.0, \"stuck_time\": 600.0, \"global_seed\": \"default\"}, index=[elem])\n",
    "    avg_trav_dist_5pct_sT = pd.concat([avg_trav_dist_5pct_sT, df_avg_trav_dist], axis = 0)"
   ]
  },
  {
   "cell_type": "code",
   "execution_count": 46,
   "metadata": {},
   "outputs": [],
   "source": [
    "avg_trav_time_5pct_sT_sCf = pd.DataFrame()\n",
    "avg_trav_dist_5pct_sT_sCf = pd.DataFrame()\n",
    "for elem in range(1,11,1):   \n",
    "    path = \"/home/lola/math_cluster/output/output-lausitz-5-pct-\" + str(elem) + \"-fCf_0.05_sCF_0.10574_gS_4711_sT_600.0_3765/lausitz-5-pct-\" + str(elem) + \"-fCf_0.05_sCF_0.10574_gS_4711_sT_600.0_3765.output_trips.csv.gz\"\n",
    "    temp = pd.read_csv(path, compression= \"gzip\", sep=\";\")\n",
    "    temp[\"trav_time\"] = pd.to_timedelta(temp.trav_time)\n",
    "    avg_trav_time = temp[\"trav_time\"].sum() / temp[\"trav_time\"].shape[0]\n",
    "    df_avg_trav_time = pd.DataFrame({\"avg_trav_time\": avg_trav_time, \"sample_size\": \"5-pct\", \"sample_nr\": elem, \"alpha\" : 0.75, \"stuck_time\": 600.0, \"global_seed\": \"default\"}, index=[elem])\n",
    "    avg_trav_time_5pct_sT_sCf = pd.concat([avg_trav_time_5pct_sT_sCf, df_avg_trav_time], axis = 0)\n",
    "\n",
    "    avg_trav_dist = temp[\"traveled_distance\"].mean()\n",
    "    df_avg_trav_dist = pd.DataFrame({\"avg_trav_dist\": avg_trav_dist, \"sample_size\": \"5-pct\", \"sample_nr\": elem, \"alpha\" : 0.75, \"stuck_time\": 600.0, \"global_seed\": \"default\"}, index=[elem])\n",
    "    avg_trav_dist_5pct_sT_sCf = pd.concat([avg_trav_dist_5pct_sT_sCf, df_avg_trav_dist], axis = 0)"
   ]
  },
  {
   "cell_type": "code",
   "execution_count": 47,
   "metadata": {},
   "outputs": [],
   "source": [
    "avg_trav_time_5pct_all = pd.concat([avg_trav_time_5pct, avg_trav_time_5pct_sCf, avg_trav_time_5pct_rGs, avg_trav_time_5pct_sT, avg_trav_time_5pct_sT_sCf], axis = 0)\n",
    "\n",
    "avg_trav_dist_5pct_all = pd.concat([avg_trav_dist_5pct, avg_trav_dist_5pct_sCf, avg_trav_dist_5pct_rGs, avg_trav_dist_5pct_sT, avg_trav_dist_5pct_sT_sCf], axis = 0)"
   ]
  },
  {
   "cell_type": "code",
   "execution_count": 48,
   "metadata": {},
   "outputs": [],
   "source": [
    "avg_trav_time_5pct_all.to_csv('/home/lola/Nextcloud/Masterarbeit/03_Outputs/avg_trav_time_all_5pct_samples.csv', index = False) \n",
    "avg_trav_dist_5pct_all.to_csv('/home/lola/Nextcloud/Masterarbeit/03_Outputs/avg_trav_dist_all_5pct_samples.csv', index = False) "
   ]
  },
  {
   "cell_type": "markdown",
   "metadata": {},
   "source": [
    "#### 10 pct"
   ]
  },
  {
   "cell_type": "code",
   "execution_count": 49,
   "metadata": {},
   "outputs": [
    {
     "name": "stderr",
     "output_type": "stream",
     "text": [
      "/tmp/ipykernel_7804/4160407999.py:5: DtypeWarning: Columns (21,22) have mixed types. Specify dtype option on import or set low_memory=False.\n",
      "  temp = pd.read_csv(path, compression= \"gzip\", sep=\";\")\n"
     ]
    }
   ],
   "source": [
    "avg_trav_time_10pct = pd.DataFrame()\n",
    "avg_trav_dist_10pct = pd.DataFrame()\n",
    "for elem in range(1,11,1):\n",
    "    path = \"/home/lola/math_cluster/output/output-lausitz-10.0-pct-\" +str(elem) + \"-fCf_sCF_0.1_gS_4711_3765/lausitz-10.0-pct-\" +str(elem) + \"-fCf_sCF_0.1_gS_4711_3765.output_trips.csv.gz\"\n",
    "    temp = pd.read_csv(path, compression= \"gzip\", sep=\";\")\n",
    "    temp[\"trav_time\"] = pd.to_timedelta(temp.trav_time)\n",
    "    avg_trav_time = temp[\"trav_time\"].sum() / temp[\"trav_time\"].shape[0]\n",
    "    df_avg_trav_time = pd.DataFrame({\"avg_trav_time\": avg_trav_time, \"sample_size\": \"10-pct\", \"sample_nr\": elem, \"alpha\" : 1.0, \"stuck_time\": 30.0, \"global_seed\": \"default\"}, index=[elem])\n",
    "    avg_trav_time_10pct = pd.concat([avg_trav_time_10pct, df_avg_trav_time], axis = 0)\n",
    "\n",
    "    avg_trav_dist = temp[\"traveled_distance\"].mean()\n",
    "    df_avg_trav_dist = pd.DataFrame({\"avg_trav_dist\": avg_trav_dist, \"sample_size\": \"10-pct\", \"sample_nr\": elem, \"alpha\" : 1.0, \"stuck_time\": 30.0, \"global_seed\": \"default\"}, index=[elem])\n",
    "    avg_trav_dist_10pct = pd.concat([avg_trav_dist_10pct, df_avg_trav_dist], axis = 0)"
   ]
  },
  {
   "cell_type": "code",
   "execution_count": 50,
   "metadata": {},
   "outputs": [
    {
     "name": "stderr",
     "output_type": "stream",
     "text": [
      "/tmp/ipykernel_7804/4189369851.py:5: DtypeWarning: Columns (21,22) have mixed types. Specify dtype option on import or set low_memory=False.\n",
      "  temp = pd.read_csv(path, compression= \"gzip\", sep=\";\")\n"
     ]
    }
   ],
   "source": [
    "avg_trav_time_10pct_sCf = pd.DataFrame()\n",
    "avg_trav_dist_10pct_sCf = pd.DataFrame()\n",
    "for elem in range(1,11,1):\n",
    "    path = \"/home/lola/math_cluster/output/output-lausitz-10.0-pct-\" + str(elem) + \"-fCf_0.1_sCF_0.17783_gS_4711_3765/lausitz-10.0-pct-\" + str(elem) +\"-fCf_0.1_sCF_0.17783_gS_4711_3765.output_trips.csv.gz\"\n",
    "    temp = pd.read_csv(path, compression= \"gzip\", sep=\";\")\n",
    "    temp[\"trav_time\"] = pd.to_timedelta(temp.trav_time)\n",
    "    avg_trav_time = temp[\"trav_time\"].sum() / temp[\"trav_time\"].shape[0]\n",
    "    df_avg_trav_time = pd.DataFrame({\"avg_trav_time\": avg_trav_time, \"sample_size\": \"10-pct\", \"sample_nr\": elem, \"alpha\" : 0.75, \"stuck_time\": 30.0, \"global_seed\": \"default\"}, index=[elem])\n",
    "    avg_trav_time_10pct_sCf = pd.concat([avg_trav_time_10pct_sCf, df_avg_trav_time], axis = 0)\n",
    "\n",
    "    avg_trav_dist = temp[\"traveled_distance\"].mean()\n",
    "    df_avg_trav_dist = pd.DataFrame({\"avg_trav_dist\": avg_trav_dist, \"sample_size\": \"10-pct\", \"sample_nr\": elem, \"alpha\" : 0.75, \"stuck_time\": 30.0, \"global_seed\": \"default\"}, index=[elem])\n",
    "    avg_trav_dist_10pct_sCf = pd.concat([avg_trav_dist_10pct_sCf, df_avg_trav_dist], axis = 0)"
   ]
  },
  {
   "cell_type": "code",
   "execution_count": 51,
   "metadata": {},
   "outputs": [
    {
     "name": "stderr",
     "output_type": "stream",
     "text": [
      "/tmp/ipykernel_7804/2542072797.py:5: DtypeWarning: Columns (21,22) have mixed types. Specify dtype option on import or set low_memory=False.\n",
      "  temp = pd.read_csv(path, compression= \"gzip\", sep=\";\")\n"
     ]
    }
   ],
   "source": [
    "avg_trav_time_10pct_sT = pd.DataFrame()\n",
    "avg_trav_dist_10pct_sT = pd.DataFrame()\n",
    "for elem in range(1,11,1):\n",
    "    path = \"/home/lola/math_cluster/output/output-lausitz-10-pct-\" +str(elem) + \"-fCf_sCF_0.1_gS_4711_sT_300.0_3765/lausitz-10-pct-\" +str(elem) + \"-fCf_sCF_0.1_gS_4711_sT_300.0_3765.output_trips.csv.gz\"\n",
    "    temp = pd.read_csv(path, compression= \"gzip\", sep=\";\")\n",
    "    temp[\"trav_time\"] = pd.to_timedelta(temp.trav_time)\n",
    "    avg_trav_time = temp[\"trav_time\"].sum() / temp[\"trav_time\"].shape[0]\n",
    "    df_avg_trav_time = pd.DataFrame({\"avg_trav_time\": avg_trav_time, \"sample_size\": \"10-pct\", \"sample_nr\": elem, \"alpha\" : 1.0, \"stuck_time\": 300.0, \"global_seed\": \"default\"}, index=[elem])\n",
    "    avg_trav_time_10pct_sT = pd.concat([avg_trav_time_10pct_sT, df_avg_trav_time], axis = 0)\n",
    "\n",
    "    avg_trav_dist = temp[\"traveled_distance\"].mean()\n",
    "    df_avg_trav_dist = pd.DataFrame({\"avg_trav_dist\": avg_trav_dist, \"sample_size\": \"10-pct\", \"sample_nr\": elem, \"alpha\" : 1.0, \"stuck_time\": 300.0, \"global_seed\": \"default\"}, index=[elem])\n",
    "    avg_trav_dist_10pct_sT = pd.concat([avg_trav_dist_10pct_sT, df_avg_trav_dist], axis = 0)"
   ]
  },
  {
   "cell_type": "code",
   "execution_count": 52,
   "metadata": {},
   "outputs": [
    {
     "name": "stderr",
     "output_type": "stream",
     "text": [
      "/tmp/ipykernel_7804/3895922086.py:5: DtypeWarning: Columns (21,22) have mixed types. Specify dtype option on import or set low_memory=False.\n",
      "  temp = pd.read_csv(path, compression= \"gzip\", sep=\";\")\n"
     ]
    }
   ],
   "source": [
    "avg_trav_time_10pct_sT_sCf = pd.DataFrame()\n",
    "avg_trav_dist_10pct_sT_sCf = pd.DataFrame()\n",
    "for elem in range(1,11,1):\n",
    "    path = \"/home/lola/math_cluster/output/output-lausitz-10-pct-\" +str(elem) + \"-fCf_0.1_sCF_0.17783_gS_4711_sT_300.0_3765/lausitz-10-pct-\" + str(elem) + \"-fCf_0.1_sCF_0.17783_gS_4711_sT_300.0_3765.output_trips.csv.gz\"\n",
    "    temp = pd.read_csv(path, compression= \"gzip\", sep=\";\")\n",
    "    temp[\"trav_time\"] = pd.to_timedelta(temp.trav_time)\n",
    "    avg_trav_time = temp[\"trav_time\"].sum() / temp[\"trav_time\"].shape[0]\n",
    "    df_avg_trav_time = pd.DataFrame({\"avg_trav_time\": avg_trav_time, \"sample_size\": \"10-pct\", \"sample_nr\": elem, \"alpha\" : 0.75, \"stuck_time\": 300.0, \"global_seed\": \"default\"}, index=[elem])\n",
    "    avg_trav_time_10pct_sT_sCf = pd.concat([avg_trav_time_10pct_sT_sCf, df_avg_trav_time], axis = 0)\n",
    "\n",
    "    avg_trav_dist = temp[\"traveled_distance\"].mean()\n",
    "    df_avg_trav_dist = pd.DataFrame({\"avg_trav_dist\": avg_trav_dist, \"sample_size\": \"10-pct\", \"sample_nr\": elem, \"alpha\" : 0.75, \"stuck_time\": 300.0, \"global_seed\": \"default\"}, index=[elem])\n",
    "    avg_trav_dist_10pct_sT_sCf = pd.concat([avg_trav_dist_10pct_sT_sCf, df_avg_trav_dist], axis = 0)"
   ]
  },
  {
   "cell_type": "code",
   "execution_count": 53,
   "metadata": {},
   "outputs": [],
   "source": [
    "avg_trav_time_10pct_all = pd.concat([avg_trav_time_10pct, avg_trav_time_10pct_sCf, avg_trav_time_10pct_sT, avg_trav_time_10pct_sT_sCf], axis = 0)\n",
    "avg_trav_dist_10pct_all = pd.concat([avg_trav_dist_10pct, avg_trav_dist_10pct_sCf, avg_trav_dist_10pct_sT, avg_trav_dist_10pct_sT_sCf], axis = 0)\n",
    "\n",
    "avg_trav_time_10pct_all.to_csv('/home/lola/Nextcloud/Masterarbeit/03_Outputs/avg_trav_time_all_10pct_samples.csv', index = False) \n",
    "avg_trav_dist_10pct_all.to_csv('/home/lola/Nextcloud/Masterarbeit/03_Outputs/avg_trav_dist_all_10pct_samples.csv', index = False) "
   ]
  },
  {
   "cell_type": "markdown",
   "metadata": {},
   "source": [
    "#### 25 pct"
   ]
  },
  {
   "cell_type": "code",
   "execution_count": 54,
   "metadata": {},
   "outputs": [],
   "source": [
    "# 25 pct\n",
    "avg_trav_time_25pct = pd.DataFrame()\n",
    "avg_trav_dist_25pct = pd.DataFrame()\n",
    " # 25 pct, alpha = 1\n",
    " # import data\n",
    "path = \"/home/lola/math_cluster/output/output-lausitz-25.0-pct-fCf_sCF_0.25_gS_4711_3765/lausitz-25.0-pct-fCf_sCF_0.25_gS_4711_3765.output_trips.csv.gz\"\n",
    "temp = pd.read_csv(path, compression= \"gzip\", sep=\";\")\n",
    "# travel time\n",
    "temp[\"trav_time\"] = pd.to_timedelta(temp.trav_time)\n",
    "avg_trav_time = temp[\"trav_time\"].sum() / temp[\"trav_time\"].shape[0]\n",
    "df_avg_trav_time = pd.DataFrame({\"avg_trav_time\": avg_trav_time, \"sample_size\": \"25-pct\", \"sample_nr\": 1, \"alpha\" : 1.0, \"stuck_time\": 30.0, \"global_seed\": \"default\"}, index=[0])\n",
    "avg_trav_time_25pct = pd.concat([avg_trav_time_25pct, df_avg_trav_time ])\n",
    "# traveled distance\n",
    "avg_trav_dist = temp[\"traveled_distance\"].mean()\n",
    "df_avg_trav_dist = pd.DataFrame({\"avg_trav_dist\": avg_trav_dist, \"sample_size\": \"25-pct\", \"sample_nr\": 1, \"alpha\" : 1.0, \"stuck_time\": 30.0, \"global_seed\": \"default\"}, index=[0])\n",
    "avg_trav_dist_25pct = pd.concat([avg_trav_dist_25pct, df_avg_trav_dist ])\n",
    "\n",
    "# 25 pct, alpha = 0.75\n",
    "# import data\n",
    "path = \"/home/lola/math_cluster/output/output-lausitz-25.0-pct-fCf_0.25_sCF_0.35355_gS_4711_3765/lausitz-25.0-pct-fCf_0.25_sCF_0.35355_gS_4711_3765.output_trips.csv.gz\"\n",
    "temp = pd.read_csv(path, compression= \"gzip\", sep=\";\")\n",
    "\n",
    "# travel time\n",
    "temp[\"trav_time\"] = pd.to_timedelta(temp.trav_time)\n",
    "avg_trav_time = temp[\"trav_time\"].sum() / temp[\"trav_time\"].shape[0]\n",
    "df_avg_trav_time = pd.DataFrame({\"avg_trav_time\": avg_trav_time, \"sample_size\": \"25-pct\", \"sample_nr\": 1, \"alpha\" : 0.75, \"stuck_time\": 30.0, \"global_seed\": \"default\"}, index=[1])\n",
    "avg_trav_time_25pct = pd.concat([avg_trav_time_25pct, df_avg_trav_time ])\n",
    "\n",
    "#traveled distance\n",
    "avg_trav_dist = temp[\"traveled_distance\"].mean()\n",
    "df_avg_trav_dist = pd.DataFrame({\"avg_trav_dist\": avg_trav_dist, \"sample_size\": \"25-pct\", \"sample_nr\": 1, \"alpha\" : 0.75, \"stuck_time\": 30.0, \"global_seed\": \"default\"}, index=[1])\n",
    "avg_trav_dist_25pct = pd.concat([avg_trav_dist_25pct, df_avg_trav_dist ])\n",
    "\n",
    "# 25 pct, alpha = 1, sT scaled\n",
    "# import data\n",
    "path = \"/home/lola/math_cluster/output/output-lausitz-25-pct-1-fCf_sCF_0.25_gS_4711_sT_120.0_3765/lausitz-25-pct-1-fCf_sCF_0.25_gS_4711_sT_120.0_3765.output_trips.csv.gz\"\n",
    "temp = pd.read_csv(path, compression= \"gzip\", sep=\";\")\n",
    "\n",
    "# travel time\n",
    "temp[\"trav_time\"] = pd.to_timedelta(temp.trav_time)\n",
    "avg_trav_time = temp[\"trav_time\"].sum() / temp[\"trav_time\"].shape[0]\n",
    "df_avg_trav_time = pd.DataFrame({\"avg_trav_time\": avg_trav_time, \"sample_size\": \"25-pct\", \"sample_nr\": 1, \"alpha\" : 1.0, \"stuck_time\": 120.0, \"global_seed\": \"default\"}, index=[2])\n",
    "avg_trav_time_25pct = pd.concat([avg_trav_time_25pct, df_avg_trav_time ])\n",
    "\n",
    "# traveled distance\n",
    "avg_trav_dist = temp[\"traveled_distance\"].mean()\n",
    "df_avg_trav_dist = pd.DataFrame({\"avg_trav_dist\": avg_trav_dist, \"sample_size\": \"25-pct\", \"sample_nr\": 1, \"alpha\" : 1.0, \"stuck_time\": 120.0, \"global_seed\": \"default\"}, index=[2])\n",
    "avg_trav_dist_25pct = pd.concat([avg_trav_dist_25pct, df_avg_trav_dist ])\n",
    "\n",
    " # 25 pct, alpha = 0.75, sT scaled\n",
    "# import data\n",
    "path = \"/home/lola/math_cluster/output/output-lausitz-25.0-pct-fCf_0.25_sCF_0.35355_gS_4711_3765/lausitz-25.0-pct-fCf_0.25_sCF_0.35355_gS_4711_3765.output_trips.csv.gz\"\n",
    "temp = pd.read_csv(path, compression= \"gzip\", sep=\";\")\n",
    "\n",
    "# travel time\n",
    "temp[\"trav_time\"] = pd.to_timedelta(temp.trav_time)\n",
    "avg_trav_time = temp[\"trav_time\"].sum() / temp[\"trav_time\"].shape[0]\n",
    "df_avg_trav_time = pd.DataFrame({\"avg_trav_time\": avg_trav_time, \"sample_size\": \"25-pct\", \"sample_nr\": 1, \"alpha\" : 0.75, \"stuck_time\": 120.0, \"global_seed\": \"default\"}, index=[3])\n",
    "avg_trav_time_25pct = pd.concat([avg_trav_time_25pct, df_avg_trav_time ])\n",
    "\n",
    "#traveled distance\n",
    "avg_trav_dist = temp[\"traveled_distance\"].mean()\n",
    "df_avg_trav_dist = pd.DataFrame({\"avg_trav_dist\": avg_trav_dist, \"sample_size\": \"25-pct\", \"sample_nr\": 1, \"alpha\" : 0.75, \"stuck_time\": 120.0, \"global_seed\": \"default\"}, index=[3])\n",
    "avg_trav_dist_25pct = pd.concat([avg_trav_dist_25pct, df_avg_trav_dist ])\n"
   ]
  },
  {
   "cell_type": "code",
   "execution_count": 55,
   "metadata": {},
   "outputs": [],
   "source": [
    "avg_trav_time_25pct.to_csv('/home/lola/Nextcloud/Masterarbeit/03_Outputs/avg_trav_time_all_25pct_samples.csv', index = False) \n",
    "avg_trav_dist_25pct.to_csv('/home/lola/Nextcloud/Masterarbeit/03_Outputs/avg_trav_dist_all_25pct_samples.csv', index = False) "
   ]
  },
  {
   "cell_type": "markdown",
   "metadata": {},
   "source": [
    "#### 50 pct"
   ]
  },
  {
   "cell_type": "code",
   "execution_count": 56,
   "metadata": {},
   "outputs": [],
   "source": [
    "# 50 pct\n",
    "avg_trav_time_50pct = pd.DataFrame()\n",
    "avg_trav_dist_50pct = pd.DataFrame()\n",
    " # 50 pct, alpha = 1\n",
    "path = \"/home/lola/math_cluster/output/output-lausitz-50.0-pct-fCf_sCF_0.5_gS_4711_3765/lausitz-50.0-pct-fCf_sCF_0.5_gS_4711_3765.output_trips.csv.gz\"\n",
    "temp = pd.read_csv(path, compression= \"gzip\", sep=\";\")\n",
    "temp[\"trav_time\"] = pd.to_timedelta(temp.trav_time)\n",
    "avg_trav_time = temp[\"trav_time\"].sum() / temp[\"trav_time\"].shape[0]\n",
    "df_avg_trav_time = pd.DataFrame({\"avg_trav_time\": avg_trav_time, \"sample_size\": \"50-pct\", \"sample_nr\": 1, \"alpha\" : 1.0, \"stuck_time\": 30.0, \"global_seed\": \"default\"}, index=[0])\n",
    "avg_trav_time_50pct = pd.concat([avg_trav_time_50pct, df_avg_trav_time ])\n",
    "\n",
    "avg_trav_dist = temp[\"traveled_distance\"].mean()\n",
    "df_avg_trav_dist = pd.DataFrame({\"avg_trav_dist\": avg_trav_dist, \"sample_size\": \"50-pct\", \"sample_nr\": 1, \"alpha\" : 1.0, \"stuck_time\": 30.0, \"global_seed\": \"default\"}, index=[0])\n",
    "avg_trav_dist_50pct = pd.concat([avg_trav_dist_50pct, df_avg_trav_dist ])\n",
    "\n",
    "# 50 pct, alpha = 0.75\n",
    "path = \"/home/lola/math_cluster/output/output-lausitz-50.0-pct-fCf_0.5_sCF_0.5946_gS_4711_3765/lausitz-50.0-pct-fCf_0.5_sCF_0.5946_gS_4711_3765.output_trips.csv.gz\"\n",
    "temp = pd.read_csv(path, compression= \"gzip\", sep=\";\")\n",
    "temp[\"trav_time\"] = pd.to_timedelta(temp.trav_time)\n",
    "avg_trav_time = temp[\"trav_time\"].sum() / temp[\"trav_time\"].shape[0]\n",
    "df_avg_trav_time = pd.DataFrame({\"avg_trav_time\": avg_trav_time, \"sample_size\": \"50-pct\", \"sample_nr\": 1, \"alpha\" : 0.75, \"stuck_time\": 30.0, \"global_seed\": \"default\"}, index=[1])\n",
    "avg_trav_time_50pct = pd.concat([avg_trav_time_50pct, df_avg_trav_time ])\n",
    "\n",
    "avg_trav_dist = temp[\"traveled_distance\"].mean()\n",
    "df_avg_trav_dist = pd.DataFrame({\"avg_trav_dist\": avg_trav_dist, \"sample_size\": \"50-pct\", \"sample_nr\": 1, \"alpha\" : 0.75, \"stuck_time\": 30.0, \"global_seed\": \"default\"}, index=[1])\n",
    "avg_trav_dist_50pct = pd.concat([avg_trav_dist_50pct, df_avg_trav_dist ])\n",
    "\n",
    "# 50 pct, alpha = 1, sT scaled\n",
    "path = \"/home/lola/math_cluster/output/output-lausitz-50-pct-1-fCf_sCF_0.5_gS_4711_sT_60.0_3765/lausitz-50-pct-1-fCf_sCF_0.5_gS_4711_sT_60.0_3765.output_trips.csv.gz\"\n",
    "temp = pd.read_csv(path, compression= \"gzip\", sep=\";\")\n",
    "temp[\"trav_time\"] = pd.to_timedelta(temp.trav_time)\n",
    "avg_trav_time = temp[\"trav_time\"].sum() / temp[\"trav_time\"].shape[0]\n",
    "df_avg_trav_time = pd.DataFrame({\"avg_trav_time\": avg_trav_time, \"sample_size\": \"50-pct\", \"sample_nr\": 1, \"alpha\" : 1.0, \"stuck_time\": 60.0, \"global_seed\": \"default\"}, index=[2])\n",
    "avg_trav_time_50pct = pd.concat([avg_trav_time_50pct, df_avg_trav_time ])\n",
    "\n",
    "avg_trav_dist = temp[\"traveled_distance\"].mean()\n",
    "df_avg_trav_dist = pd.DataFrame({\"avg_trav_dist\": avg_trav_dist, \"sample_size\": \"50-pct\", \"sample_nr\": 1, \"alpha\" : 1.0, \"stuck_time\": 60.0, \"global_seed\": \"default\"}, index=[2])\n",
    "avg_trav_dist_50pct = pd.concat([avg_trav_dist_50pct, df_avg_trav_dist ])\n",
    "\n",
    " # 50 pct, alpha = 0.75, sT scaled\n",
    "path = \"/home/lola/math_cluster/output/output-lausitz-50-pct-1-fCf_0.5_sCF_0.5946_gS_4711_sT_60.0_3765/lausitz-50-pct-1-fCf_0.5_sCF_0.5946_gS_4711_sT_60.0_3765.output_trips.csv.gz\"\n",
    "temp = pd.read_csv(path, compression= \"gzip\", sep=\";\")\n",
    "temp[\"trav_time\"] = pd.to_timedelta(temp.trav_time)\n",
    "avg_trav_time = temp[\"trav_time\"].sum() / temp[\"trav_time\"].shape[0]\n",
    "df_avg_trav_time = pd.DataFrame({\"avg_trav_time\": avg_trav_time, \"sample_size\": \"50-pct\", \"sample_nr\": 1, \"alpha\" : 0.75, \"stuck_time\": 60.0, \"global_seed\": \"default\"}, index=[3])\n",
    "avg_trav_time_50pct = pd.concat([avg_trav_time_50pct, df_avg_trav_time ])\n",
    "\n",
    "avg_trav_dist = temp[\"traveled_distance\"].mean()\n",
    "df_avg_trav_dist = pd.DataFrame({\"avg_trav_dist\": avg_trav_dist, \"sample_size\": \"50-pct\", \"sample_nr\": 1, \"alpha\" : 0.75, \"stuck_time\": 60.0, \"global_seed\": \"default\"}, index=[3])\n",
    "avg_trav_dist_50pct = pd.concat([avg_trav_dist_50pct, df_avg_trav_dist ])\n"
   ]
  },
  {
   "cell_type": "code",
   "execution_count": 57,
   "metadata": {},
   "outputs": [],
   "source": [
    "avg_trav_time_50pct.to_csv('/home/lola/Nextcloud/Masterarbeit/03_Outputs/avg_trav_time_all_50pct_samples.csv', index = False) \n",
    "avg_trav_dist_50pct.to_csv('/home/lola/Nextcloud/Masterarbeit/03_Outputs/avg_trav_dist_all_50pct_samples.csv', index = False) "
   ]
  },
  {
   "cell_type": "markdown",
   "metadata": {},
   "source": [
    "#### 100 pct"
   ]
  },
  {
   "cell_type": "code",
   "execution_count": 58,
   "metadata": {},
   "outputs": [],
   "source": [
    "# 100 pct\n",
    "path = \"/home/lola/math_cluster/output/output-lausitz-100.0-pct-fCf_sCF_1.0_gS_4711_3765/lausitz-100.0-pct-fCf_sCF_1.0_gS_4711_3765.output_trips.csv.gz\"\n",
    "temp = pd.read_csv(path, compression= \"gzip\", sep=\";\")\n",
    "temp[\"trav_time\"] = pd.to_timedelta(temp.trav_time)\n",
    "avg_trav_time = temp[\"trav_time\"].sum() / temp[\"trav_time\"].shape[0]\n",
    "avg_trav_time_100pct = pd.DataFrame({\"avg_trav_time\": avg_trav_time, \"sample_size\": \"100-pct\", \"sample_nr\": 1, \"alpha\" : 1.0, \"stuck_time\": 30.0, \"global_seed\": \"default\"}, index=[0])\n",
    "\n",
    "avg_trav_dist = temp[\"traveled_distance\"].mean()\n",
    "avg_trav_dist_100pct = pd.DataFrame({\"avg_trav_dist\": avg_trav_dist, \"sample_size\": \"100-pct\", \"sample_nr\": 1, \"alpha\" :1.0, \"stuck_time\": 30.0, \"global_seed\": \"default\"}, index=[3])\n"
   ]
  },
  {
   "cell_type": "code",
   "execution_count": 59,
   "metadata": {},
   "outputs": [],
   "source": [
    "# concat \n",
    "avg_trav_time_all = pd.concat([avg_trav_time_1pct_all, avg_trav_time_5pct_all, avg_trav_time_10pct_all, avg_trav_time_25pct, avg_trav_time_50pct, avg_trav_time_100pct], axis=0)\n",
    "avg_trav_dist_all = pd.concat([avg_trav_dist_1pct_all, avg_trav_dist_5pct_all, avg_trav_dist_10pct_all, avg_trav_dist_25pct, avg_trav_dist_50pct, avg_trav_dist_100pct], axis=0)\n"
   ]
  },
  {
   "cell_type": "code",
   "execution_count": 60,
   "metadata": {},
   "outputs": [],
   "source": [
    "avg_trav_time_all[\"avg_trav_time\"] = avg_trav_time_all.avg_trav_time.astype('timedelta64[s]')/  pd.Timedelta(minutes=60)"
   ]
  },
  {
   "cell_type": "code",
   "execution_count": 61,
   "metadata": {},
   "outputs": [],
   "source": [
    "avg_trav_time_all.to_csv('/home/lola/Nextcloud/Masterarbeit/03_Outputs/avg_trav_time_1_to_100_pct_samples.csv', index = False)\n",
    "avg_trav_dist_all.to_csv('/home/lola/Nextcloud/Masterarbeit/03_Outputs/avg_trav_dist_1_to_100_pct_sample.csv', index = False)"
   ]
  },
  {
   "cell_type": "markdown",
   "metadata": {},
   "source": [
    "### 8. Travel Time distribution"
   ]
  },
  {
   "cell_type": "markdown",
   "metadata": {},
   "source": [
    "#### Travel time categories"
   ]
  },
  {
   "cell_type": "code",
   "execution_count": 2,
   "metadata": {},
   "outputs": [],
   "source": [
    "def sixMinuteCategoriesUpToTwoHours(df):\n",
    "    categories = []\n",
    "    for t in df[\"trav_time2\"]:\n",
    "\n",
    "\n",
    "        if (0.0 <= t and t < 0.10):\n",
    "            categories.append(\"0:00_0:06\")\n",
    "        elif (0.10 <= t and t < 0.20):\n",
    "            categories.append(\"0:06_0:12\") \n",
    "        elif (0.20 <= t and t < 0.30):\n",
    "            categories.append(\"0:12_0:18\")\n",
    "        elif (0.30 <= t and t < 0.40):\n",
    "            categories.append(\"0:18_0:24\")\n",
    "        elif (0.40 <= t and t < 0.50):\n",
    "            categories.append(\"0:24_0:30\")\n",
    "        elif (0.50 <= t and t < 0.60):\n",
    "            categories.append(\"0:30_0:36\")  \n",
    "        elif (0.60 <= t and t < 0.70):\n",
    "            categories.append(\"0:36_0:42\")\n",
    "        elif (0.70 <= t and t < 0.80):\n",
    "            categories.append(\"0:42_0:48\")\n",
    "        elif (0.80 <= t and t < 0.90):\n",
    "            categories.append(\"0:48_0:54\")\n",
    "        elif (0.90 <= t and t < 1.00):\n",
    "            categories.append(\"0:54_1:00\")\n",
    "\n",
    "\n",
    "        elif (1.0 <= t and t < 1.10):\n",
    "            categories.append(\"1:00_1:06\")\n",
    "        elif (1.10 <= t and t < 1.20):\n",
    "            categories.append(\"1:06_1:12\") \n",
    "        elif (1.20 <= t and t < 1.30):\n",
    "            categories.append(\"1:12_1:18\")\n",
    "        elif (1.30 <= t and t < 1.40):\n",
    "            categories.append(\"1:18_1:24\")\n",
    "        elif (1.40 <= t and t < 1.50):\n",
    "            categories.append(\"1:24_1:30\")\n",
    "        elif (1.50 <= t and t < 1.60):\n",
    "            categories.append(\"1:30_1:36\")  \n",
    "        elif (1.60 <= t and t < 1.70):\n",
    "            categories.append(\"1:36_1:42\")\n",
    "        elif (1.70 <= t and t < 1.80):\n",
    "            categories.append(\"1:42_1:48\")\n",
    "        elif (1.80 <= t and t < 1.90):\n",
    "            categories.append(\"1:48_1:54\")\n",
    "        elif (1.90 <= t and t < 2.00):\n",
    "            categories.append(\"1:54_2:00\")\n",
    "\n",
    "        else: categories.append(\">2h\")\n",
    "\n",
    "    temp = pd.DataFrame({ \"categories\": categories})\n",
    "    temp = temp.sort_values(by=['categories'])\n",
    "\n",
    "    freq_6_min_cat = []\n",
    "    for cat in temp.categories.unique():\n",
    "        f = temp[(temp[\"categories\"]==cat)].shape[0]\n",
    "        freq_6_min_cat.append(f)\n",
    "    \n",
    "    trav_times_6min_cat = pd.DataFrame({\"category\":temp.categories.unique(), \"freq\": freq_6_min_cat })\n",
    "    return trav_times_6min_cat \n",
    "\n",
    "\n",
    "    "
   ]
  },
  {
   "cell_type": "markdown",
   "metadata": {},
   "source": [
    "#### 1pct"
   ]
  },
  {
   "cell_type": "code",
   "execution_count": 3,
   "metadata": {},
   "outputs": [],
   "source": [
    "# 1 pct, alpha = 1\n",
    "trav_time_1pct_categories = []\n",
    "for elem in range(1,11,1):\n",
    "    #       /home/lola/math_cluster/output/output-lausitz-1pct-1-fCf_sCF_0.01_gS_default_3765/lausitz-1pct-1-fCf_sCf_0.01_gS_default_3765.output_trips.csv.gz\n",
    "    path = \"/home/lola/math_cluster/output/output-lausitz-1pct-\"+ str(elem) +\"-fCf_sCF_0.01_gS_default_3765/lausitz-1pct-\"+ str(elem) +\"-fCf_sCf_0.01_gS_default_3765.output_trips.csv.gz\"\n",
    "    temp = pd.read_csv(path, compression= \"gzip\", sep=\";\")\n",
    "    temp[\"trav_time\"] = pd.to_timedelta(temp.trav_time)\n",
    "    temp[\"trav_time2\"] = temp.trav_time.astype('timedelta64[s]')/  pd.Timedelta(minutes=60)\n",
    "    trav_time_cat = sixMinuteCategoriesUpToTwoHours(temp)\n",
    "    trav_time_cat.rename(columns={\"freq\": \"freq_\" + str(elem)}, inplace = True )\n",
    "    trav_time_1pct_categories.append(trav_time_cat)\n",
    "\n",
    "    \n",
    "   "
   ]
  },
  {
   "cell_type": "code",
   "execution_count": 4,
   "metadata": {},
   "outputs": [],
   "source": [
    "# left join and calculate mean\n",
    "trav_time_1pct_cat_all = pd.merge(trav_time_1pct_categories[0], trav_time_1pct_categories[1], on = ['category'], how='left')\n",
    "for elem in range(2,10,1):\n",
    "    trav_time_1pct_cat_all = pd.merge(trav_time_1pct_cat_all, trav_time_1pct_categories[elem], on = ['category'], how='left')\n",
    "\n",
    "trav_time_1pct_cat_all['mean'] = trav_time_1pct_cat_all.iloc[:,1:11].mean(axis = 1)\n",
    "trav_time_1pct_cat_all.insert(12, 'sample_size', \"1-pct\")\n",
    "trav_time_1pct_cat_all.insert(13, 'alpha', 1.0)\n",
    "trav_time_1pct_cat_all.insert(14, 'stuck_time', 30.0)\n",
    "trav_time_1pct_cat_all.insert(15,'global_seed', \"default\") \n"
   ]
  },
  {
   "cell_type": "markdown",
   "metadata": {},
   "source": [
    "#### 5 pct"
   ]
  },
  {
   "cell_type": "code",
   "execution_count": 5,
   "metadata": {},
   "outputs": [],
   "source": [
    "trav_time_5pct_categories = []\n",
    "for elem in range(1,11,1):\n",
    "    if (elem == 6):\n",
    "        path = \"/home/lola/math_cluster/output/output-lausitz-5.0-pct-6-fCf_sCF_0.05_gS_4711_3765/lausitz-5.0-pct-6-fCf_sCF_0.05_gS_4711_3765-2.output_trips.csv.gz\"\n",
    "        temp = pd.read_csv(path, compression = \"gzip\", sep = \";\")\n",
    "        temp[\"trav_time\"] = pd.to_timedelta(temp.trav_time)\n",
    "        temp[\"trav_time2\"] = temp.trav_time.astype('timedelta64[s]')/  pd.Timedelta(minutes=60)\n",
    "        trav_time_cat = sixMinuteCategoriesUpToTwoHours(temp)\n",
    "        trav_time_cat.rename(columns={\"freq\": \"freq_\" + str(elem)}, inplace = True )\n",
    "        trav_time_5pct_categories.append(trav_time_cat)\n",
    "    else: \n",
    "        # ERROR WRONG PATH, Now corrected\n",
    "        path = \"/home/lola/math_cluster/output/output-lausitz-5.0-pct-\" + str(elem) + \"-fCf_sCF_0.05_gS_4711_3765/lausitz-5.0-pct-\" + str(elem) + \"-fCf_sCF_0.05_gS_4711_3765.output_trips.csv.gz\"\n",
    "        temp = pd.read_csv(path, compression= \"gzip\", sep=\";\")\n",
    "        temp[\"trav_time\"] = pd.to_timedelta(temp.trav_time)\n",
    "        temp[\"trav_time2\"] = temp.trav_time.astype('timedelta64[s]')/  pd.Timedelta(minutes=60)\n",
    "        trav_time_cat = sixMinuteCategoriesUpToTwoHours(temp)\n",
    "        trav_time_cat.rename(columns={\"freq\": \"freq_\" + str(elem)}, inplace = True )\n",
    "        trav_time_5pct_categories.append(trav_time_cat)\n",
    "# left join and calculate mean\n",
    "trav_time_5pct_cat_all = pd.merge(trav_time_5pct_categories[0], trav_time_5pct_categories[1], on = ['category'], how='left')\n",
    "for elem in range(2,10,1):\n",
    "    trav_time_5pct_cat_all = pd.merge(trav_time_5pct_cat_all, trav_time_5pct_categories[elem], on = ['category'], how='left')\n",
    "\n",
    "trav_time_5pct_cat_all['mean'] = trav_time_5pct_cat_all.iloc[:,1:11].mean(axis = 1)\n",
    "trav_time_5pct_cat_all.insert(12, 'sample_size', \"5-pct\")\n",
    "trav_time_5pct_cat_all.insert(13, 'alpha', 1.0)\n",
    "trav_time_5pct_cat_all.insert(14, 'stuck_time', 30.0)\n",
    "trav_time_5pct_cat_all.insert(15,'global_seed', \"default\") "
   ]
  },
  {
   "cell_type": "markdown",
   "metadata": {},
   "source": [
    "#### 10pct"
   ]
  },
  {
   "cell_type": "code",
   "execution_count": 6,
   "metadata": {},
   "outputs": [
    {
     "name": "stderr",
     "output_type": "stream",
     "text": [
      "/tmp/ipykernel_7233/1743431341.py:4: DtypeWarning: Columns (21,22) have mixed types. Specify dtype option on import or set low_memory=False.\n",
      "  temp = pd.read_csv(path, compression= \"gzip\", sep=\";\")\n"
     ]
    }
   ],
   "source": [
    "trav_time_10pct_categories = []\n",
    "for elem in range(1,11,1):\n",
    "    path = \"/home/lola/math_cluster/output/output-lausitz-10.0-pct-\" +str(elem) + \"-fCf_sCF_0.1_gS_4711_3765/lausitz-10.0-pct-\" +str(elem) + \"-fCf_sCF_0.1_gS_4711_3765.output_trips.csv.gz\"\n",
    "    temp = pd.read_csv(path, compression= \"gzip\", sep=\";\")\n",
    "    temp[\"trav_time\"] = pd.to_timedelta(temp.trav_time)\n",
    "    temp[\"trav_time2\"] = temp.trav_time.astype('timedelta64[s]')/  pd.Timedelta(minutes=60)\n",
    "    trav_time_cat = sixMinuteCategoriesUpToTwoHours(temp)\n",
    "    trav_time_cat.rename(columns={\"freq\": \"freq_\" + str(elem)}, inplace = True )\n",
    "    trav_time_10pct_categories.append(trav_time_cat)\n",
    "# left join and calculate mean\n",
    "trav_time_10pct_cat_all = pd.merge(trav_time_10pct_categories[0], trav_time_10pct_categories[1], on = ['category'], how='left')\n",
    "for elem in range(2,10,1):\n",
    "    trav_time_10pct_cat_all = pd.merge(trav_time_10pct_cat_all, trav_time_10pct_categories[elem], on = ['category'], how='left')\n",
    "\n",
    "trav_time_10pct_cat_all['mean'] = trav_time_10pct_cat_all.iloc[:,1:11].mean(axis = 1)\n",
    "trav_time_10pct_cat_all.insert(12, 'sample_size', \"10-pct\")\n",
    "trav_time_10pct_cat_all.insert(13, 'alpha', 1.0)\n",
    "trav_time_10pct_cat_all.insert(14, 'stuck_time', 30.0)\n",
    "trav_time_10pct_cat_all.insert(15,'global_seed', \"default\") "
   ]
  },
  {
   "cell_type": "markdown",
   "metadata": {},
   "source": [
    "#### 25 pct"
   ]
  },
  {
   "cell_type": "code",
   "execution_count": 7,
   "metadata": {},
   "outputs": [],
   "source": [
    "path = \"/home/lola/math_cluster/output/output-lausitz-25.0-pct-fCf_sCF_0.25_gS_4711_3765/lausitz-25.0-pct-fCf_sCF_0.25_gS_4711_3765.output_trips.csv.gz\"\n",
    "t_25pct = pd.read_csv(path, compression= \"gzip\", sep=\";\")\n",
    "t_25pct[\"trav_time\"] = pd.to_timedelta(t_25pct.trav_time)\n",
    "t_25pct[\"trav_time2\"] = t_25pct.trav_time.astype('timedelta64[s]')/  pd.Timedelta(minutes=60)\n",
    "trav_time_25pct_categories = sixMinuteCategoriesUpToTwoHours(t_25pct)\n",
    "trav_time_25pct_categories.rename(columns={\"freq\": \"mean\"}, inplace = True )\n",
    "trav_time_25pct_categories.insert(2, 'sample_size', \"25-pct\")\n",
    "trav_time_25pct_categories.insert(3, 'alpha', 1.0)\n",
    "trav_time_25pct_categories.insert(4, 'stuck_time', 30.0)\n",
    "trav_time_25pct_categories.insert(5,'global_seed', \"default\") "
   ]
  },
  {
   "cell_type": "markdown",
   "metadata": {},
   "source": [
    "#### 50 pct"
   ]
  },
  {
   "cell_type": "code",
   "execution_count": 8,
   "metadata": {},
   "outputs": [],
   "source": [
    "path = \"/home/lola/math_cluster/output/output-lausitz-50.0-pct-fCf_sCF_0.5_gS_4711_3765/lausitz-50.0-pct-fCf_sCF_0.5_gS_4711_3765.output_trips.csv.gz\"\n",
    "t_50pct = pd.read_csv(path, compression= \"gzip\", sep=\";\")\n",
    "t_50pct[\"trav_time\"] = pd.to_timedelta(t_50pct.trav_time)\n",
    "t_50pct[\"trav_time2\"] = t_50pct.trav_time.astype('timedelta64[s]')/  pd.Timedelta(minutes=60)\n",
    "trav_time_50pct_categories = sixMinuteCategoriesUpToTwoHours(t_50pct)\n",
    "trav_time_50pct_categories.rename(columns={\"freq\": \"mean\"}, inplace = True )\n",
    "trav_time_50pct_categories.insert(2, 'sample_size', \"50-pct\")\n",
    "trav_time_50pct_categories.insert(3, 'alpha', 1.0)\n",
    "trav_time_50pct_categories.insert(4, 'stuck_time', 30.0)\n",
    "trav_time_50pct_categories.insert(5,'global_seed', \"default\") "
   ]
  },
  {
   "cell_type": "markdown",
   "metadata": {},
   "source": [
    "#### 100 pct"
   ]
  },
  {
   "cell_type": "code",
   "execution_count": 9,
   "metadata": {},
   "outputs": [],
   "source": [
    "path = \"/home/lola/math_cluster/output/output-lausitz-100.0-pct-fCf_sCF_1.0_gS_4711_3765/lausitz-100.0-pct-fCf_sCF_1.0_gS_4711_3765.output_trips.csv.gz\"\n",
    "t_100pct = pd.read_csv(path, compression= \"gzip\", sep=\";\")\n",
    "t_100pct[\"trav_time\"] = pd.to_timedelta(t_100pct.trav_time)\n",
    "t_100pct[\"trav_time2\"] = t_100pct.trav_time.astype('timedelta64[s]')/  pd.Timedelta(minutes=60)\n",
    "trav_time_100pct_categories = sixMinuteCategoriesUpToTwoHours(t_100pct)\n",
    "trav_time_100pct_categories.rename(columns={\"freq\": \"mean\"}, inplace = True )\n",
    "trav_time_100pct_categories.insert(2, 'sample_size', \"100-pct\")\n",
    "trav_time_100pct_categories.insert(3, 'alpha', 1.0)\n",
    "trav_time_100pct_categories.insert(4, 'stuck_time', 30.0)\n",
    "trav_time_100pct_categories.insert(5,'global_seed', \"default\") "
   ]
  },
  {
   "cell_type": "markdown",
   "metadata": {},
   "source": [
    "#### Concat and write csv"
   ]
  },
  {
   "cell_type": "code",
   "execution_count": 10,
   "metadata": {},
   "outputs": [],
   "source": [
    "trav_time_categories_all = pd.concat([trav_time_1pct_cat_all, trav_time_5pct_cat_all, trav_time_10pct_cat_all,  trav_time_25pct_categories, trav_time_50pct_categories, trav_time_100pct_categories], axis = 0)\n",
    "trav_time_categories_all.to_csv('/home/lola/Nextcloud/Masterarbeit/03_Outputs/trav_time_categories_1_100.csv', index = False) "
   ]
  },
  {
   "cell_type": "markdown",
   "metadata": {},
   "source": [
    "## 7. Network Congestion Index"
   ]
  },
  {
   "cell_type": "markdown",
   "metadata": {},
   "source": [
    "#### 1 pct"
   ]
  },
  {
   "cell_type": "code",
   "execution_count": 45,
   "metadata": {},
   "outputs": [],
   "source": [
    "nci_1pct = []\n",
    "for elem in range(1,11,1):\n",
    "    path = \"/home/lola/math_cluster/output/output-lausitz-1pct-\"+ str(elem) + \"-fCf_sCF_0.01_gS_default_3765/analysis/traffic/traffic_stats_by_road_type_and_hour.csv\" \n",
    "    temp = pd.read_csv(path, sep=\",\")\n",
    "    temp.rename(columns={\"congestion_index\": \"congestion_index_\" + str(elem)}, inplace = True)\n",
    "    nci_1pct.append(temp)\n",
    "\n",
    "nci_1pct_df = pd.merge(nci_1pct[0], nci_1pct[1], on=['road_type','hour'], how='left')\n",
    "for elem in range(2,10,1):\n",
    "    nci_1pct_df = pd.merge(nci_1pct_df, nci_1pct[elem], on = ['road_type', 'hour'], how='left')\n",
    "\n",
    "nci_1pct_df['congestion_index_mean'] = nci_1pct_df.iloc[: ,2:11].mean(axis=1)\n",
    "nci_1pct_df.insert(13, 'sample_size', \"1-pct\")\n",
    "nci_1pct_df.insert(14, 'alpha', 1.0)\n",
    "nci_1pct_df.insert(15, 'stuck_time', 30.0)\n",
    "nci_1pct_df.insert(16,'global_seed', \"default\")\n",
    "\n"
   ]
  },
  {
   "cell_type": "code",
   "execution_count": 46,
   "metadata": {},
   "outputs": [],
   "source": [
    "nci_1pct_sCf = []\n",
    "for elem in range(1,11,1):\n",
    "    #       /home/lola/math_cluster/output/output-lausitz-1pct-1-fCf_0.01_sCF_0.03162_gS_default_3765/analysis/traffic/traffic_stats_by_road_type_and_hour.csv\n",
    "    path = \"/home/lola/math_cluster/output/output-lausitz-1pct-\"+ str(elem) + \"-fCf_0.01_sCF_0.03162_gS_default_3765/analysis/traffic/traffic_stats_by_road_type_and_hour.csv\" \n",
    "    temp = pd.read_csv(path, sep=\",\")\n",
    "    temp.rename(columns={\"congestion_index\": \"congestion_index_\" + str(elem)}, inplace = True)\n",
    "    nci_1pct_sCf.append(temp)\n",
    "\n",
    "nci_1pct_sCf_df = pd.merge(nci_1pct_sCf[0], nci_1pct_sCf[1], on=['road_type','hour'], how='left')\n",
    "for elem in range(2,10,1):\n",
    "    nci_1pct_sCf_df = pd.merge(nci_1pct_sCf_df, nci_1pct_sCf[elem], on = ['road_type', 'hour'], how='left')\n",
    "\n",
    "nci_1pct_sCf_df['congestion_index_mean'] = nci_1pct_sCf_df.iloc[: ,2:11].mean(axis=1)\n",
    "nci_1pct_sCf_df.insert(13, 'sample_size', \"1-pct\")\n",
    "nci_1pct_sCf_df.insert(14, 'alpha', 0.75)\n",
    "nci_1pct_sCf_df.insert(15, 'stuck_time', 30.0)\n",
    "nci_1pct_sCf_df.insert(16,'global_seed', \"default\")\n"
   ]
  },
  {
   "cell_type": "code",
   "execution_count": 47,
   "metadata": {},
   "outputs": [],
   "source": [
    "# random global seed\n",
    "nci_1pct_rGs = []\n",
    "rGs = [ 4711,3254, 2306, 6384,4338, 6003, 5502, 9377, 5621, 9002 ]\n",
    "for seed in rGs:\n",
    "    if (seed == 4711):\n",
    "        global_seed = \"rnd_\" + str(seed)\n",
    "        temp = nci_1pct_df[[\"road_type\", \"hour\", \"congestion_index_1\"]].copy()\n",
    "        nci_1pct_rGs.append(temp)\n",
    "    elif (seed == 3254):\n",
    "        global_seed  = \"rnd_\" + str(seed)\n",
    "        path =\"/home/lola/math_cluster/output/output-lausitz-1pct-1-fCf_sCF_0.01_gS_3254_3765/analysis/traffic/traffic_stats_by_road_type_and_hour.csv\"\n",
    "        temp = pd.read_csv(path, sep = \",\")\n",
    "        temp.rename(columns={\"congestion_index\": \"congestion_index_\" + str(rGs.index(seed) + 1)}, inplace = True)\n",
    "        nci_1pct_rGs.append(temp)\n",
    "    else:\n",
    "        global_seed  = \"rnd_\" + str(seed)\n",
    "        path = \"/home/lola/math_cluster/output/output-lausitz-1.0-pct-1-fCf_sCF_0.01_gS_\"+str(seed) + \"_3765/analysis/traffic/traffic_stats_by_road_type_and_hour.csv\"\n",
    "        temp = pd.read_csv(path, sep = \",\")\n",
    "        temp.rename(columns={\"congestion_index\": \"congestion_index_\" + str(rGs.index(seed) + 1 )}, inplace = True)\n",
    "        nci_1pct_rGs.append(temp)\n",
    "\n",
    "nci_1pct_rGs_df = pd.merge(nci_1pct_rGs[0], nci_1pct_rGs[1], on=['road_type','hour'], how='left')\n",
    "for elem in range(2,10,1):\n",
    "    nci_1pct_rGs_df = pd.merge(nci_1pct_rGs_df, nci_1pct_rGs[elem], on = ['road_type', 'hour'], how='left')\n",
    "\n",
    "nci_1pct_rGs_df['congestion_index_mean'] = nci_1pct_rGs_df.iloc[: ,2:11].mean(axis=1)\n",
    "nci_1pct_rGs_df.insert(13, 'sample_size', \"1-pct\")\n",
    "nci_1pct_rGs_df.insert(14, 'alpha', 1.0)\n",
    "nci_1pct_rGs_df.insert(15, 'stuck_time', 30.0)\n",
    "nci_1pct_rGs_df.insert(16,'global_seed', \"rnd\")\n",
    "\n"
   ]
  },
  {
   "cell_type": "code",
   "execution_count": 48,
   "metadata": {},
   "outputs": [],
   "source": [
    "nci_1pct_sT = []\n",
    "for elem in range(1,11,1):\n",
    "    path = \"/home/lola/math_cluster/output/output-lausitz-1-pct-\" + str(elem) + \"-fCf_sCF_0.01_gS_4711_sT_3000.0_3765/analysis/traffic/traffic_stats_by_road_type_and_hour.csv\" \n",
    "    temp = pd.read_csv(path, sep=\",\")\n",
    "    temp.rename(columns={\"congestion_index\": \"congestion_index_\" + str(elem)}, inplace = True)\n",
    "    nci_1pct_sT.append(temp)\n",
    "    \n",
    "nci_1pct_sT_df = pd.merge(nci_1pct_sT[0], nci_1pct_sT[1], on=['road_type','hour'], how='left')\n",
    "for elem in range(2,10,1):\n",
    "    nci_1pct_sT_df = pd.merge(nci_1pct_sT_df, nci_1pct_sT[elem], on = ['road_type', 'hour'], how='left')    \n",
    "    \n",
    "nci_1pct_sT_df['congestion_index_mean'] = nci_1pct_sT_df.iloc[: ,2:11].mean(axis=1)\n",
    "nci_1pct_sT_df.insert(13, 'sample_size', \"1-pct\")\n",
    "nci_1pct_sT_df.insert(14, 'alpha', 1.0)\n",
    "nci_1pct_sT_df.insert(15, 'stuck_time', 3000.0)\n",
    "nci_1pct_sT_df.insert(16,'global_seed', \"default\")\n"
   ]
  },
  {
   "cell_type": "code",
   "execution_count": 49,
   "metadata": {},
   "outputs": [],
   "source": [
    "nci_1pct_sT_sCf = []\n",
    "for elem in range(1,11,1):\n",
    "    path = \"/home/lola/math_cluster/output/output-lausitz-1-pct-\" + str(elem) + \"-fCf_0.01_sCF_0.03162_gS_4711_sT_3000.0_3765/analysis/traffic/traffic_stats_by_road_type_and_hour.csv\" \n",
    "    temp = pd.read_csv(path, sep=\",\")\n",
    "    temp.rename(columns={\"congestion_index\": \"congestion_index_\" + str(elem)}, inplace = True)\n",
    "    nci_1pct_sT_sCf.append(temp)\n",
    "    \n",
    "nci_1pct_sT_sCf_df = pd.merge(nci_1pct_sT_sCf[0], nci_1pct_sT_sCf[1], on=['road_type','hour'], how='left')\n",
    "for elem in range(2,10,1):\n",
    "    nci_1pct_sT_sCf_df = pd.merge(nci_1pct_sT_sCf_df, nci_1pct_sT_sCf[elem], on = ['road_type', 'hour'], how='left')    \n",
    "    \n",
    "nci_1pct_sT_sCf_df['congestion_index_mean'] = nci_1pct_sT_sCf_df.iloc[: ,2:11].mean(axis=1)\n",
    "nci_1pct_sT_sCf_df.insert(13, 'sample_size', \"1-pct\")\n",
    "nci_1pct_sT_sCf_df.insert(14, 'alpha', 0.75)\n",
    "nci_1pct_sT_sCf_df.insert(15, 'stuck_time', 3000.0)\n",
    "nci_1pct_sT_sCf_df.insert(16,'global_seed', \"default\")"
   ]
  },
  {
   "cell_type": "code",
   "execution_count": 50,
   "metadata": {},
   "outputs": [],
   "source": [
    "nci_1pct_all = pd.concat([nci_1pct_df, nci_1pct_sCf_df, nci_1pct_rGs_df,  nci_1pct_sT_df, nci_1pct_sT_sCf_df ])"
   ]
  },
  {
   "cell_type": "code",
   "execution_count": 51,
   "metadata": {},
   "outputs": [],
   "source": [
    "nci_1pct_all.to_csv('/home/lola/Nextcloud/Masterarbeit/03_Outputs/nci_all_1pct_samples.csv', index = False) "
   ]
  },
  {
   "cell_type": "markdown",
   "metadata": {},
   "source": [
    "#### 5 pct"
   ]
  },
  {
   "cell_type": "code",
   "execution_count": 52,
   "metadata": {},
   "outputs": [],
   "source": [
    "nci_5pct = []\n",
    "for elem in range(1,11,1):\n",
    "    if (elem ==6): \n",
    "        path = \"/home/lola/math_cluster/output/output-lausitz-5.0-pct-6-fCf_sCF_0.05_gS_4711_3765/analysis/traffic/traffic_stats_by_road_type_and_hour.csv\"\n",
    "        temp = pd.read_csv(path, sep=\",\")\n",
    "        temp.rename(columns={\"congestion_index\": \"congestion_index_\" + str(elem)}, inplace = True)\n",
    "        nci_5pct.append(temp)\n",
    "\n",
    "\n",
    "    else:\n",
    "    #       /home/lola/math_cluster/output/output-lausitz-5.0-pct-1-fCf_sCF_0.05_gS_4711_3765/analysis/traffic/traffic_stats_by_road_type_and_hour.csv\n",
    "        path = \"/home/lola/math_cluster/output/output-lausitz-5.0-pct-\"+ str(elem) + \"-fCf_sCF_0.05_gS_4711_3765/analysis/traffic/traffic_stats_by_road_type_and_hour.csv\" \n",
    "        temp = pd.read_csv(path, sep=\",\")\n",
    "        temp.rename(columns={\"congestion_index\": \"congestion_index_\" + str(elem)}, inplace = True)\n",
    "        nci_5pct.append(temp)\n",
    "\n",
    "\n",
    "\n",
    "nci_5pct_df = pd.merge(nci_5pct[0], nci_5pct[1], on=['road_type','hour'], how='left')\n",
    "for elem in range(2,10,1):\n",
    "    nci_5pct_df = pd.merge(nci_5pct_df, nci_5pct[elem], on = ['road_type', 'hour'], how='left')    \n",
    "    \n",
    "nci_5pct_df['congestion_index_mean'] = nci_5pct_df.iloc[: ,2:11].mean(axis=1)\n",
    "nci_5pct_df.insert(13, 'sample_size', \"5-pct\")\n",
    "nci_5pct_df.insert(14, 'alpha', 1.0)\n",
    "nci_5pct_df.insert(15, 'stuck_time', 30.0)\n",
    "nci_5pct_df.insert(16,'global_seed', \"default\")\n"
   ]
  },
  {
   "cell_type": "code",
   "execution_count": 53,
   "metadata": {},
   "outputs": [],
   "source": [
    "nci_5pct_sCf = []\n",
    "for elem in range(1,11,1):\n",
    "    if (elem == 6):\n",
    "        path = \"/home/lola/math_cluster/output/output-lausitz-5.0-pct-6-fCf_0.05_sCF_0.10574_gS_4711_3765/analysis/traffic/traffic_stats_by_road_type_and_hour.csv\" \n",
    "        temp = pd.read_csv(path, sep=\",\")\n",
    "        temp.rename(columns={\"congestion_index\": \"congestion_index_\" + str(elem)}, inplace = True)\n",
    "        nci_5pct_sCf.append(temp)\n",
    "\n",
    "    else: \n",
    "    #           /home/lola/math_cluster/output/output-lausitz-5.0-pct-7-fCf_0.05_sCF_0.10574_gS_4711_3765/analysis/traffic/traffic_stats_by_road_type_and_hour.csv\n",
    "        path = \"/home/lola/math_cluster/output/output-lausitz-5.0-pct-\"+ str(elem) + \"-fCf_0.05_sCF_0.10574_gS_4711_3765/analysis/traffic/traffic_stats_by_road_type_and_hour.csv\" \n",
    "        temp = pd.read_csv(path, sep=\",\")\n",
    "        temp.rename(columns={\"congestion_index\": \"congestion_index_\" + str(elem)}, inplace = True)\n",
    "        nci_5pct_sCf.append(temp)\n",
    "\n",
    "nci_5pct_sCf_df = pd.merge(nci_5pct_sCf[0], nci_5pct_sCf[1], on=['road_type','hour'], how='left')\n",
    "for elem in range(2,10,1):\n",
    "    nci_5pct_sCf_df = pd.merge(nci_5pct_sCf_df, nci_5pct_sCf[elem], on = ['road_type', 'hour'], how='left')    \n",
    "    \n",
    "nci_5pct_sCf_df['congestion_index_mean'] = nci_5pct_sCf_df.iloc[: ,2:11].mean(axis=1)\n",
    "nci_5pct_sCf_df.insert(13, 'sample_size', \"5-pct\")\n",
    "nci_5pct_sCf_df.insert(14, 'alpha',0.75)\n",
    "nci_5pct_sCf_df.insert(15, 'stuck_time', 30.0)\n",
    "nci_5pct_sCf_df.insert(16,'global_seed', \"default\")"
   ]
  },
  {
   "cell_type": "code",
   "execution_count": 54,
   "metadata": {},
   "outputs": [],
   "source": [
    "# random global seed\n",
    "nci_5pct_rGs = []\n",
    "\n",
    "rGs = [ 4711,3254, 2306, 6384,4338, 6003, 5502, 9377, 5621, 9002 ]\n",
    "for seed in rGs:\n",
    "    if (seed == 4711):\n",
    "        global_seed = \"rnd_\" + str(seed)\n",
    "        temp = nci_5pct_df[[\"road_type\", \"hour\", \"congestion_index_1\"]].copy()\n",
    "        nci_5pct_rGs.append(temp)\n",
    "    elif (seed == 3254):\n",
    "        global_seed  = \"rnd_\" + str(seed)\n",
    "        path =\"/home/lola/math_cluster/output/output-lausitz-5.0-pct-1-fCf_sCF_0.05_gS_3254_3765/analysis/traffic/traffic_stats_by_road_type_and_hour.csv\"\n",
    "        temp = pd.read_csv(path, sep = \",\")\n",
    "        temp.rename(columns={\"congestion_index\": \"congestion_index_\" + str(rGs.index(seed) + 1)}, inplace = True)\n",
    "        nci_5pct_rGs.append(temp)\n",
    "        \n",
    "    else:\n",
    "        if (seed == 6384 or seed == 6003):\n",
    "            continue\n",
    "        global_seed  = \"rnd_\" + str(seed)\n",
    "        path = \"/home/lola/math_cluster/output/output-lausitz-5.0-pct-1-fCf_sCF_0.05_gS_\" + str(seed) + \"_3765/analysis/traffic/traffic_stats_by_road_type_and_hour.csv\"\n",
    "        temp = pd.read_csv(path, sep = \",\")\n",
    "        temp.rename(columns={\"congestion_index\": \"congestion_index_\" + str(rGs.index(seed) + 1)}, inplace = True)\n",
    "        nci_5pct_rGs.append(temp)\n",
    "\n",
    "\n",
    "nci_5pct_rGs_df = pd.merge(nci_5pct_rGs[0], nci_5pct_rGs[1], on=['road_type','hour'], how='left')\n",
    "for elem in range(2,8,1):\n",
    "    nci_5pct_rGs_df = pd.merge(nci_5pct_rGs_df, nci_5pct_rGs[elem], on = ['road_type', 'hour'], how='left')\n",
    "\n",
    "nci_5pct_rGs_df['congestion_index_mean'] = nci_5pct_rGs_df.iloc[: ,2:9].mean(axis=1)\n",
    "nci_5pct_rGs_df.insert(11, 'sample_size', \"5-pct\")\n",
    "nci_5pct_rGs_df.insert(12, 'alpha', 1.0)\n",
    "nci_5pct_rGs_df.insert(13, 'stuck_time', 30.0)\n",
    "nci_5pct_rGs_df.insert(14,'global_seed', \"rnd\")\n",
    "\n",
    "\n",
    "#  [Errno 2] No such file or directory: '/home/lola/math_cluster/output/output-lausitz-5.0-pct-1-fCf_sCF_0.05_gS_6384_3765/analysis/traffic/traffic_stats_by_road_type_and_hour.csv'\n",
    "# 6003 auch nicht"
   ]
  },
  {
   "cell_type": "code",
   "execution_count": 55,
   "metadata": {},
   "outputs": [],
   "source": [
    "# 5 pct, alpha 1.0, sT scaled\n",
    "nci_5pct_sT = []\n",
    "for elem in range(1,11,1):\n",
    "    path = \"/home/lola/math_cluster/output/output-lausitz-5-pct-\" + str(elem) + \"-fCf_sCF_0.05_gS_4711_sT_600.0_3765/analysis/traffic/traffic_stats_by_road_type_and_hour.csv\"\n",
    "    temp = pd.read_csv(path)\n",
    "    temp.rename(columns={\"congestion_index\": \"congestion_index_\" + str(elem)}, inplace = True)\n",
    "    nci_5pct_sT.append(temp)\n",
    "\n",
    "nci_5pct_sT_df = pd.merge(nci_5pct_sT[0], nci_5pct_sT[1], on=['road_type','hour'], how='left')\n",
    "for elem in range(2,10,1):\n",
    "    nci_5pct_sT_df = pd.merge(nci_5pct_sT_df, nci_5pct_sT[elem], on = ['road_type', 'hour'], how='left')\n",
    "\n",
    "\n",
    "nci_5pct_sT_df['congestion_index_mean'] = nci_5pct_sT_df.iloc[: ,2:11].mean(axis=1)\n",
    "nci_5pct_sT_df.insert(13, 'sample_size', \"5-pct\")\n",
    "nci_5pct_sT_df.insert(14, 'alpha',1.0)\n",
    "nci_5pct_sT_df.insert(15, 'stuck_time', 600.0)\n",
    "nci_5pct_sT_df.insert(16,'global_seed', \"default\")\n",
    "\n"
   ]
  },
  {
   "cell_type": "code",
   "execution_count": 56,
   "metadata": {},
   "outputs": [],
   "source": [
    "nci_5pct_sT_sCf = []\n",
    "for elem in range(1,11,1):\n",
    "    path = \"/home/lola/math_cluster/output/output-lausitz-5-pct-\" + str(elem) + \"-fCf_0.05_sCF_0.10574_gS_4711_sT_600.0_3765/analysis/traffic/traffic_stats_by_road_type_and_hour.csv\"\n",
    "    temp = pd.read_csv(path)\n",
    "    temp.rename(columns={\"congestion_index\": \"congestion_index_\" + str(elem)}, inplace = True)\n",
    "    nci_5pct_sT_sCf.append(temp)\n",
    "\n",
    "nci_5pct_sT_sCf_df = pd.merge(nci_5pct_sT_sCf[0], nci_5pct_sT_sCf[1], on=['road_type','hour'], how='left')\n",
    "for elem in range(2,10,1):\n",
    "    nci_5pct_sT_sCf_df = pd.merge(nci_5pct_sT_sCf_df, nci_5pct_sT_sCf[elem], on = ['road_type', 'hour'], how='left')\n",
    "    \n",
    "nci_5pct_sT_sCf_df['congestion_index_mean'] = nci_5pct_sT_sCf_df.iloc[: ,2:11].mean(axis=1)\n",
    "nci_5pct_sT_sCf_df.insert(13, 'sample_size', \"5-pct\")\n",
    "nci_5pct_sT_sCf_df.insert(14, 'alpha',0.75)\n",
    "nci_5pct_sT_sCf_df.insert(15, 'stuck_time', 600.0)\n",
    "nci_5pct_sT_sCf_df.insert(16,'global_seed', \"default\")\n"
   ]
  },
  {
   "cell_type": "code",
   "execution_count": 57,
   "metadata": {},
   "outputs": [],
   "source": [
    "nci_5pct_all = pd.concat([nci_5pct_df, nci_5pct_sCf_df,nci_5pct_rGs_df, nci_5pct_sT_df, nci_5pct_sT_sCf_df], axis = 0)"
   ]
  },
  {
   "cell_type": "code",
   "execution_count": 58,
   "metadata": {},
   "outputs": [],
   "source": [
    "nci_5pct_all.to_csv('/home/lola/Nextcloud/Masterarbeit/03_Outputs/nci_all_5pct_samples.csv', index = False) "
   ]
  },
  {
   "cell_type": "markdown",
   "metadata": {},
   "source": [
    "#### 10 pct"
   ]
  },
  {
   "cell_type": "code",
   "execution_count": 59,
   "metadata": {},
   "outputs": [],
   "source": [
    "nci_10pct = []\n",
    "for elem in range(1,11,1):\n",
    "        path = \"/home/lola/math_cluster/output/output-lausitz-10.0-pct-\"+ str(elem) + \"-fCf_sCF_0.1_gS_4711_3765/analysis/traffic/traffic_stats_by_road_type_and_hour.csv\" \n",
    "        temp = pd.read_csv(path)\n",
    "        temp.rename(columns={\"congestion_index\": \"congestion_index_\" + str(elem)}, inplace = True)\n",
    "        nci_10pct.append(temp)\n",
    "\n",
    "nci_10pct_df = pd.merge(nci_10pct[0], nci_10pct[1], on=['road_type','hour'], how='left')\n",
    "for elem in range(2,10,1):\n",
    "    nci_10pct_df = pd.merge(nci_10pct_df, nci_10pct[elem], on = ['road_type', 'hour'], how='left')\n",
    "    \n",
    "nci_10pct_df['congestion_index_mean'] = nci_10pct_df.iloc[: ,2:11].mean(axis=1)        \n",
    "nci_10pct_df.insert(13, 'sample_size', \"10-pct\")\n",
    "nci_10pct_df.insert(14, 'alpha',1.0)\n",
    "nci_10pct_df.insert(15, 'stuck_time', 30.0)\n",
    "nci_10pct_df.insert(16,'global_seed', \"default\")\n",
    "\n"
   ]
  },
  {
   "cell_type": "code",
   "execution_count": 60,
   "metadata": {},
   "outputs": [],
   "source": [
    "nci_10pct_sCf = []\n",
    "for elem in range(1,11,1):\n",
    "        path = \"/home/lola/math_cluster/output/output-lausitz-10.0-pct-\"+ str(elem) + \"-fCf_0.1_sCF_0.17783_gS_4711_3765/analysis/traffic/traffic_stats_by_road_type_and_hour.csv\" \n",
    "        temp = pd.read_csv(path)\n",
    "        temp.rename(columns={\"congestion_index\": \"congestion_index_\" + str(elem)}, inplace = True)\n",
    "        nci_10pct_sCf.append(temp)\n",
    "\n",
    "nci_10pct_sCf_df = pd.merge(nci_10pct_sCf[0], nci_10pct_sCf[1], on=['road_type','hour'], how='left')\n",
    "for elem in range(2,10,1):\n",
    "    nci_10pct_sCf_df = pd.merge(nci_10pct_sCf_df, nci_10pct_sCf[elem], on = ['road_type', 'hour'], how='left')\n",
    "\n",
    "\n",
    "nci_10pct_sCf_df['congestion_index_mean'] = nci_10pct_sCf_df.iloc[: ,2:11].mean(axis=1)  \n",
    "nci_10pct_sCf_df.insert(13, 'sample_size', \"10-pct\")\n",
    "nci_10pct_sCf_df.insert(14, 'alpha',0.75)\n",
    "nci_10pct_sCf_df.insert(15, 'stuck_time', 30.0)\n",
    "nci_10pct_sCf_df.insert(16,'global_seed', \"default\")\n"
   ]
  },
  {
   "cell_type": "code",
   "execution_count": 61,
   "metadata": {},
   "outputs": [],
   "source": [
    "nci_10pct_sT = []\n",
    "for elem in range(1,11,1):\n",
    "    path = \"/home/lola/math_cluster/output/output-lausitz-10-pct-\"+ str(elem) + \"-fCf_sCF_0.1_gS_4711_sT_300.0_3765/analysis/traffic/traffic_stats_by_road_type_and_hour.csv\"\n",
    "    temp = pd.read_csv(path, sep=\",\")\n",
    "    temp.rename(columns={\"congestion_index\": \"congestion_index_\" + str(elem)}, inplace = True)\n",
    "    nci_10pct_sT.append(temp)\n",
    "\n",
    "nci_10pct_sT_df = pd.merge(nci_10pct_sT[0], nci_10pct_sT[1], on=['road_type','hour'], how='left')\n",
    "for elem in range(2,10,1):\n",
    "    nci_10pct_sT_df = pd.merge(nci_10pct_sT_df, nci_10pct_sT[elem], on = ['road_type', 'hour'], how='left')\n",
    "\n",
    "\n",
    "nci_10pct_sT_df['congestion_index_mean'] = nci_10pct_sT_df.iloc[: ,2:11].mean(axis=1)  \n",
    "\n",
    "\n",
    "nci_10pct_sT_df.insert(13, 'sample_size', \"10-pct\")\n",
    "nci_10pct_sT_df.insert(14, 'alpha',1.0)\n",
    "nci_10pct_sT_df.insert(15, 'stuck_time', 300.0)\n",
    "nci_10pct_sT_df.insert(16,'global_seed', \"default\")\n"
   ]
  },
  {
   "cell_type": "code",
   "execution_count": 62,
   "metadata": {},
   "outputs": [],
   "source": [
    "nci_10pct_sT_sCf = []\n",
    "for elem in range(1,11,1):\n",
    "    if (elem == 2):\n",
    "        continue\n",
    "    path = \"/home/lola/math_cluster/output/output-lausitz-10-pct-\" +str(elem) + \"-fCf_0.1_sCF_0.17783_gS_4711_sT_300.0_3765/analysis/traffic/traffic_stats_by_road_type_and_hour.csv\"\n",
    "    temp = pd.read_csv(path, sep=\",\")\n",
    "    temp.rename(columns={\"congestion_index\": \"congestion_index_\" + str(elem)}, inplace = True)\n",
    "    nci_10pct_sT_sCf.append(temp)\n",
    "\n",
    "\n",
    "nci_10pct_sT_sCf_df = pd.merge(nci_10pct_sT_sCf[0], nci_10pct_sT_sCf[1], on=['road_type','hour'], how='left')\n",
    "for elem in range(2,9,1):\n",
    "    nci_10pct_sT_sCf_df = pd.merge(nci_10pct_sT_sCf_df, nci_10pct_sT_sCf[elem], on = ['road_type', 'hour'], how='left')\n",
    "\n",
    "\n",
    "nci_10pct_sT_sCf_df['congestion_index_mean'] = nci_10pct_sT_sCf_df.iloc[: ,2:10].mean(axis=1) \n",
    "nci_10pct_sT_sCf_df.insert(12, 'sample_size', \"10-pct\")\n",
    "nci_10pct_sT_sCf_df.insert(13, 'alpha',0.75)\n",
    "nci_10pct_sT_sCf_df.insert(14, 'stuck_time', 300.0)\n",
    "nci_10pct_sT_sCf_df.insert(15,'global_seed', \"default\")\n",
    "\n",
    "\n",
    "# 2 nicht da, fehlerhaft!!"
   ]
  },
  {
   "cell_type": "code",
   "execution_count": 63,
   "metadata": {},
   "outputs": [],
   "source": [
    "nci_10pct_all = pd.concat([nci_10pct_df, nci_10pct_sCf_df, nci_10pct_sT_df, nci_10pct_sT_sCf_df], axis = 0)"
   ]
  },
  {
   "cell_type": "code",
   "execution_count": 64,
   "metadata": {},
   "outputs": [],
   "source": [
    "nci_10pct_all.to_csv('/home/lola/Nextcloud/Masterarbeit/03_Outputs/nci_10pct_samples_some_missing.csv', index = False) "
   ]
  },
  {
   "cell_type": "markdown",
   "metadata": {},
   "source": [
    "#### 25 pct"
   ]
  },
  {
   "cell_type": "code",
   "execution_count": 65,
   "metadata": {},
   "outputs": [],
   "source": [
    "path = \"/home/lola/math_cluster/output/output-lausitz-25.0-pct-fCf_sCF_0.25_gS_4711_3765/analysis/traffic/traffic_stats_by_road_type_and_hour.csv\"\n",
    "nci_25pct = pd.DataFrame(pd.read_csv(path, sep = \",\"))\n",
    "nci_25pct.rename(columns={\"congestion_index\": \"congestion_index_mean\"}, inplace = True)\n",
    "nci_25pct.insert(3, 'sample_size', \"25-pct\")\n",
    "nci_25pct.insert(4, 'alpha',1.0)\n",
    "nci_25pct.insert(5, 'stuck_time', 30.0)\n",
    "nci_25pct.insert(6,'global_seed', \"default\")\n"
   ]
  },
  {
   "cell_type": "code",
   "execution_count": 66,
   "metadata": {},
   "outputs": [],
   "source": [
    "\n",
    "\n",
    "path = \"/home/lola/math_cluster/output/output-lausitz-25.0-pct-fCf_0.25_sCF_0.35355_gS_4711_3765/analysis/traffic/traffic_stats_by_road_type_and_hour.csv\"\n",
    "nci_25pct_sCf = pd.DataFrame(pd.read_csv(path, sep = \",\"))\n",
    "nci_25pct_sCf.rename(columns={\"congestion_index\": \"congestion_index_mean\"}, inplace = True)\n",
    "nci_25pct_sCf.insert(3, 'sample_size', \"25-pct\")\n",
    "nci_25pct_sCf.insert(4, 'alpha',0.75)\n",
    "nci_25pct_sCf.insert(5, 'stuck_time', 30.0)\n",
    "nci_25pct_sCf.insert(6,'global_seed', \"default\")\n",
    "\n",
    "path = \"/home/lola/math_cluster/output/output-lausitz-25-pct-1-fCf_sCF_0.25_gS_4711_sT_120.0_3765/analysis/traffic/traffic_stats_by_road_type_and_hour.csv\"\n",
    "nci_25pct_sT = pd.DataFrame(pd.read_csv(path, sep = \",\"))\n",
    "nci_25pct_sT.rename(columns={\"congestion_index\": \"congestion_index_mean\"}, inplace = True)\n",
    "nci_25pct_sT.insert(3, 'sample_size', \"25-pct\")\n",
    "nci_25pct_sT.insert(4, 'alpha',1.0)\n",
    "nci_25pct_sT.insert(5, 'stuck_time',120.0)\n",
    "nci_25pct_sT.insert(6,'global_seed', \"default\")\n",
    "\n",
    "#path = \"\"\n",
    "#nci_25pct_sT_sCf = pd.DataFrame(pd.read_csv(path, sep = \",\"))\n",
    "#nci_25pct_sT_sCf.insert(3, 'sample_size', \"25-pct\")\n",
    "#nci_25pct_sT_sCf.insert(4, 'sample_nr', 1)\n",
    "#nci_25pct_sT_sCf.insert(5, 'alpha',0.75)\n",
    "#nci_25pct_sT_sCf.insert(6, 'stuck_time',120.0)\n",
    "#nci_25pct_sT_sCf.insert(7,'global_seed', \"default\")\n",
    "\n",
    "# FEHLT\n"
   ]
  },
  {
   "cell_type": "code",
   "execution_count": 67,
   "metadata": {},
   "outputs": [],
   "source": [
    "nci_25pct_all = pd.concat([nci_25pct, nci_25pct_sCf, nci_25pct_sT], axis = 0)"
   ]
  },
  {
   "cell_type": "code",
   "execution_count": 68,
   "metadata": {},
   "outputs": [],
   "source": [
    "nci_25pct_all.to_csv('/home/lola/Nextcloud/Masterarbeit/03_Outputs/nci_25pct_samples_sCf_sT_missing.csv', index = False) "
   ]
  },
  {
   "cell_type": "markdown",
   "metadata": {},
   "source": [
    "#### 50 pct"
   ]
  },
  {
   "cell_type": "code",
   "execution_count": 69,
   "metadata": {},
   "outputs": [],
   "source": [
    "path = \"/home/lola/math_cluster/output/output-lausitz-50.0-pct-fCf_sCF_0.5_gS_4711_3765/analysis/traffic/traffic_stats_by_road_type_and_hour.csv\"\n",
    "nci_50pct = pd.DataFrame(pd.read_csv(path, sep = \",\"))\n",
    "nci_50pct.rename(columns={\"congestion_index\": \"congestion_index_mean\"}, inplace = True)\n",
    "nci_50pct.insert(3, 'sample_size', \"50-pct\")\n",
    "nci_50pct.insert(4, 'alpha',1.0)\n",
    "nci_50pct.insert(5, 'stuck_time', 30.0)\n",
    "nci_50pct.insert(6,'global_seed', \"default\")\n",
    "\n",
    "\n",
    "path = \"/home/lola/math_cluster/output/output-lausitz-50.0-pct-fCf_0.5_sCF_0.5946_gS_4711_3765/analysis/traffic/traffic_stats_by_road_type_and_hour.csv\"\n",
    "nci_50pct_sCf = pd.DataFrame(pd.read_csv(path, sep = \",\"))\n",
    "nci_25pct_sCf.rename(columns={\"congestion_index\": \"congestion_index_mean\"}, inplace = True)\n",
    "nci_50pct_sCf.insert(3, 'sample_size', \"50-pct\")\n",
    "nci_50pct_sCf.insert(4, 'alpha',0.75)\n",
    "nci_50pct_sCf.insert(5, 'stuck_time', 30.0)\n",
    "nci_50pct_sCf.insert(6,'global_seed', \"default\")\n",
    "\n",
    "\n",
    "path = \"/home/lola/math_cluster/output/output-lausitz-50-pct-1-fCf_sCF_0.5_gS_4711_sT_60.0_3765/analysis/traffic/traffic_stats_by_road_type_and_hour.csv\"\n",
    "nci_50pct_sT = pd.DataFrame(pd.read_csv(path, sep = \",\"))\n",
    "nci_50pct_sT.rename(columns={\"congestion_index\": \"congestion_index_mean\"}, inplace = True)\n",
    "nci_50pct_sT.insert(3, 'sample_size', \"50-pct\")\n",
    "nci_50pct_sT.insert(4, 'alpha',1.0)\n",
    "nci_50pct_sT.insert(5, 'stuck_time', 60.0)\n",
    "nci_50pct_sT.insert(6,'global_seed', \"default\")\n",
    "\n",
    "path = \"/home/lola/math_cluster/output/output-lausitz-50-pct-1-fCf_0.5_sCF_0.5946_gS_4711_sT_60.0_3765/analysis/traffic/traffic_stats_by_road_type_and_hour.csv\"\n",
    "nci_50pct_sT_sCf = pd.DataFrame(pd.read_csv(path, sep = \",\"))\n",
    "nci_50pct_sT_sCf.rename(columns={\"congestion_index\": \"congestion_index_mean\"}, inplace = True)\n",
    "nci_50pct_sT_sCf.insert(3, 'sample_size', \"50-pct\")\n",
    "nci_50pct_sT_sCf.insert(4, 'alpha',0.75)\n",
    "nci_50pct_sT_sCf.insert(5, 'stuck_time', 60.0)\n",
    "nci_50pct_sT_sCf.insert(6,'global_seed', \"default\")\n",
    "\n"
   ]
  },
  {
   "cell_type": "code",
   "execution_count": 70,
   "metadata": {},
   "outputs": [],
   "source": [
    "nci_50pct_all = pd.concat([nci_50pct, nci_50pct_sCf, nci_50pct_sT, nci_50pct_sT_sCf], axis = 0)"
   ]
  },
  {
   "cell_type": "code",
   "execution_count": 71,
   "metadata": {},
   "outputs": [],
   "source": [
    "nci_50pct_all.to_csv('/home/lola/Nextcloud/Masterarbeit/03_Outputs/nci_50pct_samples.csv', index = False) "
   ]
  },
  {
   "cell_type": "markdown",
   "metadata": {},
   "source": [
    "#### 100 pct"
   ]
  },
  {
   "cell_type": "code",
   "execution_count": 72,
   "metadata": {},
   "outputs": [],
   "source": [
    "path = \"/home/lola/math_cluster/output/output-lausitz-100.0-pct-fCf_sCF_1.0_gS_4711_3765/analysis/traffic/traffic_stats_by_road_type_and_hour.csv\"\n",
    "nci_100pct = pd.DataFrame(pd.read_csv(path, sep = \",\"))\n",
    "nci_100pct.rename(columns={\"congestion_index\": \"congestion_index_mean\"}, inplace = True)\n",
    "nci_100pct.insert(3, 'sample_size', \"100-pct\")\n",
    "nci_100pct.insert(4, 'alpha',1.0)\n",
    "nci_100pct.insert(5, 'stuck_time', 30.0)\n",
    "nci_100pct.insert(6,'global_seed', \"default\")"
   ]
  },
  {
   "cell_type": "markdown",
   "metadata": {},
   "source": [
    "#### concat and write csv"
   ]
  },
  {
   "cell_type": "code",
   "execution_count": 73,
   "metadata": {},
   "outputs": [],
   "source": [
    "nci_all = pd.concat([nci_1pct_all, nci_5pct_all, nci_10pct_all, nci_25pct_all, nci_50pct_all, nci_100pct], axis = 0)"
   ]
  },
  {
   "cell_type": "code",
   "execution_count": 74,
   "metadata": {},
   "outputs": [
    {
     "data": {
      "text/html": [
       "<div>\n",
       "<style scoped>\n",
       "    .dataframe tbody tr th:only-of-type {\n",
       "        vertical-align: middle;\n",
       "    }\n",
       "\n",
       "    .dataframe tbody tr th {\n",
       "        vertical-align: top;\n",
       "    }\n",
       "\n",
       "    .dataframe thead th {\n",
       "        text-align: right;\n",
       "    }\n",
       "</style>\n",
       "<table border=\"1\" class=\"dataframe\">\n",
       "  <thead>\n",
       "    <tr style=\"text-align: right;\">\n",
       "      <th></th>\n",
       "      <th>road_type</th>\n",
       "      <th>hour</th>\n",
       "      <th>congestion_index_1</th>\n",
       "      <th>congestion_index_2</th>\n",
       "      <th>congestion_index_3</th>\n",
       "      <th>congestion_index_4</th>\n",
       "      <th>congestion_index_5</th>\n",
       "      <th>congestion_index_6</th>\n",
       "      <th>congestion_index_7</th>\n",
       "      <th>congestion_index_8</th>\n",
       "      <th>congestion_index_9</th>\n",
       "      <th>congestion_index_10</th>\n",
       "      <th>congestion_index_mean</th>\n",
       "      <th>sample_size</th>\n",
       "      <th>alpha</th>\n",
       "      <th>stuck_time</th>\n",
       "      <th>global_seed</th>\n",
       "      <th>congestion_index</th>\n",
       "    </tr>\n",
       "  </thead>\n",
       "  <tbody>\n",
       "    <tr>\n",
       "      <th>0</th>\n",
       "      <td>all</td>\n",
       "      <td>0</td>\n",
       "      <td>0.801976</td>\n",
       "      <td>0.801968</td>\n",
       "      <td>0.801976</td>\n",
       "      <td>0.801976</td>\n",
       "      <td>0.801976</td>\n",
       "      <td>0.801976</td>\n",
       "      <td>0.801976</td>\n",
       "      <td>0.801976</td>\n",
       "      <td>0.801976</td>\n",
       "      <td>0.801976</td>\n",
       "      <td>0.801975</td>\n",
       "      <td>1-pct</td>\n",
       "      <td>1.0</td>\n",
       "      <td>30.0</td>\n",
       "      <td>default</td>\n",
       "      <td>NaN</td>\n",
       "    </tr>\n",
       "    <tr>\n",
       "      <th>1</th>\n",
       "      <td>all</td>\n",
       "      <td>1</td>\n",
       "      <td>0.801976</td>\n",
       "      <td>0.801968</td>\n",
       "      <td>0.801976</td>\n",
       "      <td>0.801972</td>\n",
       "      <td>0.801976</td>\n",
       "      <td>0.801976</td>\n",
       "      <td>0.801976</td>\n",
       "      <td>0.801976</td>\n",
       "      <td>0.801976</td>\n",
       "      <td>0.801975</td>\n",
       "      <td>0.801975</td>\n",
       "      <td>1-pct</td>\n",
       "      <td>1.0</td>\n",
       "      <td>30.0</td>\n",
       "      <td>default</td>\n",
       "      <td>NaN</td>\n",
       "    </tr>\n",
       "    <tr>\n",
       "      <th>2</th>\n",
       "      <td>all</td>\n",
       "      <td>2</td>\n",
       "      <td>0.801976</td>\n",
       "      <td>0.801946</td>\n",
       "      <td>0.801976</td>\n",
       "      <td>0.801961</td>\n",
       "      <td>0.801974</td>\n",
       "      <td>0.801975</td>\n",
       "      <td>0.801972</td>\n",
       "      <td>0.801976</td>\n",
       "      <td>0.801974</td>\n",
       "      <td>0.801972</td>\n",
       "      <td>0.801970</td>\n",
       "      <td>1-pct</td>\n",
       "      <td>1.0</td>\n",
       "      <td>30.0</td>\n",
       "      <td>default</td>\n",
       "      <td>NaN</td>\n",
       "    </tr>\n",
       "    <tr>\n",
       "      <th>3</th>\n",
       "      <td>all</td>\n",
       "      <td>3</td>\n",
       "      <td>0.801939</td>\n",
       "      <td>0.801905</td>\n",
       "      <td>0.801965</td>\n",
       "      <td>0.801924</td>\n",
       "      <td>0.801942</td>\n",
       "      <td>0.801929</td>\n",
       "      <td>0.801944</td>\n",
       "      <td>0.801882</td>\n",
       "      <td>0.801942</td>\n",
       "      <td>0.801906</td>\n",
       "      <td>0.801930</td>\n",
       "      <td>1-pct</td>\n",
       "      <td>1.0</td>\n",
       "      <td>30.0</td>\n",
       "      <td>default</td>\n",
       "      <td>NaN</td>\n",
       "    </tr>\n",
       "    <tr>\n",
       "      <th>4</th>\n",
       "      <td>all</td>\n",
       "      <td>4</td>\n",
       "      <td>0.801758</td>\n",
       "      <td>0.801818</td>\n",
       "      <td>0.801662</td>\n",
       "      <td>0.801832</td>\n",
       "      <td>0.801710</td>\n",
       "      <td>0.801658</td>\n",
       "      <td>0.801599</td>\n",
       "      <td>0.801789</td>\n",
       "      <td>0.801636</td>\n",
       "      <td>0.801557</td>\n",
       "      <td>0.801718</td>\n",
       "      <td>1-pct</td>\n",
       "      <td>1.0</td>\n",
       "      <td>30.0</td>\n",
       "      <td>default</td>\n",
       "      <td>NaN</td>\n",
       "    </tr>\n",
       "    <tr>\n",
       "      <th>...</th>\n",
       "      <td>...</td>\n",
       "      <td>...</td>\n",
       "      <td>...</td>\n",
       "      <td>...</td>\n",
       "      <td>...</td>\n",
       "      <td>...</td>\n",
       "      <td>...</td>\n",
       "      <td>...</td>\n",
       "      <td>...</td>\n",
       "      <td>...</td>\n",
       "      <td>...</td>\n",
       "      <td>...</td>\n",
       "      <td>...</td>\n",
       "      <td>...</td>\n",
       "      <td>...</td>\n",
       "      <td>...</td>\n",
       "      <td>...</td>\n",
       "      <td>...</td>\n",
       "    </tr>\n",
       "    <tr>\n",
       "      <th>331</th>\n",
       "      <td>unclassified</td>\n",
       "      <td>19</td>\n",
       "      <td>NaN</td>\n",
       "      <td>NaN</td>\n",
       "      <td>NaN</td>\n",
       "      <td>NaN</td>\n",
       "      <td>NaN</td>\n",
       "      <td>NaN</td>\n",
       "      <td>NaN</td>\n",
       "      <td>NaN</td>\n",
       "      <td>NaN</td>\n",
       "      <td>NaN</td>\n",
       "      <td>0.744103</td>\n",
       "      <td>100-pct</td>\n",
       "      <td>1.0</td>\n",
       "      <td>30.0</td>\n",
       "      <td>default</td>\n",
       "      <td>NaN</td>\n",
       "    </tr>\n",
       "    <tr>\n",
       "      <th>332</th>\n",
       "      <td>unclassified</td>\n",
       "      <td>20</td>\n",
       "      <td>NaN</td>\n",
       "      <td>NaN</td>\n",
       "      <td>NaN</td>\n",
       "      <td>NaN</td>\n",
       "      <td>NaN</td>\n",
       "      <td>NaN</td>\n",
       "      <td>NaN</td>\n",
       "      <td>NaN</td>\n",
       "      <td>NaN</td>\n",
       "      <td>NaN</td>\n",
       "      <td>0.738027</td>\n",
       "      <td>100-pct</td>\n",
       "      <td>1.0</td>\n",
       "      <td>30.0</td>\n",
       "      <td>default</td>\n",
       "      <td>NaN</td>\n",
       "    </tr>\n",
       "    <tr>\n",
       "      <th>333</th>\n",
       "      <td>unclassified</td>\n",
       "      <td>21</td>\n",
       "      <td>NaN</td>\n",
       "      <td>NaN</td>\n",
       "      <td>NaN</td>\n",
       "      <td>NaN</td>\n",
       "      <td>NaN</td>\n",
       "      <td>NaN</td>\n",
       "      <td>NaN</td>\n",
       "      <td>NaN</td>\n",
       "      <td>NaN</td>\n",
       "      <td>NaN</td>\n",
       "      <td>0.742919</td>\n",
       "      <td>100-pct</td>\n",
       "      <td>1.0</td>\n",
       "      <td>30.0</td>\n",
       "      <td>default</td>\n",
       "      <td>NaN</td>\n",
       "    </tr>\n",
       "    <tr>\n",
       "      <th>334</th>\n",
       "      <td>unclassified</td>\n",
       "      <td>22</td>\n",
       "      <td>NaN</td>\n",
       "      <td>NaN</td>\n",
       "      <td>NaN</td>\n",
       "      <td>NaN</td>\n",
       "      <td>NaN</td>\n",
       "      <td>NaN</td>\n",
       "      <td>NaN</td>\n",
       "      <td>NaN</td>\n",
       "      <td>NaN</td>\n",
       "      <td>NaN</td>\n",
       "      <td>0.745181</td>\n",
       "      <td>100-pct</td>\n",
       "      <td>1.0</td>\n",
       "      <td>30.0</td>\n",
       "      <td>default</td>\n",
       "      <td>NaN</td>\n",
       "    </tr>\n",
       "    <tr>\n",
       "      <th>335</th>\n",
       "      <td>unclassified</td>\n",
       "      <td>23</td>\n",
       "      <td>NaN</td>\n",
       "      <td>NaN</td>\n",
       "      <td>NaN</td>\n",
       "      <td>NaN</td>\n",
       "      <td>NaN</td>\n",
       "      <td>NaN</td>\n",
       "      <td>NaN</td>\n",
       "      <td>NaN</td>\n",
       "      <td>NaN</td>\n",
       "      <td>NaN</td>\n",
       "      <td>0.738564</td>\n",
       "      <td>100-pct</td>\n",
       "      <td>1.0</td>\n",
       "      <td>30.0</td>\n",
       "      <td>default</td>\n",
       "      <td>NaN</td>\n",
       "    </tr>\n",
       "  </tbody>\n",
       "</table>\n",
       "<p>7392 rows × 18 columns</p>\n",
       "</div>"
      ],
      "text/plain": [
       "        road_type  hour  congestion_index_1  congestion_index_2  \\\n",
       "0             all     0            0.801976            0.801968   \n",
       "1             all     1            0.801976            0.801968   \n",
       "2             all     2            0.801976            0.801946   \n",
       "3             all     3            0.801939            0.801905   \n",
       "4             all     4            0.801758            0.801818   \n",
       "..            ...   ...                 ...                 ...   \n",
       "331  unclassified    19                 NaN                 NaN   \n",
       "332  unclassified    20                 NaN                 NaN   \n",
       "333  unclassified    21                 NaN                 NaN   \n",
       "334  unclassified    22                 NaN                 NaN   \n",
       "335  unclassified    23                 NaN                 NaN   \n",
       "\n",
       "     congestion_index_3  congestion_index_4  congestion_index_5  \\\n",
       "0              0.801976            0.801976            0.801976   \n",
       "1              0.801976            0.801972            0.801976   \n",
       "2              0.801976            0.801961            0.801974   \n",
       "3              0.801965            0.801924            0.801942   \n",
       "4              0.801662            0.801832            0.801710   \n",
       "..                  ...                 ...                 ...   \n",
       "331                 NaN                 NaN                 NaN   \n",
       "332                 NaN                 NaN                 NaN   \n",
       "333                 NaN                 NaN                 NaN   \n",
       "334                 NaN                 NaN                 NaN   \n",
       "335                 NaN                 NaN                 NaN   \n",
       "\n",
       "     congestion_index_6  congestion_index_7  congestion_index_8  \\\n",
       "0              0.801976            0.801976            0.801976   \n",
       "1              0.801976            0.801976            0.801976   \n",
       "2              0.801975            0.801972            0.801976   \n",
       "3              0.801929            0.801944            0.801882   \n",
       "4              0.801658            0.801599            0.801789   \n",
       "..                  ...                 ...                 ...   \n",
       "331                 NaN                 NaN                 NaN   \n",
       "332                 NaN                 NaN                 NaN   \n",
       "333                 NaN                 NaN                 NaN   \n",
       "334                 NaN                 NaN                 NaN   \n",
       "335                 NaN                 NaN                 NaN   \n",
       "\n",
       "     congestion_index_9  congestion_index_10  congestion_index_mean  \\\n",
       "0              0.801976             0.801976               0.801975   \n",
       "1              0.801976             0.801975               0.801975   \n",
       "2              0.801974             0.801972               0.801970   \n",
       "3              0.801942             0.801906               0.801930   \n",
       "4              0.801636             0.801557               0.801718   \n",
       "..                  ...                  ...                    ...   \n",
       "331                 NaN                  NaN               0.744103   \n",
       "332                 NaN                  NaN               0.738027   \n",
       "333                 NaN                  NaN               0.742919   \n",
       "334                 NaN                  NaN               0.745181   \n",
       "335                 NaN                  NaN               0.738564   \n",
       "\n",
       "    sample_size  alpha  stuck_time global_seed  congestion_index  \n",
       "0         1-pct    1.0        30.0     default               NaN  \n",
       "1         1-pct    1.0        30.0     default               NaN  \n",
       "2         1-pct    1.0        30.0     default               NaN  \n",
       "3         1-pct    1.0        30.0     default               NaN  \n",
       "4         1-pct    1.0        30.0     default               NaN  \n",
       "..          ...    ...         ...         ...               ...  \n",
       "331     100-pct    1.0        30.0     default               NaN  \n",
       "332     100-pct    1.0        30.0     default               NaN  \n",
       "333     100-pct    1.0        30.0     default               NaN  \n",
       "334     100-pct    1.0        30.0     default               NaN  \n",
       "335     100-pct    1.0        30.0     default               NaN  \n",
       "\n",
       "[7392 rows x 18 columns]"
      ]
     },
     "execution_count": 74,
     "metadata": {},
     "output_type": "execute_result"
    }
   ],
   "source": [
    "nci_all"
   ]
  },
  {
   "cell_type": "code",
   "execution_count": 75,
   "metadata": {},
   "outputs": [],
   "source": [
    "nci_all.to_csv('/home/lola/Nextcloud/Masterarbeit/03_Outputs/nci_100pct_samples_some_missing.csv', index = False) "
   ]
  },
  {
   "cell_type": "code",
   "execution_count": null,
   "metadata": {},
   "outputs": [],
   "source": []
  }
 ],
 "metadata": {
  "kernelspec": {
   "display_name": "Python 3",
   "language": "python",
   "name": "python3"
  },
  "language_info": {
   "codemirror_mode": {
    "name": "ipython",
    "version": 3
   },
   "file_extension": ".py",
   "mimetype": "text/x-python",
   "name": "python",
   "nbconvert_exporter": "python",
   "pygments_lexer": "ipython3",
   "version": "3.12.4"
  }
 },
 "nbformat": 4,
 "nbformat_minor": 2
}
